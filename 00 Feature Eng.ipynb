{
 "cells": [
  {
   "cell_type": "code",
   "execution_count": 2,
   "id": "386b2578",
   "metadata": {
    "colab": {
     "base_uri": "https://localhost:8080/"
    },
    "id": "386b2578",
    "outputId": "bd555666-089b-4722-ba37-04e8d3b7cd88"
   },
   "outputs": [],
   "source": [
    "#Importing libraries\n",
    "\n",
    "import pandas as pd\n",
    "import numpy as np\n",
    "from tqdm.notebook import tqdm\n",
    "import joblib\n",
    "import matplotlib.pyplot as plt\n",
    "import seaborn as sns\n",
    "\n",
    "from sklearn.linear_model import LogisticRegression\n",
    "from sklearn.model_selection import train_test_split\n",
    "from sklearn.ensemble import GradientBoostingClassifier\n",
    "from sklearn.model_selection import StratifiedKFold\n"
   ]
  },
  {
   "cell_type": "code",
   "execution_count": 3,
   "id": "195c9d90",
   "metadata": {
    "id": "195c9d90"
   },
   "outputs": [],
   "source": [
    "df = pd.read_csv(\"train_bank_marketing.csv\")"
   ]
  },
  {
   "cell_type": "code",
   "execution_count": 4,
   "id": "7c3377ec",
   "metadata": {
    "colab": {
     "base_uri": "https://localhost:8080/"
    },
    "id": "7c3377ec",
    "outputId": "6b35230b-e5ee-408a-ae26-581c8f91b52b"
   },
   "outputs": [
    {
     "data": {
      "text/plain": [
       "age                 int64\n",
       "job                object\n",
       "marital            object\n",
       "education          object\n",
       "default            object\n",
       "housing            object\n",
       "loan               object\n",
       "contact            object\n",
       "month              object\n",
       "day_of_week        object\n",
       "duration            int64\n",
       "campaign            int64\n",
       "pdays               int64\n",
       "previous            int64\n",
       "poutcome           object\n",
       "emp.var.rate      float64\n",
       "cons.price.idx    float64\n",
       "cons.conf.idx     float64\n",
       "euribor3m         float64\n",
       "nr.employed       float64\n",
       "y                   int64\n",
       "dtype: object"
      ]
     },
     "execution_count": 4,
     "metadata": {},
     "output_type": "execute_result"
    }
   ],
   "source": [
    "df.dtypes"
   ]
  },
  {
   "cell_type": "code",
   "execution_count": 5,
   "id": "83e28c20",
   "metadata": {
    "id": "83e28c20"
   },
   "outputs": [],
   "source": [
    "#Data Pre-Processing\n",
    "\n",
    "job = {\"admin.\":1,\"blue-collar\":2,\"entrepreneur\":3,\n",
    "       \"housemaid\":4,\"management\":5,\"retired\":6,\n",
    "       \"self-employed\":7,\"services\":8,\"student\":9,\n",
    "       \"technician\":10,\"unemployed\":11,\"unknown\":0}\n",
    "\n",
    "civil = {\"divorced\":1,\"married\":2,\"single\":3,\"unknown\":0}\n",
    "\n",
    "educ = {\"basic.4y\":1,\"basic.6y\":2,\"basic.9y\":3,\n",
    "        \"high.school\":4,\"illiterate\":5,\"professional.course\":6,\n",
    "        \"university.degree\":7,\"unknown\":0}\n",
    "\n",
    "binary = {\"no\":0,\"yes\":1,\"unknown\":1}\n",
    "\n",
    "contact = {\"cellular\":0,\"telephone\":1}\n",
    "\n",
    "month = {'jan': 1,\n",
    "        'feb': 2,\n",
    "        'mar': 3,\n",
    "        'apr': 4,\n",
    "        'may': 5,\n",
    "        'jun': 6,\n",
    "        'jul': 7,\n",
    "        'aug': 8,\n",
    "        'sep': 9,\n",
    "        'oct': 10,\n",
    "        'nov': 11,\n",
    "        'dec': 12}\n",
    "\n",
    "day = {\"mon\":1,\"tue\":2,\"wed\":3,\"thu\":4,\"fri\":5}\n",
    "poutcome = {\"failure\":0,\"nonexistent\":1,\"success\":2}\n"
   ]
  },
  {
   "cell_type": "code",
   "execution_count": 6,
   "id": "685ac18e",
   "metadata": {
    "id": "685ac18e"
   },
   "outputs": [],
   "source": [
    "df['job'] = df['job'].apply(lambda x: job[x])\n",
    "df['marital'] = df['marital'].apply(lambda x: civil[x])\n",
    "df['education'] = df['education'].apply(lambda x: educ[x])\n",
    "df['default'] = df['default'].apply(lambda x: binary[x])\n",
    "df['housing'] = df['housing'].apply(lambda x: binary[x])\n",
    "df['loan'] = df['loan'].apply(lambda x: binary[x])\n",
    "df['contact'] = df['contact'].apply(lambda x: contact[x])\n",
    "df['month'] = df['month'].apply(lambda x: month[x])\n",
    "df['day_of_week'] = df['day_of_week'].apply(lambda x: day[x])\n",
    "df['poutcome'] = df['poutcome'].apply(lambda x: poutcome[x])"
   ]
  },
  {
   "cell_type": "code",
   "execution_count": 7,
   "id": "mgG-nxeKyxNM",
   "metadata": {
    "id": "mgG-nxeKyxNM"
   },
   "outputs": [],
   "source": [
    "#Feature Engineering (Numeric Aggregation)\n",
    "\n",
    "grouped_df = df.groupby('job')\n",
    "\n",
    "df[['emp_mean', 'price_mean', 'conf_mean', 'euri_mean', 'nremp_mean']] = grouped_df[['emp.var.rate',  'cons.price.idx', 'cons.conf.idx', 'euribor3m', 'nr.employed']].transform('mean')\n",
    "\n",
    "df[['emp_std', 'price_std', 'conf_std', 'euri_std', 'nremp_std']] = grouped_df[['emp.var.rate',  'cons.price.idx', 'cons.conf.idx', 'euribor3m', 'nr.employed']].transform('std')\n",
    "\n",
    "df[['emp_count', 'price_count', 'conf_count', 'euri_count', 'nremp_count']] = grouped_df[['emp.var.rate',  'cons.price.idx', 'cons.conf.idx', 'euribor3m', 'nr.employed']].transform('count')"
   ]
  },
  {
   "cell_type": "code",
   "execution_count": 8,
   "id": "rfwIzQt2cEQn",
   "metadata": {
    "colab": {
     "base_uri": "https://localhost:8080/",
     "height": 488
    },
    "id": "rfwIzQt2cEQn",
    "outputId": "684d9a49-7ac2-4132-bfd6-00a24a25d1ad"
   },
   "outputs": [
    {
     "data": {
      "text/html": [
       "<div>\n",
       "<style scoped>\n",
       "    .dataframe tbody tr th:only-of-type {\n",
       "        vertical-align: middle;\n",
       "    }\n",
       "\n",
       "    .dataframe tbody tr th {\n",
       "        vertical-align: top;\n",
       "    }\n",
       "\n",
       "    .dataframe thead th {\n",
       "        text-align: right;\n",
       "    }\n",
       "</style>\n",
       "<table border=\"1\" class=\"dataframe\">\n",
       "  <thead>\n",
       "    <tr style=\"text-align: right;\">\n",
       "      <th></th>\n",
       "      <th>age</th>\n",
       "      <th>job</th>\n",
       "      <th>marital</th>\n",
       "      <th>education</th>\n",
       "      <th>default</th>\n",
       "      <th>housing</th>\n",
       "      <th>loan</th>\n",
       "      <th>contact</th>\n",
       "      <th>month</th>\n",
       "      <th>day_of_week</th>\n",
       "      <th>...</th>\n",
       "      <th>emp_std</th>\n",
       "      <th>price_std</th>\n",
       "      <th>conf_std</th>\n",
       "      <th>euri_std</th>\n",
       "      <th>nremp_std</th>\n",
       "      <th>emp_count</th>\n",
       "      <th>price_count</th>\n",
       "      <th>conf_count</th>\n",
       "      <th>euri_count</th>\n",
       "      <th>nremp_count</th>\n",
       "    </tr>\n",
       "  </thead>\n",
       "  <tbody>\n",
       "    <tr>\n",
       "      <th>0</th>\n",
       "      <td>43</td>\n",
       "      <td>5</td>\n",
       "      <td>2</td>\n",
       "      <td>0</td>\n",
       "      <td>1</td>\n",
       "      <td>0</td>\n",
       "      <td>0</td>\n",
       "      <td>0</td>\n",
       "      <td>4</td>\n",
       "      <td>4</td>\n",
       "      <td>...</td>\n",
       "      <td>1.530428</td>\n",
       "      <td>0.562251</td>\n",
       "      <td>4.552455</td>\n",
       "      <td>1.671139</td>\n",
       "      <td>68.939189</td>\n",
       "      <td>2228</td>\n",
       "      <td>2228</td>\n",
       "      <td>2228</td>\n",
       "      <td>2228</td>\n",
       "      <td>2228</td>\n",
       "    </tr>\n",
       "    <tr>\n",
       "      <th>1</th>\n",
       "      <td>30</td>\n",
       "      <td>1</td>\n",
       "      <td>2</td>\n",
       "      <td>7</td>\n",
       "      <td>0</td>\n",
       "      <td>0</td>\n",
       "      <td>0</td>\n",
       "      <td>0</td>\n",
       "      <td>7</td>\n",
       "      <td>5</td>\n",
       "      <td>...</td>\n",
       "      <td>1.619852</td>\n",
       "      <td>0.574460</td>\n",
       "      <td>4.750547</td>\n",
       "      <td>1.769459</td>\n",
       "      <td>75.893818</td>\n",
       "      <td>7840</td>\n",
       "      <td>7840</td>\n",
       "      <td>7840</td>\n",
       "      <td>7840</td>\n",
       "      <td>7840</td>\n",
       "    </tr>\n",
       "    <tr>\n",
       "      <th>2</th>\n",
       "      <td>55</td>\n",
       "      <td>1</td>\n",
       "      <td>2</td>\n",
       "      <td>1</td>\n",
       "      <td>0</td>\n",
       "      <td>0</td>\n",
       "      <td>0</td>\n",
       "      <td>1</td>\n",
       "      <td>6</td>\n",
       "      <td>4</td>\n",
       "      <td>...</td>\n",
       "      <td>1.619852</td>\n",
       "      <td>0.574460</td>\n",
       "      <td>4.750547</td>\n",
       "      <td>1.769459</td>\n",
       "      <td>75.893818</td>\n",
       "      <td>7840</td>\n",
       "      <td>7840</td>\n",
       "      <td>7840</td>\n",
       "      <td>7840</td>\n",
       "      <td>7840</td>\n",
       "    </tr>\n",
       "    <tr>\n",
       "      <th>3</th>\n",
       "      <td>34</td>\n",
       "      <td>10</td>\n",
       "      <td>3</td>\n",
       "      <td>7</td>\n",
       "      <td>0</td>\n",
       "      <td>0</td>\n",
       "      <td>0</td>\n",
       "      <td>0</td>\n",
       "      <td>10</td>\n",
       "      <td>5</td>\n",
       "      <td>...</td>\n",
       "      <td>1.515163</td>\n",
       "      <td>0.537007</td>\n",
       "      <td>4.560869</td>\n",
       "      <td>1.664106</td>\n",
       "      <td>71.333829</td>\n",
       "      <td>5067</td>\n",
       "      <td>5067</td>\n",
       "      <td>5067</td>\n",
       "      <td>5067</td>\n",
       "      <td>5067</td>\n",
       "    </tr>\n",
       "    <tr>\n",
       "      <th>4</th>\n",
       "      <td>32</td>\n",
       "      <td>2</td>\n",
       "      <td>2</td>\n",
       "      <td>2</td>\n",
       "      <td>1</td>\n",
       "      <td>0</td>\n",
       "      <td>0</td>\n",
       "      <td>1</td>\n",
       "      <td>5</td>\n",
       "      <td>4</td>\n",
       "      <td>...</td>\n",
       "      <td>1.444132</td>\n",
       "      <td>0.564063</td>\n",
       "      <td>4.141377</td>\n",
       "      <td>1.650958</td>\n",
       "      <td>59.721876</td>\n",
       "      <td>6914</td>\n",
       "      <td>6914</td>\n",
       "      <td>6914</td>\n",
       "      <td>6914</td>\n",
       "      <td>6914</td>\n",
       "    </tr>\n",
       "    <tr>\n",
       "      <th>...</th>\n",
       "      <td>...</td>\n",
       "      <td>...</td>\n",
       "      <td>...</td>\n",
       "      <td>...</td>\n",
       "      <td>...</td>\n",
       "      <td>...</td>\n",
       "      <td>...</td>\n",
       "      <td>...</td>\n",
       "      <td>...</td>\n",
       "      <td>...</td>\n",
       "      <td>...</td>\n",
       "      <td>...</td>\n",
       "      <td>...</td>\n",
       "      <td>...</td>\n",
       "      <td>...</td>\n",
       "      <td>...</td>\n",
       "      <td>...</td>\n",
       "      <td>...</td>\n",
       "      <td>...</td>\n",
       "      <td>...</td>\n",
       "      <td>...</td>\n",
       "    </tr>\n",
       "    <tr>\n",
       "      <th>30886</th>\n",
       "      <td>34</td>\n",
       "      <td>2</td>\n",
       "      <td>2</td>\n",
       "      <td>4</td>\n",
       "      <td>0</td>\n",
       "      <td>1</td>\n",
       "      <td>0</td>\n",
       "      <td>1</td>\n",
       "      <td>5</td>\n",
       "      <td>5</td>\n",
       "      <td>...</td>\n",
       "      <td>1.444132</td>\n",
       "      <td>0.564063</td>\n",
       "      <td>4.141377</td>\n",
       "      <td>1.650958</td>\n",
       "      <td>59.721876</td>\n",
       "      <td>6914</td>\n",
       "      <td>6914</td>\n",
       "      <td>6914</td>\n",
       "      <td>6914</td>\n",
       "      <td>6914</td>\n",
       "    </tr>\n",
       "    <tr>\n",
       "      <th>30887</th>\n",
       "      <td>39</td>\n",
       "      <td>8</td>\n",
       "      <td>2</td>\n",
       "      <td>4</td>\n",
       "      <td>0</td>\n",
       "      <td>0</td>\n",
       "      <td>0</td>\n",
       "      <td>1</td>\n",
       "      <td>5</td>\n",
       "      <td>2</td>\n",
       "      <td>...</td>\n",
       "      <td>1.468619</td>\n",
       "      <td>0.561753</td>\n",
       "      <td>4.193546</td>\n",
       "      <td>1.671734</td>\n",
       "      <td>63.503402</td>\n",
       "      <td>2921</td>\n",
       "      <td>2921</td>\n",
       "      <td>2921</td>\n",
       "      <td>2921</td>\n",
       "      <td>2921</td>\n",
       "    </tr>\n",
       "    <tr>\n",
       "      <th>30888</th>\n",
       "      <td>23</td>\n",
       "      <td>9</td>\n",
       "      <td>3</td>\n",
       "      <td>0</td>\n",
       "      <td>0</td>\n",
       "      <td>0</td>\n",
       "      <td>0</td>\n",
       "      <td>0</td>\n",
       "      <td>7</td>\n",
       "      <td>2</td>\n",
       "      <td>...</td>\n",
       "      <td>1.484208</td>\n",
       "      <td>0.707133</td>\n",
       "      <td>6.156032</td>\n",
       "      <td>1.577079</td>\n",
       "      <td>79.439199</td>\n",
       "      <td>666</td>\n",
       "      <td>666</td>\n",
       "      <td>666</td>\n",
       "      <td>666</td>\n",
       "      <td>666</td>\n",
       "    </tr>\n",
       "    <tr>\n",
       "      <th>30889</th>\n",
       "      <td>43</td>\n",
       "      <td>2</td>\n",
       "      <td>2</td>\n",
       "      <td>1</td>\n",
       "      <td>1</td>\n",
       "      <td>0</td>\n",
       "      <td>0</td>\n",
       "      <td>1</td>\n",
       "      <td>6</td>\n",
       "      <td>4</td>\n",
       "      <td>...</td>\n",
       "      <td>1.444132</td>\n",
       "      <td>0.564063</td>\n",
       "      <td>4.141377</td>\n",
       "      <td>1.650958</td>\n",
       "      <td>59.721876</td>\n",
       "      <td>6914</td>\n",
       "      <td>6914</td>\n",
       "      <td>6914</td>\n",
       "      <td>6914</td>\n",
       "      <td>6914</td>\n",
       "    </tr>\n",
       "    <tr>\n",
       "      <th>30890</th>\n",
       "      <td>34</td>\n",
       "      <td>10</td>\n",
       "      <td>2</td>\n",
       "      <td>6</td>\n",
       "      <td>0</td>\n",
       "      <td>1</td>\n",
       "      <td>0</td>\n",
       "      <td>0</td>\n",
       "      <td>9</td>\n",
       "      <td>3</td>\n",
       "      <td>...</td>\n",
       "      <td>1.515163</td>\n",
       "      <td>0.537007</td>\n",
       "      <td>4.560869</td>\n",
       "      <td>1.664106</td>\n",
       "      <td>71.333829</td>\n",
       "      <td>5067</td>\n",
       "      <td>5067</td>\n",
       "      <td>5067</td>\n",
       "      <td>5067</td>\n",
       "      <td>5067</td>\n",
       "    </tr>\n",
       "  </tbody>\n",
       "</table>\n",
       "<p>30891 rows × 36 columns</p>\n",
       "</div>"
      ],
      "text/plain": [
       "       age  job  marital  education  default  housing  loan  contact  month  \\\n",
       "0       43    5        2          0        1        0     0        0      4   \n",
       "1       30    1        2          7        0        0     0        0      7   \n",
       "2       55    1        2          1        0        0     0        1      6   \n",
       "3       34   10        3          7        0        0     0        0     10   \n",
       "4       32    2        2          2        1        0     0        1      5   \n",
       "...    ...  ...      ...        ...      ...      ...   ...      ...    ...   \n",
       "30886   34    2        2          4        0        1     0        1      5   \n",
       "30887   39    8        2          4        0        0     0        1      5   \n",
       "30888   23    9        3          0        0        0     0        0      7   \n",
       "30889   43    2        2          1        1        0     0        1      6   \n",
       "30890   34   10        2          6        0        1     0        0      9   \n",
       "\n",
       "       day_of_week  ...   emp_std  price_std  conf_std  euri_std  nremp_std  \\\n",
       "0                4  ...  1.530428   0.562251  4.552455  1.671139  68.939189   \n",
       "1                5  ...  1.619852   0.574460  4.750547  1.769459  75.893818   \n",
       "2                4  ...  1.619852   0.574460  4.750547  1.769459  75.893818   \n",
       "3                5  ...  1.515163   0.537007  4.560869  1.664106  71.333829   \n",
       "4                4  ...  1.444132   0.564063  4.141377  1.650958  59.721876   \n",
       "...            ...  ...       ...        ...       ...       ...        ...   \n",
       "30886            5  ...  1.444132   0.564063  4.141377  1.650958  59.721876   \n",
       "30887            2  ...  1.468619   0.561753  4.193546  1.671734  63.503402   \n",
       "30888            2  ...  1.484208   0.707133  6.156032  1.577079  79.439199   \n",
       "30889            4  ...  1.444132   0.564063  4.141377  1.650958  59.721876   \n",
       "30890            3  ...  1.515163   0.537007  4.560869  1.664106  71.333829   \n",
       "\n",
       "       emp_count  price_count  conf_count  euri_count  nremp_count  \n",
       "0           2228         2228        2228        2228         2228  \n",
       "1           7840         7840        7840        7840         7840  \n",
       "2           7840         7840        7840        7840         7840  \n",
       "3           5067         5067        5067        5067         5067  \n",
       "4           6914         6914        6914        6914         6914  \n",
       "...          ...          ...         ...         ...          ...  \n",
       "30886       6914         6914        6914        6914         6914  \n",
       "30887       2921         2921        2921        2921         2921  \n",
       "30888        666          666         666         666          666  \n",
       "30889       6914         6914        6914        6914         6914  \n",
       "30890       5067         5067        5067        5067         5067  \n",
       "\n",
       "[30891 rows x 36 columns]"
      ]
     },
     "execution_count": 8,
     "metadata": {},
     "output_type": "execute_result"
    }
   ],
   "source": [
    "df"
   ]
  },
  {
   "cell_type": "code",
   "execution_count": 9,
   "id": "48655bd3",
   "metadata": {
    "id": "48655bd3"
   },
   "outputs": [],
   "source": [
    "X = df[df.columns.drop(['y'])]\n",
    "y = df['y']"
   ]
  },
  {
   "cell_type": "code",
   "execution_count": 10,
   "id": "1b167150",
   "metadata": {
    "id": "1b167150"
   },
   "outputs": [],
   "source": [
    "X1=X.to_numpy()\n",
    "y1=y.to_numpy()"
   ]
  },
  {
   "cell_type": "code",
   "execution_count": 10,
   "id": "UvZ6mMgden-Y",
   "metadata": {
    "colab": {
     "base_uri": "https://localhost:8080/",
     "height": 49,
     "referenced_widgets": [
      "54aa5bdb33104c319f9f37d2176e8903",
      "59dd963500f648beb0cffc62f9e550fe",
      "cbcfaefad4b5437abd81d999e61afcac",
      "fa31dec529424bc2a362963fd0dc92b0",
      "1936d8d864664ab2891c2580e40be5a9",
      "9617fa81fe61446ca8321d2f4cb1d2ee",
      "0725233fe4c6455bbe027dd4411f5cbd",
      "a94643749518493fb14c0130a2cfa130",
      "753e19b7bc784db79db04d212f30666a",
      "1244e78703d74ca3927a96d80c1c97aa",
      "92a374af6c47464e9e7f1d9c0c361616"
     ]
    },
    "id": "UvZ6mMgden-Y",
    "outputId": "e83fff65-88ef-44b5-9550-1211de574ed8"
   },
   "outputs": [
    {
     "data": {
      "application/vnd.jupyter.widget-view+json": {
       "model_id": "54aa5bdb33104c319f9f37d2176e8903",
       "version_major": 2,
       "version_minor": 0
      },
      "text/plain": [
       "  0%|          | 0/4 [00:00<?, ?it/s]"
      ]
     },
     "metadata": {},
     "output_type": "display_data"
    }
   ],
   "source": [
    "iterations = 30\n",
    "max_features_params = [0.5, 0.6, 0.7, 0.8]\n",
    "gbm_accuracy = {}\n",
    "\n",
    "for mf in tqdm(max_features_params):\n",
    "    train_acc_list = []\n",
    "    test_acc_list = []\n",
    "    \n",
    "    for seed in range(iterations):\n",
    "        X_train, X_test, y_train, y_test = train_test_split(X, y, \n",
    "                                                            test_size=0.2, \n",
    "                                                            random_state=seed,\n",
    "                                                            stratify=y)\n",
    "\n",
    "        gbm_model = GradientBoostingClassifier(max_features=mf)\n",
    "        gbm_model.fit(X_train, y_train)\n",
    "    \n",
    "        train_acc_list.append(gbm_model.score(X_train, y_train))\n",
    "        test_acc_list.append(gbm_model.score(X_test, y_test))\n",
    "    \n",
    "    gbm_accuracy[str(mf)] = {'train_acc': np.mean(train_acc_list),\n",
    "                             'test_acc': np.mean(test_acc_list)}"
   ]
  },
  {
   "cell_type": "code",
   "execution_count": 14,
   "id": "846b75fc",
   "metadata": {
    "colab": {
     "base_uri": "https://localhost:8080/"
    },
    "id": "846b75fc",
    "outputId": "c1267fe1-da21-4240-9013-ede6b739e96d"
   },
   "outputs": [
    {
     "data": {
      "application/vnd.jupyter.widget-view+json": {
       "model_id": "e94b8610042f43fabe6514f40e881af4",
       "version_major": 2,
       "version_minor": 0
      },
      "text/plain": [
       "  0%|          | 0/4 [00:00<?, ?it/s]"
      ]
     },
     "metadata": {},
     "output_type": "display_data"
    },
    {
     "name": "stdout",
     "output_type": "stream",
     "text": [
      "[ 6167  6168  6170 ... 30888 30889 30890] [   0    1    2 ... 6232 6234 6259]\n",
      "[    0     1     2 ... 30888 30889 30890] [ 6167  6168  6170 ... 12432 12437 12438]\n",
      "[    0     1     2 ... 30888 30889 30890] [12351 12352 12353 ... 18844 18850 18861]\n",
      "[    0     1     2 ... 30888 30889 30890] [18491 18492 18493 ... 24810 24825 24834]\n",
      "[    0     1     2 ... 24810 24825 24834] [24696 24697 24698 ... 30888 30889 30890]\n",
      "[ 6167  6168  6170 ... 30888 30889 30890] [   0    1    2 ... 6232 6234 6259]\n",
      "[    0     1     2 ... 30888 30889 30890] [ 6167  6168  6170 ... 12432 12437 12438]\n",
      "[    0     1     2 ... 30888 30889 30890] [12351 12352 12353 ... 18844 18850 18861]\n",
      "[    0     1     2 ... 30888 30889 30890] [18491 18492 18493 ... 24810 24825 24834]\n",
      "[    0     1     2 ... 24810 24825 24834] [24696 24697 24698 ... 30888 30889 30890]\n",
      "[ 6167  6168  6170 ... 30888 30889 30890] [   0    1    2 ... 6232 6234 6259]\n",
      "[    0     1     2 ... 30888 30889 30890] [ 6167  6168  6170 ... 12432 12437 12438]\n",
      "[    0     1     2 ... 30888 30889 30890] [12351 12352 12353 ... 18844 18850 18861]\n",
      "[    0     1     2 ... 30888 30889 30890] [18491 18492 18493 ... 24810 24825 24834]\n",
      "[    0     1     2 ... 24810 24825 24834] [24696 24697 24698 ... 30888 30889 30890]\n",
      "[ 6167  6168  6170 ... 30888 30889 30890] [   0    1    2 ... 6232 6234 6259]\n",
      "[    0     1     2 ... 30888 30889 30890] [ 6167  6168  6170 ... 12432 12437 12438]\n",
      "[    0     1     2 ... 30888 30889 30890] [12351 12352 12353 ... 18844 18850 18861]\n",
      "[    0     1     2 ... 30888 30889 30890] [18491 18492 18493 ... 24810 24825 24834]\n",
      "[    0     1     2 ... 24810 24825 24834] [24696 24697 24698 ... 30888 30889 30890]\n"
     ]
    }
   ],
   "source": [
    "from sklearn.model_selection import StratifiedKFold\n",
    "#Stratified KFold\n",
    "\n",
    "max_features_params = [0.5, 0.6, 0.7, 0.8]\n",
    "gbm_accuracy3 = {}\n",
    "kf = StratifiedKFold(n_splits=5)\n",
    "\n",
    "train_acc_list=[]\n",
    "test_acc_list=[]\n",
    "for mf in tqdm(max_features_params):\n",
    "    for train_index, test_index in kf.split(X1, y1):\n",
    "        print(train_index, test_index)\n",
    "        X_train, X_test = X1[train_index], X1[test_index]\n",
    "        y_train, y_test = y1[train_index], y1[test_index]\n",
    "        gbm_model3 = GradientBoostingClassifier(max_features=mf,max_depth=4)\n",
    "        gbm_model3.fit(X_train,y_train)\n",
    "        train_acc_list.append(gbm_model3.score(X_train, y_train))\n",
    "        test_acc_list.append( gbm_model3.score(X_test, y_test))\n",
    "    gbm_accuracy3[str(mf)] ={'train_acc' : np.mean(train_acc_list),\n",
    "                                'test_acc' : np.mean(test_acc_list)}"
   ]
  },
  {
   "cell_type": "code",
   "execution_count": 15,
   "id": "79e104ab",
   "metadata": {
    "colab": {
     "base_uri": "https://localhost:8080/"
    },
    "id": "79e104ab",
    "outputId": "8e7dfe57-fcc2-4662-c1ed-a29417788d97"
   },
   "outputs": [
    {
     "data": {
      "text/plain": [
       "{'0.5': {'train_acc': 0.9307160740752203, 'test_acc': 0.9167072642532211},\n",
       " '0.6': {'train_acc': 0.9308779322065679, 'test_acc': 0.916950071753285},\n",
       " '0.7': {'train_acc': 0.9310370931390451, 'test_acc': 0.9168583327164189},\n",
       " '0.8': {'train_acc': 0.9312218820456378, 'test_acc': 0.9168124789155468}}"
      ]
     },
     "execution_count": 15,
     "metadata": {},
     "output_type": "execute_result"
    }
   ],
   "source": [
    "gbm_accuracy3"
   ]
  },
  {
   "cell_type": "code",
   "execution_count": null,
   "id": "6d19ef99",
   "metadata": {
    "colab": {
     "base_uri": "https://localhost:8080/",
     "height": 483
    },
    "id": "6d19ef99",
    "outputId": "c55650ae-40a9-4f08-ecb3-bedf48dce0c3"
   },
   "outputs": [],
   "source": [
    "gbm_model3.feature_importances_\n",
    "plt.figure(figsize=(15, 8))\n",
    "plt.barh(y=X.columns,\n",
    "         width=gbm_model3.feature_importances_)\n",
    "plt.show()"
   ]
  },
  {
   "cell_type": "code",
   "execution_count": 14,
   "id": "38ca1f2e",
   "metadata": {
    "colab": {
     "base_uri": "https://localhost:8080/"
    },
    "id": "38ca1f2e",
    "outputId": "7e4a6857-521e-4aae-9136-735d298cf5c3"
   },
   "outputs": [
    {
     "data": {
      "text/plain": [
       "['gbm_model3.joblib']"
      ]
     },
     "execution_count": 14,
     "metadata": {},
     "output_type": "execute_result"
    }
   ],
   "source": [
    "gbm_model3 = GradientBoostingClassifier(max_features=0.5,max_depth=4)\n",
    "gbm_model3.fit(X,y)\n",
    "\n",
    "joblib.dump(gbm_model3,'gbm_model3.joblib')"
   ]
  },
  {
   "cell_type": "code",
   "execution_count": 15,
   "id": "2e9fO1mOFGzr",
   "metadata": {
    "id": "2e9fO1mOFGzr"
   },
   "outputs": [],
   "source": [
    "test = pd.read_csv(\"/content/drive/MyDrive/Colab/DECSC/test_bank_marketing.csv\")\n",
    "\n",
    "grouped_test = test.groupby('job')\n",
    "\n",
    "test[['emp_mean', 'price_mean', 'conf_mean', 'euri_mean', 'nremp_mean']] = grouped_test[['emp.var.rate',  'cons.price.idx', 'cons.conf.idx', 'euribor3m', 'nr.employed']].transform('mean')\n",
    "\n",
    "test[['emp_std', 'price_std', 'conf_std', 'euri_std', 'nremp_std']] = grouped_test[['emp.var.rate',  'cons.price.idx', 'cons.conf.idx', 'euribor3m', 'nr.employed']].transform('std')\n",
    "\n",
    "test[['emp_count', 'price_count', 'conf_count', 'euri_count', 'nremp_count']] = grouped_test[['emp.var.rate',  'cons.price.idx', 'cons.conf.idx', 'euribor3m', 'nr.employed']].transform('count')"
   ]
  },
  {
   "cell_type": "code",
   "execution_count": 16,
   "id": "GIq8KqvBFRd4",
   "metadata": {
    "id": "GIq8KqvBFRd4"
   },
   "outputs": [],
   "source": [
    "day = {\"mon\":1,\"tue\":2,\"wed\":3,\"thu\":4,\"fri\":5}\n",
    "poutcome = {\"failure\":0,\"nonexistent\":1,\"success\":2}\n",
    "\n",
    "test['job'] = test['job'].apply(lambda x: job[x])\n",
    "test['marital'] = test['marital'].apply(lambda x: civil[x])\n",
    "test['education'] = test['education'].apply(lambda x: educ[x])\n",
    "test['default'] = test['default'].apply(lambda x: binary[x])\n",
    "test['housing'] = test['housing'].apply(lambda x: binary[x])\n",
    "test['loan'] = test['loan'].apply(lambda x: binary[x])\n",
    "test['contact'] = test['contact'].apply(lambda x: contact[x])\n",
    "test['month'] = test['month'].apply(lambda x: month[x])\n",
    "test['day_of_week'] = test['day_of_week'].apply(lambda x: day[x])\n",
    "test['poutcome'] = test['poutcome'].apply(lambda x: poutcome[x])"
   ]
  },
  {
   "cell_type": "code",
   "execution_count": 17,
   "id": "tJfW2delG-a5",
   "metadata": {
    "colab": {
     "base_uri": "https://localhost:8080/",
     "height": 17
    },
    "id": "tJfW2delG-a5",
    "outputId": "b7b1de03-d93e-4f12-8158-d67945b18254"
   },
   "outputs": [
    {
     "data": {
      "application/javascript": [
       "\n",
       "    async function download(id, filename, size) {\n",
       "      if (!google.colab.kernel.accessAllowed) {\n",
       "        return;\n",
       "      }\n",
       "      const div = document.createElement('div');\n",
       "      const label = document.createElement('label');\n",
       "      label.textContent = `Downloading \"${filename}\": `;\n",
       "      div.appendChild(label);\n",
       "      const progress = document.createElement('progress');\n",
       "      progress.max = size;\n",
       "      div.appendChild(progress);\n",
       "      document.body.appendChild(div);\n",
       "\n",
       "      const buffers = [];\n",
       "      let downloaded = 0;\n",
       "\n",
       "      const channel = await google.colab.kernel.comms.open(id);\n",
       "      // Send a message to notify the kernel that we're ready.\n",
       "      channel.send({})\n",
       "\n",
       "      for await (const message of channel.messages) {\n",
       "        // Send a message to notify the kernel that we're ready.\n",
       "        channel.send({})\n",
       "        if (message.buffers) {\n",
       "          for (const buffer of message.buffers) {\n",
       "            buffers.push(buffer);\n",
       "            downloaded += buffer.byteLength;\n",
       "            progress.value = downloaded;\n",
       "          }\n",
       "        }\n",
       "      }\n",
       "      const blob = new Blob(buffers, {type: 'application/binary'});\n",
       "      const a = document.createElement('a');\n",
       "      a.href = window.URL.createObjectURL(blob);\n",
       "      a.download = filename;\n",
       "      div.appendChild(a);\n",
       "      a.click();\n",
       "      div.remove();\n",
       "    }\n",
       "  "
      ],
      "text/plain": [
       "<IPython.core.display.Javascript object>"
      ]
     },
     "metadata": {},
     "output_type": "display_data"
    },
    {
     "data": {
      "application/javascript": [
       "download(\"download_cc7b9019-ab86-4566-bbdf-c25dfbd36355\", \"sub3.csv\", 71271)"
      ],
      "text/plain": [
       "<IPython.core.display.Javascript object>"
      ]
     },
     "metadata": {},
     "output_type": "display_data"
    }
   ],
   "source": [
    "gbm = joblib.load('gbm_model3.joblib')\n",
    "result6 = gbm.predict(test)\n",
    "result6 = pd.DataFrame(result6)\n",
    "result6['id'] = result6.index\n",
    "result6.rename(columns = {0:'y'}, inplace = True)\n",
    "result6.to_csv('submission6.csv',index=False)\n",
    "\n",
    "titles = list(result6.columns)\n",
    "titles[0], titles[1] = titles[1], titles[0]\n",
    "\n",
    "result6 = result6[titles]\n",
    "\n",
    "result6.to_csv('sub3.csv',index=False)\n",
    "files.download('sub3.csv')"
   ]
  }
 ],
 "metadata": {
  "colab": {
   "collapsed_sections": [],
   "name": "00 Emerson Kaggle.ipynb",
   "provenance": []
  },
  "kernelspec": {
   "display_name": "Python 3 (ipykernel)",
   "language": "python",
   "name": "python3"
  },
  "language_info": {
   "codemirror_mode": {
    "name": "ipython",
    "version": 3
   },
   "file_extension": ".py",
   "mimetype": "text/x-python",
   "name": "python",
   "nbconvert_exporter": "python",
   "pygments_lexer": "ipython3",
   "version": "3.7.12"
  },
  "widgets": {
   "application/vnd.jupyter.widget-state+json": {
    "0725233fe4c6455bbe027dd4411f5cbd": {
     "model_module": "@jupyter-widgets/controls",
     "model_module_version": "1.5.0",
     "model_name": "DescriptionStyleModel",
     "state": {
      "_model_module": "@jupyter-widgets/controls",
      "_model_module_version": "1.5.0",
      "_model_name": "DescriptionStyleModel",
      "_view_count": null,
      "_view_module": "@jupyter-widgets/base",
      "_view_module_version": "1.2.0",
      "_view_name": "StyleView",
      "description_width": ""
     }
    },
    "1244e78703d74ca3927a96d80c1c97aa": {
     "model_module": "@jupyter-widgets/base",
     "model_module_version": "1.2.0",
     "model_name": "LayoutModel",
     "state": {
      "_model_module": "@jupyter-widgets/base",
      "_model_module_version": "1.2.0",
      "_model_name": "LayoutModel",
      "_view_count": null,
      "_view_module": "@jupyter-widgets/base",
      "_view_module_version": "1.2.0",
      "_view_name": "LayoutView",
      "align_content": null,
      "align_items": null,
      "align_self": null,
      "border": null,
      "bottom": null,
      "display": null,
      "flex": null,
      "flex_flow": null,
      "grid_area": null,
      "grid_auto_columns": null,
      "grid_auto_flow": null,
      "grid_auto_rows": null,
      "grid_column": null,
      "grid_gap": null,
      "grid_row": null,
      "grid_template_areas": null,
      "grid_template_columns": null,
      "grid_template_rows": null,
      "height": null,
      "justify_content": null,
      "justify_items": null,
      "left": null,
      "margin": null,
      "max_height": null,
      "max_width": null,
      "min_height": null,
      "min_width": null,
      "object_fit": null,
      "object_position": null,
      "order": null,
      "overflow": null,
      "overflow_x": null,
      "overflow_y": null,
      "padding": null,
      "right": null,
      "top": null,
      "visibility": null,
      "width": null
     }
    },
    "1936d8d864664ab2891c2580e40be5a9": {
     "model_module": "@jupyter-widgets/base",
     "model_module_version": "1.2.0",
     "model_name": "LayoutModel",
     "state": {
      "_model_module": "@jupyter-widgets/base",
      "_model_module_version": "1.2.0",
      "_model_name": "LayoutModel",
      "_view_count": null,
      "_view_module": "@jupyter-widgets/base",
      "_view_module_version": "1.2.0",
      "_view_name": "LayoutView",
      "align_content": null,
      "align_items": null,
      "align_self": null,
      "border": null,
      "bottom": null,
      "display": null,
      "flex": null,
      "flex_flow": null,
      "grid_area": null,
      "grid_auto_columns": null,
      "grid_auto_flow": null,
      "grid_auto_rows": null,
      "grid_column": null,
      "grid_gap": null,
      "grid_row": null,
      "grid_template_areas": null,
      "grid_template_columns": null,
      "grid_template_rows": null,
      "height": null,
      "justify_content": null,
      "justify_items": null,
      "left": null,
      "margin": null,
      "max_height": null,
      "max_width": null,
      "min_height": null,
      "min_width": null,
      "object_fit": null,
      "object_position": null,
      "order": null,
      "overflow": null,
      "overflow_x": null,
      "overflow_y": null,
      "padding": null,
      "right": null,
      "top": null,
      "visibility": null,
      "width": null
     }
    },
    "54aa5bdb33104c319f9f37d2176e8903": {
     "model_module": "@jupyter-widgets/controls",
     "model_module_version": "1.5.0",
     "model_name": "HBoxModel",
     "state": {
      "_dom_classes": [],
      "_model_module": "@jupyter-widgets/controls",
      "_model_module_version": "1.5.0",
      "_model_name": "HBoxModel",
      "_view_count": null,
      "_view_module": "@jupyter-widgets/controls",
      "_view_module_version": "1.5.0",
      "_view_name": "HBoxView",
      "box_style": "",
      "children": [
       "IPY_MODEL_59dd963500f648beb0cffc62f9e550fe",
       "IPY_MODEL_cbcfaefad4b5437abd81d999e61afcac",
       "IPY_MODEL_fa31dec529424bc2a362963fd0dc92b0"
      ],
      "layout": "IPY_MODEL_1936d8d864664ab2891c2580e40be5a9"
     }
    },
    "59dd963500f648beb0cffc62f9e550fe": {
     "model_module": "@jupyter-widgets/controls",
     "model_module_version": "1.5.0",
     "model_name": "HTMLModel",
     "state": {
      "_dom_classes": [],
      "_model_module": "@jupyter-widgets/controls",
      "_model_module_version": "1.5.0",
      "_model_name": "HTMLModel",
      "_view_count": null,
      "_view_module": "@jupyter-widgets/controls",
      "_view_module_version": "1.5.0",
      "_view_name": "HTMLView",
      "description": "",
      "description_tooltip": null,
      "layout": "IPY_MODEL_9617fa81fe61446ca8321d2f4cb1d2ee",
      "placeholder": "​",
      "style": "IPY_MODEL_0725233fe4c6455bbe027dd4411f5cbd",
      "value": "100%"
     }
    },
    "753e19b7bc784db79db04d212f30666a": {
     "model_module": "@jupyter-widgets/controls",
     "model_module_version": "1.5.0",
     "model_name": "ProgressStyleModel",
     "state": {
      "_model_module": "@jupyter-widgets/controls",
      "_model_module_version": "1.5.0",
      "_model_name": "ProgressStyleModel",
      "_view_count": null,
      "_view_module": "@jupyter-widgets/base",
      "_view_module_version": "1.2.0",
      "_view_name": "StyleView",
      "bar_color": null,
      "description_width": ""
     }
    },
    "92a374af6c47464e9e7f1d9c0c361616": {
     "model_module": "@jupyter-widgets/controls",
     "model_module_version": "1.5.0",
     "model_name": "DescriptionStyleModel",
     "state": {
      "_model_module": "@jupyter-widgets/controls",
      "_model_module_version": "1.5.0",
      "_model_name": "DescriptionStyleModel",
      "_view_count": null,
      "_view_module": "@jupyter-widgets/base",
      "_view_module_version": "1.2.0",
      "_view_name": "StyleView",
      "description_width": ""
     }
    },
    "9617fa81fe61446ca8321d2f4cb1d2ee": {
     "model_module": "@jupyter-widgets/base",
     "model_module_version": "1.2.0",
     "model_name": "LayoutModel",
     "state": {
      "_model_module": "@jupyter-widgets/base",
      "_model_module_version": "1.2.0",
      "_model_name": "LayoutModel",
      "_view_count": null,
      "_view_module": "@jupyter-widgets/base",
      "_view_module_version": "1.2.0",
      "_view_name": "LayoutView",
      "align_content": null,
      "align_items": null,
      "align_self": null,
      "border": null,
      "bottom": null,
      "display": null,
      "flex": null,
      "flex_flow": null,
      "grid_area": null,
      "grid_auto_columns": null,
      "grid_auto_flow": null,
      "grid_auto_rows": null,
      "grid_column": null,
      "grid_gap": null,
      "grid_row": null,
      "grid_template_areas": null,
      "grid_template_columns": null,
      "grid_template_rows": null,
      "height": null,
      "justify_content": null,
      "justify_items": null,
      "left": null,
      "margin": null,
      "max_height": null,
      "max_width": null,
      "min_height": null,
      "min_width": null,
      "object_fit": null,
      "object_position": null,
      "order": null,
      "overflow": null,
      "overflow_x": null,
      "overflow_y": null,
      "padding": null,
      "right": null,
      "top": null,
      "visibility": null,
      "width": null
     }
    },
    "a94643749518493fb14c0130a2cfa130": {
     "model_module": "@jupyter-widgets/base",
     "model_module_version": "1.2.0",
     "model_name": "LayoutModel",
     "state": {
      "_model_module": "@jupyter-widgets/base",
      "_model_module_version": "1.2.0",
      "_model_name": "LayoutModel",
      "_view_count": null,
      "_view_module": "@jupyter-widgets/base",
      "_view_module_version": "1.2.0",
      "_view_name": "LayoutView",
      "align_content": null,
      "align_items": null,
      "align_self": null,
      "border": null,
      "bottom": null,
      "display": null,
      "flex": null,
      "flex_flow": null,
      "grid_area": null,
      "grid_auto_columns": null,
      "grid_auto_flow": null,
      "grid_auto_rows": null,
      "grid_column": null,
      "grid_gap": null,
      "grid_row": null,
      "grid_template_areas": null,
      "grid_template_columns": null,
      "grid_template_rows": null,
      "height": null,
      "justify_content": null,
      "justify_items": null,
      "left": null,
      "margin": null,
      "max_height": null,
      "max_width": null,
      "min_height": null,
      "min_width": null,
      "object_fit": null,
      "object_position": null,
      "order": null,
      "overflow": null,
      "overflow_x": null,
      "overflow_y": null,
      "padding": null,
      "right": null,
      "top": null,
      "visibility": null,
      "width": null
     }
    },
    "cbcfaefad4b5437abd81d999e61afcac": {
     "model_module": "@jupyter-widgets/controls",
     "model_module_version": "1.5.0",
     "model_name": "FloatProgressModel",
     "state": {
      "_dom_classes": [],
      "_model_module": "@jupyter-widgets/controls",
      "_model_module_version": "1.5.0",
      "_model_name": "FloatProgressModel",
      "_view_count": null,
      "_view_module": "@jupyter-widgets/controls",
      "_view_module_version": "1.5.0",
      "_view_name": "ProgressView",
      "bar_style": "success",
      "description": "",
      "description_tooltip": null,
      "layout": "IPY_MODEL_a94643749518493fb14c0130a2cfa130",
      "max": 4,
      "min": 0,
      "orientation": "horizontal",
      "style": "IPY_MODEL_753e19b7bc784db79db04d212f30666a",
      "value": 4
     }
    },
    "fa31dec529424bc2a362963fd0dc92b0": {
     "model_module": "@jupyter-widgets/controls",
     "model_module_version": "1.5.0",
     "model_name": "HTMLModel",
     "state": {
      "_dom_classes": [],
      "_model_module": "@jupyter-widgets/controls",
      "_model_module_version": "1.5.0",
      "_model_name": "HTMLModel",
      "_view_count": null,
      "_view_module": "@jupyter-widgets/controls",
      "_view_module_version": "1.5.0",
      "_view_name": "HTMLView",
      "description": "",
      "description_tooltip": null,
      "layout": "IPY_MODEL_1244e78703d74ca3927a96d80c1c97aa",
      "placeholder": "​",
      "style": "IPY_MODEL_92a374af6c47464e9e7f1d9c0c361616",
      "value": " 4/4 [08:07&lt;00:00, 126.83s/it]"
     }
    }
   }
  }
 },
 "nbformat": 4,
 "nbformat_minor": 5
}
