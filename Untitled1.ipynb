{
 "cells": [
  {
   "cell_type": "code",
   "execution_count": 1,
   "id": "9aa95a9c",
   "metadata": {},
   "outputs": [],
   "source": [
    "import pyforest"
   ]
  },
  {
   "cell_type": "code",
   "execution_count": 3,
   "id": "5c9592df",
   "metadata": {},
   "outputs": [
    {
     "data": {
      "application/javascript": [
       "\n",
       "        if (window._pyforest_update_imports_cell) { window._pyforest_update_imports_cell('import pandas as pd'); }\n",
       "    "
      ],
      "text/plain": [
       "<IPython.core.display.Javascript object>"
      ]
     },
     "metadata": {},
     "output_type": "display_data"
    },
    {
     "name": "stderr",
     "output_type": "stream",
     "text": [
      "C:\\Users\\kvray\\anaconda3\\lib\\site-packages\\IPython\\core\\interactiveshell.py:3165: DtypeWarning: Columns (6) have mixed types.Specify dtype option on import or set low_memory=False.\n",
      "  has_raised = await self.run_ast_nodes(code_ast.body, cell_name,\n"
     ]
    }
   ],
   "source": [
    "df = pd.read_csv('Q2_2020_Full.csv')"
   ]
  },
  {
   "cell_type": "code",
   "execution_count": 60,
   "id": "70171917",
   "metadata": {},
   "outputs": [
    {
     "data": {
      "application/javascript": [
       "\n",
       "        if (window._pyforest_update_imports_cell) { window._pyforest_update_imports_cell('import pandas as pd\\nimport numpy as np'); }\n",
       "    "
      ],
      "text/plain": [
       "<IPython.core.display.Javascript object>"
      ]
     },
     "metadata": {},
     "output_type": "display_data"
    }
   ],
   "source": [
    "zone = pd.read_csv('taxi_zones.csv')\n",
    "dic = dict(zip(zone['OBJECT'], zone['zone']))"
   ]
  },
  {
   "cell_type": "code",
   "execution_count": 61,
   "id": "158eb190",
   "metadata": {},
   "outputs": [],
   "source": [
    "zone_df = df.loc[:,['PULocationID','DOLocationID']]"
   ]
  },
  {
   "cell_type": "code",
   "execution_count": 62,
   "id": "4757f304",
   "metadata": {},
   "outputs": [
    {
     "data": {
      "application/javascript": [
       "\n",
       "        if (window._pyforest_update_imports_cell) { window._pyforest_update_imports_cell('import pandas as pd\\nimport numpy as np'); }\n",
       "    "
      ],
      "text/plain": [
       "<IPython.core.display.Javascript object>"
      ]
     },
     "metadata": {},
     "output_type": "display_data"
    },
    {
     "data": {
      "application/javascript": [
       "\n",
       "        if (window._pyforest_update_imports_cell) { window._pyforest_update_imports_cell('import pandas as pd\\nimport numpy as np'); }\n",
       "    "
      ],
      "text/plain": [
       "<IPython.core.display.Javascript object>"
      ]
     },
     "metadata": {},
     "output_type": "display_data"
    },
    {
     "data": {
      "text/plain": [
       "(1043230, 2)"
      ]
     },
     "execution_count": 62,
     "metadata": {},
     "output_type": "execute_result"
    }
   ],
   "source": [
    "zone_df = pd.DataFrame(np.sort(zone_df, axis=1), zone_df.index, zone_df.columns)\n",
    "zone_df = zone_df[zone_df['PULocationID'] != zone_df['DOLocationID']] #we are only concerned with zone connections\n",
    "zone_df = zone_df[zone_df['PULocationID']<264]\n",
    "zone_df = zone_df[zone_df['DOLocationID']<264]\n",
    "zone_df.shape"
   ]
  },
  {
   "cell_type": "code",
   "execution_count": 63,
   "id": "da604e39",
   "metadata": {},
   "outputs": [],
   "source": [
    "zd = zone_df.copy()"
   ]
  },
  {
   "cell_type": "code",
   "execution_count": 64,
   "id": "6d5a3172",
   "metadata": {},
   "outputs": [],
   "source": [
    "zd['PULocation'] = zd['PULocationID'].apply(lambda x: dic[x])\n",
    "zd['DOLocation'] = zd['DOLocationID'].apply(lambda x: dic[x])"
   ]
  },
  {
   "cell_type": "code",
   "execution_count": 65,
   "id": "8fb33bc0",
   "metadata": {},
   "outputs": [],
   "source": [
    "zd['Connections'] = zd['PULocation'] +\"-\"+zd['DOLocation']"
   ]
  },
  {
   "cell_type": "code",
   "execution_count": 171,
   "id": "ad926cec",
   "metadata": {},
   "outputs": [
    {
     "data": {
      "text/html": [
       "<div>\n",
       "<style scoped>\n",
       "    .dataframe tbody tr th:only-of-type {\n",
       "        vertical-align: middle;\n",
       "    }\n",
       "\n",
       "    .dataframe tbody tr th {\n",
       "        vertical-align: top;\n",
       "    }\n",
       "\n",
       "    .dataframe thead th {\n",
       "        text-align: right;\n",
       "    }\n",
       "</style>\n",
       "<table border=\"1\" class=\"dataframe\">\n",
       "  <thead>\n",
       "    <tr style=\"text-align: right;\">\n",
       "      <th></th>\n",
       "      <th>Connections</th>\n",
       "      <th>counts</th>\n",
       "      <th>PULocationID</th>\n",
       "      <th>DOLocationID</th>\n",
       "    </tr>\n",
       "  </thead>\n",
       "  <tbody>\n",
       "    <tr>\n",
       "      <th>8099</th>\n",
       "      <td>East Harlem North-East Harlem South</td>\n",
       "      <td>8979</td>\n",
       "      <td>74</td>\n",
       "      <td>75</td>\n",
       "    </tr>\n",
       "    <tr>\n",
       "      <th>17823</th>\n",
       "      <td>Upper East Side North-Upper East Side South</td>\n",
       "      <td>8691</td>\n",
       "      <td>236</td>\n",
       "      <td>237</td>\n",
       "    </tr>\n",
       "    <tr>\n",
       "      <th>17871</th>\n",
       "      <td>Upper West Side North-Upper West Side South</td>\n",
       "      <td>7305</td>\n",
       "      <td>238</td>\n",
       "      <td>239</td>\n",
       "    </tr>\n",
       "    <tr>\n",
       "      <th>13830</th>\n",
       "      <td>Lenox Hill West-Yorkville West</td>\n",
       "      <td>6344</td>\n",
       "      <td>141</td>\n",
       "      <td>263</td>\n",
       "    </tr>\n",
       "    <tr>\n",
       "      <th>8430</th>\n",
       "      <td>East Harlem South-Yorkville West</td>\n",
       "      <td>6338</td>\n",
       "      <td>75</td>\n",
       "      <td>263</td>\n",
       "    </tr>\n",
       "    <tr>\n",
       "      <th>13726</th>\n",
       "      <td>Lenox Hill East-Yorkville West</td>\n",
       "      <td>5463</td>\n",
       "      <td>140</td>\n",
       "      <td>263</td>\n",
       "    </tr>\n",
       "    <tr>\n",
       "      <th>13806</th>\n",
       "      <td>Lenox Hill West-Upper East Side North</td>\n",
       "      <td>5438</td>\n",
       "      <td>141</td>\n",
       "      <td>236</td>\n",
       "    </tr>\n",
       "    <tr>\n",
       "      <th>8405</th>\n",
       "      <td>East Harlem South-Upper East Side North</td>\n",
       "      <td>5353</td>\n",
       "      <td>75</td>\n",
       "      <td>236</td>\n",
       "    </tr>\n",
       "    <tr>\n",
       "      <th>17847</th>\n",
       "      <td>Upper East Side North-Yorkville West</td>\n",
       "      <td>5308</td>\n",
       "      <td>236</td>\n",
       "      <td>263</td>\n",
       "    </tr>\n",
       "    <tr>\n",
       "      <th>13910</th>\n",
       "      <td>Lincoln Square East-Upper West Side South</td>\n",
       "      <td>5304</td>\n",
       "      <td>142</td>\n",
       "      <td>239</td>\n",
       "    </tr>\n",
       "  </tbody>\n",
       "</table>\n",
       "</div>"
      ],
      "text/plain": [
       "                                       Connections  counts  PULocationID  \\\n",
       "8099           East Harlem North-East Harlem South    8979            74   \n",
       "17823  Upper East Side North-Upper East Side South    8691           236   \n",
       "17871  Upper West Side North-Upper West Side South    7305           238   \n",
       "13830               Lenox Hill West-Yorkville West    6344           141   \n",
       "8430              East Harlem South-Yorkville West    6338            75   \n",
       "13726               Lenox Hill East-Yorkville West    5463           140   \n",
       "13806        Lenox Hill West-Upper East Side North    5438           141   \n",
       "8405       East Harlem South-Upper East Side North    5353            75   \n",
       "17847         Upper East Side North-Yorkville West    5308           236   \n",
       "13910    Lincoln Square East-Upper West Side South    5304           142   \n",
       "\n",
       "       DOLocationID  \n",
       "8099             75  \n",
       "17823           237  \n",
       "17871           239  \n",
       "13830           263  \n",
       "8430            263  \n",
       "13726           263  \n",
       "13806           236  \n",
       "8405            236  \n",
       "17847           263  \n",
       "13910           239  "
      ]
     },
     "execution_count": 171,
     "metadata": {},
     "output_type": "execute_result"
    }
   ],
   "source": [
    "Most_traversed = zd.groupby(['Connections'])\n",
    "counts = Most_traversed.size().to_frame(name='counts')\n",
    "final = (counts\n",
    "    .join(Most_traversed.agg({'PULocationID': 'mean'}))\n",
    "    .join(Most_traversed.agg({'DOLocationID': 'mean'}))\n",
    "    .reset_index()\n",
    ")\n",
    "final['PULocationID'] = final['PULocationID'].astype(int)\n",
    "final['DOLocationID'] = final['DOLocationID'].astype(int)\n",
    "final.sort_values(by='counts',ascending=False).head(10)"
   ]
  },
  {
   "cell_type": "code",
   "execution_count": 168,
   "id": "e4e36341",
   "metadata": {},
   "outputs": [],
   "source": [
    "def get_key(val):\n",
    "    for key, value in dic.items():\n",
    "         if val == value:\n",
    "             return key\n",
    " \n",
    "    return \"key doesn't exist\""
   ]
  },
  {
   "cell_type": "code",
   "execution_count": 170,
   "id": "e16ae517",
   "metadata": {},
   "outputs": [
    {
     "data": {
      "text/html": [
       "<div>\n",
       "<style scoped>\n",
       "    .dataframe tbody tr th:only-of-type {\n",
       "        vertical-align: middle;\n",
       "    }\n",
       "\n",
       "    .dataframe tbody tr th {\n",
       "        vertical-align: top;\n",
       "    }\n",
       "\n",
       "    .dataframe thead th {\n",
       "        text-align: right;\n",
       "    }\n",
       "</style>\n",
       "<table border=\"1\" class=\"dataframe\">\n",
       "  <thead>\n",
       "    <tr style=\"text-align: right;\">\n",
       "      <th></th>\n",
       "      <th>Location</th>\n",
       "      <th>counts</th>\n",
       "      <th>PULocationID</th>\n",
       "    </tr>\n",
       "  </thead>\n",
       "  <tbody>\n",
       "    <tr>\n",
       "      <th>0</th>\n",
       "      <td>Allerton/Pelham Gardens</td>\n",
       "      <td>702</td>\n",
       "      <td>3</td>\n",
       "    </tr>\n",
       "    <tr>\n",
       "      <th>1</th>\n",
       "      <td>Alphabet City</td>\n",
       "      <td>7771</td>\n",
       "      <td>4</td>\n",
       "    </tr>\n",
       "    <tr>\n",
       "      <th>2</th>\n",
       "      <td>Arden Heights</td>\n",
       "      <td>32</td>\n",
       "      <td>5</td>\n",
       "    </tr>\n",
       "    <tr>\n",
       "      <th>3</th>\n",
       "      <td>Arrochar/Fort Wadsworth</td>\n",
       "      <td>84</td>\n",
       "      <td>6</td>\n",
       "    </tr>\n",
       "    <tr>\n",
       "      <th>4</th>\n",
       "      <td>Astoria</td>\n",
       "      <td>6961</td>\n",
       "      <td>7</td>\n",
       "    </tr>\n",
       "    <tr>\n",
       "      <th>...</th>\n",
       "      <td>...</td>\n",
       "      <td>...</td>\n",
       "      <td>...</td>\n",
       "    </tr>\n",
       "    <tr>\n",
       "      <th>249</th>\n",
       "      <td>Woodhaven</td>\n",
       "      <td>13</td>\n",
       "      <td>258</td>\n",
       "    </tr>\n",
       "    <tr>\n",
       "      <th>250</th>\n",
       "      <td>Woodlawn/Wakefield</td>\n",
       "      <td>49</td>\n",
       "      <td>259</td>\n",
       "    </tr>\n",
       "    <tr>\n",
       "      <th>251</th>\n",
       "      <td>Woodside</td>\n",
       "      <td>86</td>\n",
       "      <td>260</td>\n",
       "    </tr>\n",
       "    <tr>\n",
       "      <th>252</th>\n",
       "      <td>World Trade Center</td>\n",
       "      <td>71</td>\n",
       "      <td>261</td>\n",
       "    </tr>\n",
       "    <tr>\n",
       "      <th>253</th>\n",
       "      <td>Yorkville East</td>\n",
       "      <td>3015</td>\n",
       "      <td>262</td>\n",
       "    </tr>\n",
       "  </tbody>\n",
       "</table>\n",
       "<p>254 rows × 3 columns</p>\n",
       "</div>"
      ],
      "text/plain": [
       "                    Location  counts  PULocationID\n",
       "0    Allerton/Pelham Gardens     702             3\n",
       "1              Alphabet City    7771             4\n",
       "2              Arden Heights      32             5\n",
       "3    Arrochar/Fort Wadsworth      84             6\n",
       "4                    Astoria    6961             7\n",
       "..                       ...     ...           ...\n",
       "249                Woodhaven      13           258\n",
       "250       Woodlawn/Wakefield      49           259\n",
       "251                 Woodside      86           260\n",
       "252       World Trade Center      71           261\n",
       "253           Yorkville East    3015           262\n",
       "\n",
       "[254 rows x 3 columns]"
      ]
     },
     "execution_count": 170,
     "metadata": {},
     "output_type": "execute_result"
    }
   ],
   "source": [
    "demand = zd[zd['PULocationID']<264].loc[:,['PULocationID']].copy()\n",
    "demand['Location'] = demand['PULocationID'].apply(lambda x: dic[x])\n",
    "demand_res = demand.groupby(['Location']).size().to_frame(name='counts').reset_index()\n",
    "demand_res['PULocationID']=demand_res['Location'].apply(lambda x: get_key(x))\n",
    "demand_res"
   ]
  },
  {
   "cell_type": "code",
   "execution_count": null,
   "id": "374bdfe6",
   "metadata": {},
   "outputs": [],
   "source": []
  }
 ],
 "metadata": {
  "kernelspec": {
   "display_name": "Python 3",
   "language": "python",
   "name": "python3"
  },
  "language_info": {
   "codemirror_mode": {
    "name": "ipython",
    "version": 3
   },
   "file_extension": ".py",
   "mimetype": "text/x-python",
   "name": "python",
   "nbconvert_exporter": "python",
   "pygments_lexer": "ipython3",
   "version": "3.8.8"
  }
 },
 "nbformat": 4,
 "nbformat_minor": 5
}
