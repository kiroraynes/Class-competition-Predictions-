{
 "cells": [
  {
   "cell_type": "code",
   "execution_count": 15,
   "id": "b5f4dacf",
   "metadata": {},
   "outputs": [],
   "source": [
    "import pandas as pd\n",
    "import numpy as np\n",
    "from tqdm.notebook import tqdm\n",
    "from sklearn.svm import LinearSVC, SVC\n",
    "df = pd.read_csv(\"train_bank_marketing.csv\")\n",
    "job = {\"admin.\":1,\"blue-collar\":2,\"entrepreneur\":3,\n",
    "       \"housemaid\":4,\"management\":5,\"retired\":6,\n",
    "       \"self-employed\":7,\"services\":8,\"student\":9,\n",
    "       \"technician\":10,\"unemployed\":11,\"unknown\":0}\n",
    "\n",
    "civil = {\"divorced\":1,\"married\":2,\"single\":3,\"unknown\":0}\n",
    "\n",
    "educ = {\"basic.4y\":1,\"basic.6y\":2,\"basic.9y\":3,\n",
    "        \"high.school\":4,\"illiterate\":5,\"professional.course\":6,\n",
    "        \"university.degree\":7,\"unknown\":0}\n",
    "\n",
    "binary = {\"no\":0,\"yes\":1,\"unknown\":1}\n",
    "\n",
    "contact = {\"cellular\":0,\"telephone\":1}\n",
    "\n",
    "month = {'jan': 1,\n",
    "        'feb': 2,\n",
    "        'mar': 3,\n",
    "        'apr': 4,\n",
    "        'may': 5,\n",
    "        'jun': 6,\n",
    "        'jul': 7,\n",
    "        'aug': 8,\n",
    "        'sep': 9,\n",
    "        'oct': 10,\n",
    "        'nov': 11,\n",
    "        'dec': 12}\n",
    "\n",
    "day = {\"mon\":1,\"tue\":2,\"wed\":3,\"thu\":4,\"fri\":5}\n",
    "poutcome = {\"failure\":0,\"nonexistent\":1,\"success\":2}\n",
    "df['job'] = df['job'].apply(lambda x: job[x])\n",
    "df['marital'] = df['marital'].apply(lambda x: civil[x])\n",
    "df['education'] = df['education'].apply(lambda x: educ[x])\n",
    "df['default'] = df['default'].apply(lambda x: binary[x])\n",
    "df['housing'] = df['housing'].apply(lambda x: binary[x])\n",
    "df['loan'] = df['loan'].apply(lambda x: binary[x])\n",
    "df['contact'] = df['contact'].apply(lambda x: contact[x])\n",
    "df['month'] = df['month'].apply(lambda x: month[x])\n",
    "df['day_of_week'] = df['day_of_week'].apply(lambda x: day[x])\n",
    "df['poutcome'] = df['poutcome'].apply(lambda x: poutcome[x])\n",
    "grouped_df = df.groupby('job')\n",
    " \n",
    "df[['emp_mean', 'price_mean', 'conf_mean', 'euri_mean', 'nremp_mean']] = grouped_df[['emp.var.rate',  'cons.price.idx', 'cons.conf.idx', 'euribor3m', 'nr.employed']].transform('mean')\n",
    " \n",
    "df[['emp_std', 'price_std', 'conf_std', 'euri_std', 'nremp_std']] = grouped_df[['emp.var.rate',  'cons.price.idx', 'cons.conf.idx', 'euribor3m', 'nr.employed']].transform('std')\n",
    " \n",
    "df[['emp_count', 'price_count', 'conf_count', 'euri_count', 'nremp_count']] = grouped_df[['emp.var.rate',  'cons.price.idx', 'cons.conf.idx', 'euribor3m', 'nr.employed']].transform('count')\n",
    "X = df[df.columns.drop(['y'])]\n",
    "y = df['y']"
   ]
  },
  {
   "cell_type": "code",
   "execution_count": 16,
   "id": "75620249",
   "metadata": {},
   "outputs": [],
   "source": [
    "test = pd.read_csv('test_bank_marketing.csv')\n",
    "day = {\"mon\":1,\"tue\":2,\"wed\":3,\"thu\":4,\"fri\":5}\n",
    "poutcome = {\"failure\":0,\"nonexistent\":1,\"success\":2}\n",
    "test['job'] = test['job'].apply(lambda x: job[x])\n",
    "test['marital'] = test['marital'].apply(lambda x: civil[x])\n",
    "test['education'] = test['education'].apply(lambda x: educ[x])\n",
    "test['default'] = test['default'].apply(lambda x: binary[x])\n",
    "test['housing'] = test['housing'].apply(lambda x: binary[x])\n",
    "test['loan'] = test['loan'].apply(lambda x: binary[x])\n",
    "test['contact'] = test['contact'].apply(lambda x: contact[x])\n",
    "test['month'] = test['month'].apply(lambda x: month[x])\n",
    "test['day_of_week'] = test['day_of_week'].apply(lambda x: day[x])\n",
    "test['poutcome'] = test['poutcome'].apply(lambda x: poutcome[x])\n",
    "grouped_test = test.groupby('job')\n",
    " \n",
    "test[['emp_mean', 'price_mean', 'conf_mean', 'euri_mean', 'nremp_mean']] = grouped_test[['emp.var.rate',  'cons.price.idx', 'cons.conf.idx', 'euribor3m', 'nr.employed']].transform('mean')\n",
    " \n",
    "test[['emp_std', 'price_std', 'conf_std', 'euri_std', 'nremp_std']] = grouped_test[['emp.var.rate',  'cons.price.idx', 'cons.conf.idx', 'euribor3m', 'nr.employed']].transform('std')\n",
    " \n",
    "test[['emp_count', 'price_count', 'conf_count', 'euri_count', 'nremp_count']] = grouped_test[['emp.var.rate',  'cons.price.idx', 'cons.conf.idx', 'euribor3m', 'nr.employed']].transform('count')"
   ]
  },
  {
   "cell_type": "code",
   "execution_count": 4,
   "id": "d52c393d",
   "metadata": {},
   "outputs": [
    {
     "data": {
      "application/vnd.jupyter.widget-view+json": {
       "model_id": "d2ea6a933a9e4155b90a7887d84ae99e",
       "version_major": 2,
       "version_minor": 0
      },
      "text/plain": [
       "  0%|          | 0/8 [00:00<?, ?it/s]"
      ]
     },
     "metadata": {},
     "output_type": "display_data"
    },
    {
     "data": {
      "application/javascript": [
       "\n",
       "        if (window._pyforest_update_imports_cell) { window._pyforest_update_imports_cell('from sklearn.model_selection import train_test_split'); }\n",
       "    "
      ],
      "text/plain": [
       "<IPython.core.display.Javascript object>"
      ]
     },
     "metadata": {},
     "output_type": "display_data"
    },
    {
     "data": {
      "application/javascript": [
       "\n",
       "        if (window._pyforest_update_imports_cell) { window._pyforest_update_imports_cell('from sklearn.model_selection import train_test_split'); }\n",
       "    "
      ],
      "text/plain": [
       "<IPython.core.display.Javascript object>"
      ]
     },
     "metadata": {},
     "output_type": "display_data"
    },
    {
     "data": {
      "application/javascript": [
       "\n",
       "        if (window._pyforest_update_imports_cell) { window._pyforest_update_imports_cell('from sklearn.model_selection import train_test_split'); }\n",
       "    "
      ],
      "text/plain": [
       "<IPython.core.display.Javascript object>"
      ]
     },
     "metadata": {},
     "output_type": "display_data"
    },
    {
     "data": {
      "application/javascript": [
       "\n",
       "        if (window._pyforest_update_imports_cell) { window._pyforest_update_imports_cell('from sklearn.model_selection import train_test_split'); }\n",
       "    "
      ],
      "text/plain": [
       "<IPython.core.display.Javascript object>"
      ]
     },
     "metadata": {},
     "output_type": "display_data"
    },
    {
     "data": {
      "application/javascript": [
       "\n",
       "        if (window._pyforest_update_imports_cell) { window._pyforest_update_imports_cell('from sklearn.model_selection import train_test_split'); }\n",
       "    "
      ],
      "text/plain": [
       "<IPython.core.display.Javascript object>"
      ]
     },
     "metadata": {},
     "output_type": "display_data"
    },
    {
     "data": {
      "application/javascript": [
       "\n",
       "        if (window._pyforest_update_imports_cell) { window._pyforest_update_imports_cell('from sklearn.model_selection import train_test_split'); }\n",
       "    "
      ],
      "text/plain": [
       "<IPython.core.display.Javascript object>"
      ]
     },
     "metadata": {},
     "output_type": "display_data"
    },
    {
     "data": {
      "application/javascript": [
       "\n",
       "        if (window._pyforest_update_imports_cell) { window._pyforest_update_imports_cell('from sklearn.model_selection import train_test_split'); }\n",
       "    "
      ],
      "text/plain": [
       "<IPython.core.display.Javascript object>"
      ]
     },
     "metadata": {},
     "output_type": "display_data"
    },
    {
     "data": {
      "application/javascript": [
       "\n",
       "        if (window._pyforest_update_imports_cell) { window._pyforest_update_imports_cell('from sklearn.model_selection import train_test_split'); }\n",
       "    "
      ],
      "text/plain": [
       "<IPython.core.display.Javascript object>"
      ]
     },
     "metadata": {},
     "output_type": "display_data"
    },
    {
     "data": {
      "application/javascript": [
       "\n",
       "        if (window._pyforest_update_imports_cell) { window._pyforest_update_imports_cell('from sklearn.model_selection import train_test_split'); }\n",
       "    "
      ],
      "text/plain": [
       "<IPython.core.display.Javascript object>"
      ]
     },
     "metadata": {},
     "output_type": "display_data"
    },
    {
     "data": {
      "application/javascript": [
       "\n",
       "        if (window._pyforest_update_imports_cell) { window._pyforest_update_imports_cell('from sklearn.model_selection import train_test_split'); }\n",
       "    "
      ],
      "text/plain": [
       "<IPython.core.display.Javascript object>"
      ]
     },
     "metadata": {},
     "output_type": "display_data"
    },
    {
     "data": {
      "application/javascript": [
       "\n",
       "        if (window._pyforest_update_imports_cell) { window._pyforest_update_imports_cell('from sklearn.model_selection import train_test_split'); }\n",
       "    "
      ],
      "text/plain": [
       "<IPython.core.display.Javascript object>"
      ]
     },
     "metadata": {},
     "output_type": "display_data"
    },
    {
     "data": {
      "application/javascript": [
       "\n",
       "        if (window._pyforest_update_imports_cell) { window._pyforest_update_imports_cell('from sklearn.model_selection import train_test_split'); }\n",
       "    "
      ],
      "text/plain": [
       "<IPython.core.display.Javascript object>"
      ]
     },
     "metadata": {},
     "output_type": "display_data"
    },
    {
     "data": {
      "application/javascript": [
       "\n",
       "        if (window._pyforest_update_imports_cell) { window._pyforest_update_imports_cell('from sklearn.model_selection import train_test_split'); }\n",
       "    "
      ],
      "text/plain": [
       "<IPython.core.display.Javascript object>"
      ]
     },
     "metadata": {},
     "output_type": "display_data"
    },
    {
     "data": {
      "application/javascript": [
       "\n",
       "        if (window._pyforest_update_imports_cell) { window._pyforest_update_imports_cell('from sklearn.model_selection import train_test_split'); }\n",
       "    "
      ],
      "text/plain": [
       "<IPython.core.display.Javascript object>"
      ]
     },
     "metadata": {},
     "output_type": "display_data"
    },
    {
     "data": {
      "application/javascript": [
       "\n",
       "        if (window._pyforest_update_imports_cell) { window._pyforest_update_imports_cell('from sklearn.model_selection import train_test_split'); }\n",
       "    "
      ],
      "text/plain": [
       "<IPython.core.display.Javascript object>"
      ]
     },
     "metadata": {},
     "output_type": "display_data"
    },
    {
     "data": {
      "application/javascript": [
       "\n",
       "        if (window._pyforest_update_imports_cell) { window._pyforest_update_imports_cell('from sklearn.model_selection import train_test_split'); }\n",
       "    "
      ],
      "text/plain": [
       "<IPython.core.display.Javascript object>"
      ]
     },
     "metadata": {},
     "output_type": "display_data"
    },
    {
     "data": {
      "application/javascript": [
       "\n",
       "        if (window._pyforest_update_imports_cell) { window._pyforest_update_imports_cell('from sklearn.model_selection import train_test_split'); }\n",
       "    "
      ],
      "text/plain": [
       "<IPython.core.display.Javascript object>"
      ]
     },
     "metadata": {},
     "output_type": "display_data"
    },
    {
     "data": {
      "application/javascript": [
       "\n",
       "        if (window._pyforest_update_imports_cell) { window._pyforest_update_imports_cell('from sklearn.model_selection import train_test_split'); }\n",
       "    "
      ],
      "text/plain": [
       "<IPython.core.display.Javascript object>"
      ]
     },
     "metadata": {},
     "output_type": "display_data"
    },
    {
     "data": {
      "application/javascript": [
       "\n",
       "        if (window._pyforest_update_imports_cell) { window._pyforest_update_imports_cell('from sklearn.model_selection import train_test_split'); }\n",
       "    "
      ],
      "text/plain": [
       "<IPython.core.display.Javascript object>"
      ]
     },
     "metadata": {},
     "output_type": "display_data"
    },
    {
     "data": {
      "application/javascript": [
       "\n",
       "        if (window._pyforest_update_imports_cell) { window._pyforest_update_imports_cell('from sklearn.model_selection import train_test_split'); }\n",
       "    "
      ],
      "text/plain": [
       "<IPython.core.display.Javascript object>"
      ]
     },
     "metadata": {},
     "output_type": "display_data"
    },
    {
     "data": {
      "application/javascript": [
       "\n",
       "        if (window._pyforest_update_imports_cell) { window._pyforest_update_imports_cell('from sklearn.model_selection import train_test_split'); }\n",
       "    "
      ],
      "text/plain": [
       "<IPython.core.display.Javascript object>"
      ]
     },
     "metadata": {},
     "output_type": "display_data"
    },
    {
     "data": {
      "application/javascript": [
       "\n",
       "        if (window._pyforest_update_imports_cell) { window._pyforest_update_imports_cell('from sklearn.model_selection import train_test_split'); }\n",
       "    "
      ],
      "text/plain": [
       "<IPython.core.display.Javascript object>"
      ]
     },
     "metadata": {},
     "output_type": "display_data"
    },
    {
     "data": {
      "application/javascript": [
       "\n",
       "        if (window._pyforest_update_imports_cell) { window._pyforest_update_imports_cell('from sklearn.model_selection import train_test_split'); }\n",
       "    "
      ],
      "text/plain": [
       "<IPython.core.display.Javascript object>"
      ]
     },
     "metadata": {},
     "output_type": "display_data"
    },
    {
     "data": {
      "application/javascript": [
       "\n",
       "        if (window._pyforest_update_imports_cell) { window._pyforest_update_imports_cell('from sklearn.model_selection import train_test_split'); }\n",
       "    "
      ],
      "text/plain": [
       "<IPython.core.display.Javascript object>"
      ]
     },
     "metadata": {},
     "output_type": "display_data"
    },
    {
     "data": {
      "application/javascript": [
       "\n",
       "        if (window._pyforest_update_imports_cell) { window._pyforest_update_imports_cell('from sklearn.model_selection import train_test_split'); }\n",
       "    "
      ],
      "text/plain": [
       "<IPython.core.display.Javascript object>"
      ]
     },
     "metadata": {},
     "output_type": "display_data"
    },
    {
     "data": {
      "application/javascript": [
       "\n",
       "        if (window._pyforest_update_imports_cell) { window._pyforest_update_imports_cell('from sklearn.model_selection import train_test_split'); }\n",
       "    "
      ],
      "text/plain": [
       "<IPython.core.display.Javascript object>"
      ]
     },
     "metadata": {},
     "output_type": "display_data"
    },
    {
     "data": {
      "application/javascript": [
       "\n",
       "        if (window._pyforest_update_imports_cell) { window._pyforest_update_imports_cell('from sklearn.model_selection import train_test_split'); }\n",
       "    "
      ],
      "text/plain": [
       "<IPython.core.display.Javascript object>"
      ]
     },
     "metadata": {},
     "output_type": "display_data"
    },
    {
     "ename": "KeyboardInterrupt",
     "evalue": "",
     "output_type": "error",
     "traceback": [
      "\u001b[1;31m---------------------------------------------------------------------------\u001b[0m",
      "\u001b[1;31mKeyboardInterrupt\u001b[0m                         Traceback (most recent call last)",
      "\u001b[1;32m<ipython-input-4-a475d36dc9e1>\u001b[0m in \u001b[0;36m<module>\u001b[1;34m\u001b[0m\n\u001b[0;32m     15\u001b[0m \u001b[1;33m\u001b[0m\u001b[0m\n\u001b[0;32m     16\u001b[0m         \u001b[0mknn_model\u001b[0m \u001b[1;33m=\u001b[0m \u001b[0mKNeighborsClassifier\u001b[0m\u001b[1;33m(\u001b[0m\u001b[0mn_neighbors\u001b[0m\u001b[1;33m=\u001b[0m\u001b[0mk\u001b[0m\u001b[1;33m)\u001b[0m\u001b[1;33m\u001b[0m\u001b[1;33m\u001b[0m\u001b[0m\n\u001b[1;32m---> 17\u001b[1;33m         \u001b[0mknn_model\u001b[0m\u001b[1;33m.\u001b[0m\u001b[0mfit\u001b[0m\u001b[1;33m(\u001b[0m\u001b[0mX_train\u001b[0m\u001b[1;33m,\u001b[0m \u001b[0my_train\u001b[0m\u001b[1;33m)\u001b[0m\u001b[1;33m\u001b[0m\u001b[1;33m\u001b[0m\u001b[0m\n\u001b[0m\u001b[0;32m     18\u001b[0m \u001b[1;33m\u001b[0m\u001b[0m\n\u001b[0;32m     19\u001b[0m         \u001b[0mtrain_acc_list\u001b[0m\u001b[1;33m.\u001b[0m\u001b[0mappend\u001b[0m\u001b[1;33m(\u001b[0m\u001b[0mknn_model\u001b[0m\u001b[1;33m.\u001b[0m\u001b[0mscore\u001b[0m\u001b[1;33m(\u001b[0m\u001b[0mX_train\u001b[0m\u001b[1;33m,\u001b[0m \u001b[0my_train\u001b[0m\u001b[1;33m)\u001b[0m\u001b[1;33m)\u001b[0m\u001b[1;33m\u001b[0m\u001b[1;33m\u001b[0m\u001b[0m\n",
      "\u001b[1;32m~\\anaconda3\\lib\\site-packages\\sklearn\\neighbors\\_classification.py\u001b[0m in \u001b[0;36mfit\u001b[1;34m(self, X, y)\u001b[0m\n\u001b[0;32m    177\u001b[0m             \u001b[0mThe\u001b[0m \u001b[0mfitted\u001b[0m \u001b[0mk\u001b[0m\u001b[1;33m-\u001b[0m\u001b[0mnearest\u001b[0m \u001b[0mneighbors\u001b[0m \u001b[0mclassifier\u001b[0m\u001b[1;33m.\u001b[0m\u001b[1;33m\u001b[0m\u001b[1;33m\u001b[0m\u001b[0m\n\u001b[0;32m    178\u001b[0m         \"\"\"\n\u001b[1;32m--> 179\u001b[1;33m         \u001b[1;32mreturn\u001b[0m \u001b[0mself\u001b[0m\u001b[1;33m.\u001b[0m\u001b[0m_fit\u001b[0m\u001b[1;33m(\u001b[0m\u001b[0mX\u001b[0m\u001b[1;33m,\u001b[0m \u001b[0my\u001b[0m\u001b[1;33m)\u001b[0m\u001b[1;33m\u001b[0m\u001b[1;33m\u001b[0m\u001b[0m\n\u001b[0m\u001b[0;32m    180\u001b[0m \u001b[1;33m\u001b[0m\u001b[0m\n\u001b[0;32m    181\u001b[0m     \u001b[1;32mdef\u001b[0m \u001b[0mpredict\u001b[0m\u001b[1;33m(\u001b[0m\u001b[0mself\u001b[0m\u001b[1;33m,\u001b[0m \u001b[0mX\u001b[0m\u001b[1;33m)\u001b[0m\u001b[1;33m:\u001b[0m\u001b[1;33m\u001b[0m\u001b[1;33m\u001b[0m\u001b[0m\n",
      "\u001b[1;32m~\\anaconda3\\lib\\site-packages\\sklearn\\neighbors\\_base.py\u001b[0m in \u001b[0;36m_fit\u001b[1;34m(self, X, y)\u001b[0m\n\u001b[0;32m    361\u001b[0m         \u001b[1;32mif\u001b[0m \u001b[0mself\u001b[0m\u001b[1;33m.\u001b[0m\u001b[0m_get_tags\u001b[0m\u001b[1;33m(\u001b[0m\u001b[1;33m)\u001b[0m\u001b[1;33m[\u001b[0m\u001b[1;34m\"requires_y\"\u001b[0m\u001b[1;33m]\u001b[0m\u001b[1;33m:\u001b[0m\u001b[1;33m\u001b[0m\u001b[1;33m\u001b[0m\u001b[0m\n\u001b[0;32m    362\u001b[0m             \u001b[1;32mif\u001b[0m \u001b[1;32mnot\u001b[0m \u001b[0misinstance\u001b[0m\u001b[1;33m(\u001b[0m\u001b[0mX\u001b[0m\u001b[1;33m,\u001b[0m \u001b[1;33m(\u001b[0m\u001b[0mKDTree\u001b[0m\u001b[1;33m,\u001b[0m \u001b[0mBallTree\u001b[0m\u001b[1;33m,\u001b[0m \u001b[0mNeighborsBase\u001b[0m\u001b[1;33m)\u001b[0m\u001b[1;33m)\u001b[0m\u001b[1;33m:\u001b[0m\u001b[1;33m\u001b[0m\u001b[1;33m\u001b[0m\u001b[0m\n\u001b[1;32m--> 363\u001b[1;33m                 X, y = self._validate_data(X, y, accept_sparse=\"csr\",\n\u001b[0m\u001b[0;32m    364\u001b[0m                                            multi_output=True)\n\u001b[0;32m    365\u001b[0m \u001b[1;33m\u001b[0m\u001b[0m\n",
      "\u001b[1;32m~\\anaconda3\\lib\\site-packages\\sklearn\\base.py\u001b[0m in \u001b[0;36m_validate_data\u001b[1;34m(self, X, y, reset, validate_separately, **check_params)\u001b[0m\n\u001b[0;32m    431\u001b[0m                 \u001b[0my\u001b[0m \u001b[1;33m=\u001b[0m \u001b[0mcheck_array\u001b[0m\u001b[1;33m(\u001b[0m\u001b[0my\u001b[0m\u001b[1;33m,\u001b[0m \u001b[1;33m**\u001b[0m\u001b[0mcheck_y_params\u001b[0m\u001b[1;33m)\u001b[0m\u001b[1;33m\u001b[0m\u001b[1;33m\u001b[0m\u001b[0m\n\u001b[0;32m    432\u001b[0m             \u001b[1;32melse\u001b[0m\u001b[1;33m:\u001b[0m\u001b[1;33m\u001b[0m\u001b[1;33m\u001b[0m\u001b[0m\n\u001b[1;32m--> 433\u001b[1;33m                 \u001b[0mX\u001b[0m\u001b[1;33m,\u001b[0m \u001b[0my\u001b[0m \u001b[1;33m=\u001b[0m \u001b[0mcheck_X_y\u001b[0m\u001b[1;33m(\u001b[0m\u001b[0mX\u001b[0m\u001b[1;33m,\u001b[0m \u001b[0my\u001b[0m\u001b[1;33m,\u001b[0m \u001b[1;33m**\u001b[0m\u001b[0mcheck_params\u001b[0m\u001b[1;33m)\u001b[0m\u001b[1;33m\u001b[0m\u001b[1;33m\u001b[0m\u001b[0m\n\u001b[0m\u001b[0;32m    434\u001b[0m             \u001b[0mout\u001b[0m \u001b[1;33m=\u001b[0m \u001b[0mX\u001b[0m\u001b[1;33m,\u001b[0m \u001b[0my\u001b[0m\u001b[1;33m\u001b[0m\u001b[1;33m\u001b[0m\u001b[0m\n\u001b[0;32m    435\u001b[0m \u001b[1;33m\u001b[0m\u001b[0m\n",
      "\u001b[1;32m~\\anaconda3\\lib\\site-packages\\sklearn\\utils\\validation.py\u001b[0m in \u001b[0;36minner_f\u001b[1;34m(*args, **kwargs)\u001b[0m\n\u001b[0;32m     61\u001b[0m             \u001b[0mextra_args\u001b[0m \u001b[1;33m=\u001b[0m \u001b[0mlen\u001b[0m\u001b[1;33m(\u001b[0m\u001b[0margs\u001b[0m\u001b[1;33m)\u001b[0m \u001b[1;33m-\u001b[0m \u001b[0mlen\u001b[0m\u001b[1;33m(\u001b[0m\u001b[0mall_args\u001b[0m\u001b[1;33m)\u001b[0m\u001b[1;33m\u001b[0m\u001b[1;33m\u001b[0m\u001b[0m\n\u001b[0;32m     62\u001b[0m             \u001b[1;32mif\u001b[0m \u001b[0mextra_args\u001b[0m \u001b[1;33m<=\u001b[0m \u001b[1;36m0\u001b[0m\u001b[1;33m:\u001b[0m\u001b[1;33m\u001b[0m\u001b[1;33m\u001b[0m\u001b[0m\n\u001b[1;32m---> 63\u001b[1;33m                 \u001b[1;32mreturn\u001b[0m \u001b[0mf\u001b[0m\u001b[1;33m(\u001b[0m\u001b[1;33m*\u001b[0m\u001b[0margs\u001b[0m\u001b[1;33m,\u001b[0m \u001b[1;33m**\u001b[0m\u001b[0mkwargs\u001b[0m\u001b[1;33m)\u001b[0m\u001b[1;33m\u001b[0m\u001b[1;33m\u001b[0m\u001b[0m\n\u001b[0m\u001b[0;32m     64\u001b[0m \u001b[1;33m\u001b[0m\u001b[0m\n\u001b[0;32m     65\u001b[0m             \u001b[1;31m# extra_args > 0\u001b[0m\u001b[1;33m\u001b[0m\u001b[1;33m\u001b[0m\u001b[1;33m\u001b[0m\u001b[0m\n",
      "\u001b[1;32m~\\anaconda3\\lib\\site-packages\\sklearn\\utils\\validation.py\u001b[0m in \u001b[0;36mcheck_X_y\u001b[1;34m(X, y, accept_sparse, accept_large_sparse, dtype, order, copy, force_all_finite, ensure_2d, allow_nd, multi_output, ensure_min_samples, ensure_min_features, y_numeric, estimator)\u001b[0m\n\u001b[0;32m    812\u001b[0m         \u001b[1;32mraise\u001b[0m \u001b[0mValueError\u001b[0m\u001b[1;33m(\u001b[0m\u001b[1;34m\"y cannot be None\"\u001b[0m\u001b[1;33m)\u001b[0m\u001b[1;33m\u001b[0m\u001b[1;33m\u001b[0m\u001b[0m\n\u001b[0;32m    813\u001b[0m \u001b[1;33m\u001b[0m\u001b[0m\n\u001b[1;32m--> 814\u001b[1;33m     X = check_array(X, accept_sparse=accept_sparse,\n\u001b[0m\u001b[0;32m    815\u001b[0m                     \u001b[0maccept_large_sparse\u001b[0m\u001b[1;33m=\u001b[0m\u001b[0maccept_large_sparse\u001b[0m\u001b[1;33m,\u001b[0m\u001b[1;33m\u001b[0m\u001b[1;33m\u001b[0m\u001b[0m\n\u001b[0;32m    816\u001b[0m                     \u001b[0mdtype\u001b[0m\u001b[1;33m=\u001b[0m\u001b[0mdtype\u001b[0m\u001b[1;33m,\u001b[0m \u001b[0morder\u001b[0m\u001b[1;33m=\u001b[0m\u001b[0morder\u001b[0m\u001b[1;33m,\u001b[0m \u001b[0mcopy\u001b[0m\u001b[1;33m=\u001b[0m\u001b[0mcopy\u001b[0m\u001b[1;33m,\u001b[0m\u001b[1;33m\u001b[0m\u001b[1;33m\u001b[0m\u001b[0m\n",
      "\u001b[1;32m~\\anaconda3\\lib\\site-packages\\sklearn\\utils\\validation.py\u001b[0m in \u001b[0;36minner_f\u001b[1;34m(*args, **kwargs)\u001b[0m\n\u001b[0;32m     61\u001b[0m             \u001b[0mextra_args\u001b[0m \u001b[1;33m=\u001b[0m \u001b[0mlen\u001b[0m\u001b[1;33m(\u001b[0m\u001b[0margs\u001b[0m\u001b[1;33m)\u001b[0m \u001b[1;33m-\u001b[0m \u001b[0mlen\u001b[0m\u001b[1;33m(\u001b[0m\u001b[0mall_args\u001b[0m\u001b[1;33m)\u001b[0m\u001b[1;33m\u001b[0m\u001b[1;33m\u001b[0m\u001b[0m\n\u001b[0;32m     62\u001b[0m             \u001b[1;32mif\u001b[0m \u001b[0mextra_args\u001b[0m \u001b[1;33m<=\u001b[0m \u001b[1;36m0\u001b[0m\u001b[1;33m:\u001b[0m\u001b[1;33m\u001b[0m\u001b[1;33m\u001b[0m\u001b[0m\n\u001b[1;32m---> 63\u001b[1;33m                 \u001b[1;32mreturn\u001b[0m \u001b[0mf\u001b[0m\u001b[1;33m(\u001b[0m\u001b[1;33m*\u001b[0m\u001b[0margs\u001b[0m\u001b[1;33m,\u001b[0m \u001b[1;33m**\u001b[0m\u001b[0mkwargs\u001b[0m\u001b[1;33m)\u001b[0m\u001b[1;33m\u001b[0m\u001b[1;33m\u001b[0m\u001b[0m\n\u001b[0m\u001b[0;32m     64\u001b[0m \u001b[1;33m\u001b[0m\u001b[0m\n\u001b[0;32m     65\u001b[0m             \u001b[1;31m# extra_args > 0\u001b[0m\u001b[1;33m\u001b[0m\u001b[1;33m\u001b[0m\u001b[1;33m\u001b[0m\u001b[0m\n",
      "\u001b[1;32m~\\anaconda3\\lib\\site-packages\\sklearn\\utils\\validation.py\u001b[0m in \u001b[0;36mcheck_array\u001b[1;34m(array, accept_sparse, accept_large_sparse, dtype, order, copy, force_all_finite, ensure_2d, allow_nd, ensure_min_samples, ensure_min_features, estimator)\u001b[0m\n\u001b[0;32m    614\u001b[0m                     \u001b[0marray\u001b[0m \u001b[1;33m=\u001b[0m \u001b[0marray\u001b[0m\u001b[1;33m.\u001b[0m\u001b[0mastype\u001b[0m\u001b[1;33m(\u001b[0m\u001b[0mdtype\u001b[0m\u001b[1;33m,\u001b[0m \u001b[0mcasting\u001b[0m\u001b[1;33m=\u001b[0m\u001b[1;34m\"unsafe\"\u001b[0m\u001b[1;33m,\u001b[0m \u001b[0mcopy\u001b[0m\u001b[1;33m=\u001b[0m\u001b[1;32mFalse\u001b[0m\u001b[1;33m)\u001b[0m\u001b[1;33m\u001b[0m\u001b[1;33m\u001b[0m\u001b[0m\n\u001b[0;32m    615\u001b[0m                 \u001b[1;32melse\u001b[0m\u001b[1;33m:\u001b[0m\u001b[1;33m\u001b[0m\u001b[1;33m\u001b[0m\u001b[0m\n\u001b[1;32m--> 616\u001b[1;33m                     \u001b[0marray\u001b[0m \u001b[1;33m=\u001b[0m \u001b[0mnp\u001b[0m\u001b[1;33m.\u001b[0m\u001b[0masarray\u001b[0m\u001b[1;33m(\u001b[0m\u001b[0marray\u001b[0m\u001b[1;33m,\u001b[0m \u001b[0morder\u001b[0m\u001b[1;33m=\u001b[0m\u001b[0morder\u001b[0m\u001b[1;33m,\u001b[0m \u001b[0mdtype\u001b[0m\u001b[1;33m=\u001b[0m\u001b[0mdtype\u001b[0m\u001b[1;33m)\u001b[0m\u001b[1;33m\u001b[0m\u001b[1;33m\u001b[0m\u001b[0m\n\u001b[0m\u001b[0;32m    617\u001b[0m             \u001b[1;32mexcept\u001b[0m \u001b[0mComplexWarning\u001b[0m \u001b[1;32mas\u001b[0m \u001b[0mcomplex_warning\u001b[0m\u001b[1;33m:\u001b[0m\u001b[1;33m\u001b[0m\u001b[1;33m\u001b[0m\u001b[0m\n\u001b[0;32m    618\u001b[0m                 raise ValueError(\"Complex data not supported\\n\"\n",
      "\u001b[1;32m~\\anaconda3\\lib\\site-packages\\pandas\\core\\generic.py\u001b[0m in \u001b[0;36m__array__\u001b[1;34m(self, dtype)\u001b[0m\n\u001b[0;32m   2070\u001b[0m \u001b[1;33m\u001b[0m\u001b[0m\n\u001b[0;32m   2071\u001b[0m     \u001b[1;32mdef\u001b[0m \u001b[0m__array__\u001b[0m\u001b[1;33m(\u001b[0m\u001b[0mself\u001b[0m\u001b[1;33m,\u001b[0m \u001b[0mdtype\u001b[0m\u001b[1;33m:\u001b[0m \u001b[0mnpt\u001b[0m\u001b[1;33m.\u001b[0m\u001b[0mDTypeLike\u001b[0m \u001b[1;33m|\u001b[0m \u001b[1;32mNone\u001b[0m \u001b[1;33m=\u001b[0m \u001b[1;32mNone\u001b[0m\u001b[1;33m)\u001b[0m \u001b[1;33m->\u001b[0m \u001b[0mnp\u001b[0m\u001b[1;33m.\u001b[0m\u001b[0mndarray\u001b[0m\u001b[1;33m:\u001b[0m\u001b[1;33m\u001b[0m\u001b[1;33m\u001b[0m\u001b[0m\n\u001b[1;32m-> 2072\u001b[1;33m         \u001b[1;32mreturn\u001b[0m \u001b[0mnp\u001b[0m\u001b[1;33m.\u001b[0m\u001b[0masarray\u001b[0m\u001b[1;33m(\u001b[0m\u001b[0mself\u001b[0m\u001b[1;33m.\u001b[0m\u001b[0m_values\u001b[0m\u001b[1;33m,\u001b[0m \u001b[0mdtype\u001b[0m\u001b[1;33m=\u001b[0m\u001b[0mdtype\u001b[0m\u001b[1;33m)\u001b[0m\u001b[1;33m\u001b[0m\u001b[1;33m\u001b[0m\u001b[0m\n\u001b[0m\u001b[0;32m   2073\u001b[0m \u001b[1;33m\u001b[0m\u001b[0m\n\u001b[0;32m   2074\u001b[0m     def __array_wrap__(\n",
      "\u001b[1;32m~\\anaconda3\\lib\\site-packages\\pandas\\core\\frame.py\u001b[0m in \u001b[0;36m_values\u001b[1;34m(self)\u001b[0m\n\u001b[0;32m    916\u001b[0m         \u001b[0mblocks\u001b[0m \u001b[1;33m=\u001b[0m \u001b[0mmgr\u001b[0m\u001b[1;33m.\u001b[0m\u001b[0mblocks\u001b[0m\u001b[1;33m\u001b[0m\u001b[1;33m\u001b[0m\u001b[0m\n\u001b[0;32m    917\u001b[0m         \u001b[1;32mif\u001b[0m \u001b[0mlen\u001b[0m\u001b[1;33m(\u001b[0m\u001b[0mblocks\u001b[0m\u001b[1;33m)\u001b[0m \u001b[1;33m!=\u001b[0m \u001b[1;36m1\u001b[0m\u001b[1;33m:\u001b[0m\u001b[1;33m\u001b[0m\u001b[1;33m\u001b[0m\u001b[0m\n\u001b[1;32m--> 918\u001b[1;33m             \u001b[1;32mreturn\u001b[0m \u001b[0mself\u001b[0m\u001b[1;33m.\u001b[0m\u001b[0mvalues\u001b[0m\u001b[1;33m\u001b[0m\u001b[1;33m\u001b[0m\u001b[0m\n\u001b[0m\u001b[0;32m    919\u001b[0m \u001b[1;33m\u001b[0m\u001b[0m\n\u001b[0;32m    920\u001b[0m         \u001b[0marr\u001b[0m \u001b[1;33m=\u001b[0m \u001b[0mblocks\u001b[0m\u001b[1;33m[\u001b[0m\u001b[1;36m0\u001b[0m\u001b[1;33m]\u001b[0m\u001b[1;33m.\u001b[0m\u001b[0mvalues\u001b[0m\u001b[1;33m\u001b[0m\u001b[1;33m\u001b[0m\u001b[0m\n",
      "\u001b[1;32m~\\anaconda3\\lib\\site-packages\\pandas\\core\\frame.py\u001b[0m in \u001b[0;36mvalues\u001b[1;34m(self)\u001b[0m\n\u001b[0;32m  10875\u001b[0m         \"\"\"\n\u001b[0;32m  10876\u001b[0m         \u001b[0mself\u001b[0m\u001b[1;33m.\u001b[0m\u001b[0m_consolidate_inplace\u001b[0m\u001b[1;33m(\u001b[0m\u001b[1;33m)\u001b[0m\u001b[1;33m\u001b[0m\u001b[1;33m\u001b[0m\u001b[0m\n\u001b[1;32m> 10877\u001b[1;33m         \u001b[1;32mreturn\u001b[0m \u001b[0mself\u001b[0m\u001b[1;33m.\u001b[0m\u001b[0m_mgr\u001b[0m\u001b[1;33m.\u001b[0m\u001b[0mas_array\u001b[0m\u001b[1;33m(\u001b[0m\u001b[1;33m)\u001b[0m\u001b[1;33m\u001b[0m\u001b[1;33m\u001b[0m\u001b[0m\n\u001b[0m\u001b[0;32m  10878\u001b[0m \u001b[1;33m\u001b[0m\u001b[0m\n\u001b[0;32m  10879\u001b[0m     \u001b[1;33m@\u001b[0m\u001b[0mdeprecate_nonkeyword_arguments\u001b[0m\u001b[1;33m(\u001b[0m\u001b[0mversion\u001b[0m\u001b[1;33m=\u001b[0m\u001b[1;32mNone\u001b[0m\u001b[1;33m,\u001b[0m \u001b[0mallowed_args\u001b[0m\u001b[1;33m=\u001b[0m\u001b[1;33m[\u001b[0m\u001b[1;34m\"self\"\u001b[0m\u001b[1;33m]\u001b[0m\u001b[1;33m)\u001b[0m\u001b[1;33m\u001b[0m\u001b[1;33m\u001b[0m\u001b[0m\n",
      "\u001b[1;32m~\\anaconda3\\lib\\site-packages\\pandas\\core\\internals\\managers.py\u001b[0m in \u001b[0;36mas_array\u001b[1;34m(self, dtype, copy, na_value)\u001b[0m\n\u001b[0;32m   1587\u001b[0m                     \u001b[0marr\u001b[0m \u001b[1;33m=\u001b[0m \u001b[0marr\u001b[0m\u001b[1;33m.\u001b[0m\u001b[0mastype\u001b[0m\u001b[1;33m(\u001b[0m\u001b[0mdtype\u001b[0m\u001b[1;33m,\u001b[0m \u001b[0mcopy\u001b[0m\u001b[1;33m=\u001b[0m\u001b[1;32mFalse\u001b[0m\u001b[1;33m)\u001b[0m\u001b[1;33m\u001b[0m\u001b[1;33m\u001b[0m\u001b[0m\n\u001b[0;32m   1588\u001b[0m         \u001b[1;32melse\u001b[0m\u001b[1;33m:\u001b[0m\u001b[1;33m\u001b[0m\u001b[1;33m\u001b[0m\u001b[0m\n\u001b[1;32m-> 1589\u001b[1;33m             \u001b[0marr\u001b[0m \u001b[1;33m=\u001b[0m \u001b[0mself\u001b[0m\u001b[1;33m.\u001b[0m\u001b[0m_interleave\u001b[0m\u001b[1;33m(\u001b[0m\u001b[0mdtype\u001b[0m\u001b[1;33m=\u001b[0m\u001b[0mdtype\u001b[0m\u001b[1;33m,\u001b[0m \u001b[0mna_value\u001b[0m\u001b[1;33m=\u001b[0m\u001b[0mna_value\u001b[0m\u001b[1;33m)\u001b[0m\u001b[1;33m\u001b[0m\u001b[1;33m\u001b[0m\u001b[0m\n\u001b[0m\u001b[0;32m   1590\u001b[0m             \u001b[1;31m# The underlying data was copied within _interleave\u001b[0m\u001b[1;33m\u001b[0m\u001b[1;33m\u001b[0m\u001b[1;33m\u001b[0m\u001b[0m\n\u001b[0;32m   1591\u001b[0m             \u001b[0mcopy\u001b[0m \u001b[1;33m=\u001b[0m \u001b[1;32mFalse\u001b[0m\u001b[1;33m\u001b[0m\u001b[1;33m\u001b[0m\u001b[0m\n",
      "\u001b[1;32m~\\anaconda3\\lib\\site-packages\\pandas\\core\\internals\\managers.py\u001b[0m in \u001b[0;36m_interleave\u001b[1;34m(self, dtype, na_value)\u001b[0m\n\u001b[0;32m   1652\u001b[0m             \u001b[1;32melse\u001b[0m\u001b[1;33m:\u001b[0m\u001b[1;33m\u001b[0m\u001b[1;33m\u001b[0m\u001b[0m\n\u001b[0;32m   1653\u001b[0m                 \u001b[0marr\u001b[0m \u001b[1;33m=\u001b[0m \u001b[0mblk\u001b[0m\u001b[1;33m.\u001b[0m\u001b[0mget_values\u001b[0m\u001b[1;33m(\u001b[0m\u001b[0mdtype\u001b[0m\u001b[1;33m)\u001b[0m\u001b[1;33m\u001b[0m\u001b[1;33m\u001b[0m\u001b[0m\n\u001b[1;32m-> 1654\u001b[1;33m             \u001b[0mresult\u001b[0m\u001b[1;33m[\u001b[0m\u001b[0mrl\u001b[0m\u001b[1;33m.\u001b[0m\u001b[0mindexer\u001b[0m\u001b[1;33m]\u001b[0m \u001b[1;33m=\u001b[0m \u001b[0marr\u001b[0m\u001b[1;33m\u001b[0m\u001b[1;33m\u001b[0m\u001b[0m\n\u001b[0m\u001b[0;32m   1655\u001b[0m             \u001b[0mitemmask\u001b[0m\u001b[1;33m[\u001b[0m\u001b[0mrl\u001b[0m\u001b[1;33m.\u001b[0m\u001b[0mindexer\u001b[0m\u001b[1;33m]\u001b[0m \u001b[1;33m=\u001b[0m \u001b[1;36m1\u001b[0m\u001b[1;33m\u001b[0m\u001b[1;33m\u001b[0m\u001b[0m\n\u001b[0;32m   1656\u001b[0m \u001b[1;33m\u001b[0m\u001b[0m\n",
      "\u001b[1;31mKeyboardInterrupt\u001b[0m: "
     ]
    }
   ],
   "source": [
    "from sklearn.neighbors import KNeighborsClassifier\n",
    "iterations = 10\n",
    "k_params = list(range(2, 10))\n",
    "knn_accuracy = {}\n",
    "\n",
    "for k in tqdm(k_params):\n",
    "    train_acc_list = []\n",
    "    test_acc_list = []\n",
    "    \n",
    "    for seed in range(iterations):\n",
    "        X_train, X_test, y_train, y_test = train_test_split(X, y, \n",
    "                                                            test_size=0.2, \n",
    "                                                            random_state=seed,\n",
    "                                                            stratify=y)\n",
    "\n",
    "        knn_model = KNeighborsClassifier(n_neighbors=k)\n",
    "        knn_model.fit(X_train, y_train)\n",
    "    \n",
    "        train_acc_list.append(knn_model.score(X_train, y_train))\n",
    "        test_acc_list.append(knn_model.score(X_test, y_test))\n",
    "    \n",
    "    knn_accuracy[str(k)] = {'train_acc': np.mean(train_acc_list),\n",
    "                            'test_acc': np.mean(test_acc_list)}"
   ]
  },
  {
   "cell_type": "code",
   "execution_count": 5,
   "id": "5cff7acb",
   "metadata": {},
   "outputs": [
    {
     "data": {
      "text/plain": [
       "{'2': {'train_acc': 0.9423761735189384, 'test_acc': 0.8962453471435508},\n",
       " '3': {'train_acc': 0.9411014891550662, 'test_acc': 0.8991584398770026}}"
      ]
     },
     "execution_count": 5,
     "metadata": {},
     "output_type": "execute_result"
    }
   ],
   "source": [
    "knn_accuracy"
   ]
  },
  {
   "cell_type": "code",
   "execution_count": 2,
   "id": "7a150ac6",
   "metadata": {},
   "outputs": [],
   "source": [
    "X1=X.to_numpy()\n",
    "y1=y.to_numpy()"
   ]
  },
  {
   "cell_type": "code",
   "execution_count": 14,
   "id": "d3994ab0",
   "metadata": {},
   "outputs": [
    {
     "data": {
      "application/javascript": [
       "\n",
       "        if (window._pyforest_update_imports_cell) { window._pyforest_update_imports_cell('from sklearn.model_selection import KFold\\nfrom sklearn.linear_model import LogisticRegression\\nfrom sklearn.model_selection import train_test_split'); }\n",
       "    "
      ],
      "text/plain": [
       "<IPython.core.display.Javascript object>"
      ]
     },
     "metadata": {},
     "output_type": "display_data"
    },
    {
     "data": {
      "application/vnd.jupyter.widget-view+json": {
       "model_id": "64bc08a31b94421882128e53eb0b14ac",
       "version_major": 2,
       "version_minor": 0
      },
      "text/plain": [
       "  0%|          | 0/8 [00:00<?, ?it/s]"
      ]
     },
     "metadata": {},
     "output_type": "display_data"
    },
    {
     "name": "stdout",
     "output_type": "stream",
     "text": [
      "[ 6179  6180  6181 ... 30888 30889 30890] [   0    1    2 ... 6176 6177 6178]\n"
     ]
    },
    {
     "data": {
      "application/javascript": [
       "\n",
       "        if (window._pyforest_update_imports_cell) { window._pyforest_update_imports_cell('from sklearn.model_selection import KFold\\nfrom sklearn.linear_model import LogisticRegression\\nfrom sklearn.model_selection import train_test_split'); }\n",
       "    "
      ],
      "text/plain": [
       "<IPython.core.display.Javascript object>"
      ]
     },
     "metadata": {},
     "output_type": "display_data"
    },
    {
     "name": "stdout",
     "output_type": "stream",
     "text": [
      "[    0     1     2 ... 30888 30889 30890] [ 6179  6180  6181 ... 12354 12355 12356]\n"
     ]
    },
    {
     "data": {
      "application/javascript": [
       "\n",
       "        if (window._pyforest_update_imports_cell) { window._pyforest_update_imports_cell('from sklearn.model_selection import KFold\\nfrom sklearn.linear_model import LogisticRegression\\nfrom sklearn.model_selection import train_test_split'); }\n",
       "    "
      ],
      "text/plain": [
       "<IPython.core.display.Javascript object>"
      ]
     },
     "metadata": {},
     "output_type": "display_data"
    },
    {
     "name": "stdout",
     "output_type": "stream",
     "text": [
      "[    0     1     2 ... 30888 30889 30890] [12357 12358 12359 ... 18532 18533 18534]\n"
     ]
    },
    {
     "data": {
      "application/javascript": [
       "\n",
       "        if (window._pyforest_update_imports_cell) { window._pyforest_update_imports_cell('from sklearn.model_selection import KFold\\nfrom sklearn.linear_model import LogisticRegression\\nfrom sklearn.model_selection import train_test_split'); }\n",
       "    "
      ],
      "text/plain": [
       "<IPython.core.display.Javascript object>"
      ]
     },
     "metadata": {},
     "output_type": "display_data"
    },
    {
     "name": "stdout",
     "output_type": "stream",
     "text": [
      "[    0     1     2 ... 30888 30889 30890] [18535 18536 18537 ... 24710 24711 24712]\n"
     ]
    },
    {
     "data": {
      "application/javascript": [
       "\n",
       "        if (window._pyforest_update_imports_cell) { window._pyforest_update_imports_cell('from sklearn.model_selection import KFold\\nfrom sklearn.linear_model import LogisticRegression\\nfrom sklearn.model_selection import train_test_split'); }\n",
       "    "
      ],
      "text/plain": [
       "<IPython.core.display.Javascript object>"
      ]
     },
     "metadata": {},
     "output_type": "display_data"
    },
    {
     "name": "stdout",
     "output_type": "stream",
     "text": [
      "[    0     1     2 ... 24710 24711 24712] [24713 24714 24715 ... 30888 30889 30890]\n"
     ]
    },
    {
     "data": {
      "application/javascript": [
       "\n",
       "        if (window._pyforest_update_imports_cell) { window._pyforest_update_imports_cell('from sklearn.model_selection import KFold\\nfrom sklearn.linear_model import LogisticRegression\\nfrom sklearn.model_selection import train_test_split'); }\n",
       "    "
      ],
      "text/plain": [
       "<IPython.core.display.Javascript object>"
      ]
     },
     "metadata": {},
     "output_type": "display_data"
    },
    {
     "name": "stdout",
     "output_type": "stream",
     "text": [
      "[ 6179  6180  6181 ... 30888 30889 30890] [   0    1    2 ... 6176 6177 6178]\n"
     ]
    },
    {
     "data": {
      "application/javascript": [
       "\n",
       "        if (window._pyforest_update_imports_cell) { window._pyforest_update_imports_cell('from sklearn.model_selection import KFold\\nfrom sklearn.linear_model import LogisticRegression\\nfrom sklearn.model_selection import train_test_split'); }\n",
       "    "
      ],
      "text/plain": [
       "<IPython.core.display.Javascript object>"
      ]
     },
     "metadata": {},
     "output_type": "display_data"
    },
    {
     "name": "stdout",
     "output_type": "stream",
     "text": [
      "[    0     1     2 ... 30888 30889 30890] [ 6179  6180  6181 ... 12354 12355 12356]\n"
     ]
    },
    {
     "data": {
      "application/javascript": [
       "\n",
       "        if (window._pyforest_update_imports_cell) { window._pyforest_update_imports_cell('from sklearn.model_selection import KFold\\nfrom sklearn.linear_model import LogisticRegression\\nfrom sklearn.model_selection import train_test_split'); }\n",
       "    "
      ],
      "text/plain": [
       "<IPython.core.display.Javascript object>"
      ]
     },
     "metadata": {},
     "output_type": "display_data"
    },
    {
     "name": "stdout",
     "output_type": "stream",
     "text": [
      "[    0     1     2 ... 30888 30889 30890] [12357 12358 12359 ... 18532 18533 18534]\n"
     ]
    },
    {
     "data": {
      "application/javascript": [
       "\n",
       "        if (window._pyforest_update_imports_cell) { window._pyforest_update_imports_cell('from sklearn.model_selection import KFold\\nfrom sklearn.linear_model import LogisticRegression\\nfrom sklearn.model_selection import train_test_split'); }\n",
       "    "
      ],
      "text/plain": [
       "<IPython.core.display.Javascript object>"
      ]
     },
     "metadata": {},
     "output_type": "display_data"
    },
    {
     "name": "stdout",
     "output_type": "stream",
     "text": [
      "[    0     1     2 ... 30888 30889 30890] [18535 18536 18537 ... 24710 24711 24712]\n"
     ]
    },
    {
     "data": {
      "application/javascript": [
       "\n",
       "        if (window._pyforest_update_imports_cell) { window._pyforest_update_imports_cell('from sklearn.model_selection import KFold\\nfrom sklearn.linear_model import LogisticRegression\\nfrom sklearn.model_selection import train_test_split'); }\n",
       "    "
      ],
      "text/plain": [
       "<IPython.core.display.Javascript object>"
      ]
     },
     "metadata": {},
     "output_type": "display_data"
    },
    {
     "name": "stdout",
     "output_type": "stream",
     "text": [
      "[    0     1     2 ... 24710 24711 24712] [24713 24714 24715 ... 30888 30889 30890]\n"
     ]
    },
    {
     "data": {
      "application/javascript": [
       "\n",
       "        if (window._pyforest_update_imports_cell) { window._pyforest_update_imports_cell('from sklearn.model_selection import KFold\\nfrom sklearn.linear_model import LogisticRegression\\nfrom sklearn.model_selection import train_test_split'); }\n",
       "    "
      ],
      "text/plain": [
       "<IPython.core.display.Javascript object>"
      ]
     },
     "metadata": {},
     "output_type": "display_data"
    },
    {
     "name": "stdout",
     "output_type": "stream",
     "text": [
      "[ 6179  6180  6181 ... 30888 30889 30890] [   0    1    2 ... 6176 6177 6178]\n"
     ]
    },
    {
     "data": {
      "application/javascript": [
       "\n",
       "        if (window._pyforest_update_imports_cell) { window._pyforest_update_imports_cell('from sklearn.model_selection import KFold\\nfrom sklearn.linear_model import LogisticRegression\\nfrom sklearn.model_selection import train_test_split'); }\n",
       "    "
      ],
      "text/plain": [
       "<IPython.core.display.Javascript object>"
      ]
     },
     "metadata": {},
     "output_type": "display_data"
    },
    {
     "name": "stdout",
     "output_type": "stream",
     "text": [
      "[    0     1     2 ... 30888 30889 30890] [ 6179  6180  6181 ... 12354 12355 12356]\n"
     ]
    },
    {
     "data": {
      "application/javascript": [
       "\n",
       "        if (window._pyforest_update_imports_cell) { window._pyforest_update_imports_cell('from sklearn.model_selection import KFold\\nfrom sklearn.linear_model import LogisticRegression\\nfrom sklearn.model_selection import train_test_split'); }\n",
       "    "
      ],
      "text/plain": [
       "<IPython.core.display.Javascript object>"
      ]
     },
     "metadata": {},
     "output_type": "display_data"
    },
    {
     "name": "stdout",
     "output_type": "stream",
     "text": [
      "[    0     1     2 ... 30888 30889 30890] [12357 12358 12359 ... 18532 18533 18534]\n"
     ]
    },
    {
     "data": {
      "application/javascript": [
       "\n",
       "        if (window._pyforest_update_imports_cell) { window._pyforest_update_imports_cell('from sklearn.model_selection import KFold\\nfrom sklearn.linear_model import LogisticRegression\\nfrom sklearn.model_selection import train_test_split'); }\n",
       "    "
      ],
      "text/plain": [
       "<IPython.core.display.Javascript object>"
      ]
     },
     "metadata": {},
     "output_type": "display_data"
    },
    {
     "name": "stdout",
     "output_type": "stream",
     "text": [
      "[    0     1     2 ... 30888 30889 30890] [18535 18536 18537 ... 24710 24711 24712]\n"
     ]
    },
    {
     "data": {
      "application/javascript": [
       "\n",
       "        if (window._pyforest_update_imports_cell) { window._pyforest_update_imports_cell('from sklearn.model_selection import KFold\\nfrom sklearn.linear_model import LogisticRegression\\nfrom sklearn.model_selection import train_test_split'); }\n",
       "    "
      ],
      "text/plain": [
       "<IPython.core.display.Javascript object>"
      ]
     },
     "metadata": {},
     "output_type": "display_data"
    },
    {
     "name": "stdout",
     "output_type": "stream",
     "text": [
      "[    0     1     2 ... 24710 24711 24712] [24713 24714 24715 ... 30888 30889 30890]\n"
     ]
    },
    {
     "data": {
      "application/javascript": [
       "\n",
       "        if (window._pyforest_update_imports_cell) { window._pyforest_update_imports_cell('from sklearn.model_selection import KFold\\nfrom sklearn.linear_model import LogisticRegression\\nfrom sklearn.model_selection import train_test_split'); }\n",
       "    "
      ],
      "text/plain": [
       "<IPython.core.display.Javascript object>"
      ]
     },
     "metadata": {},
     "output_type": "display_data"
    },
    {
     "name": "stdout",
     "output_type": "stream",
     "text": [
      "[ 6179  6180  6181 ... 30888 30889 30890] [   0    1    2 ... 6176 6177 6178]\n"
     ]
    },
    {
     "data": {
      "application/javascript": [
       "\n",
       "        if (window._pyforest_update_imports_cell) { window._pyforest_update_imports_cell('from sklearn.model_selection import KFold\\nfrom sklearn.linear_model import LogisticRegression\\nfrom sklearn.model_selection import train_test_split'); }\n",
       "    "
      ],
      "text/plain": [
       "<IPython.core.display.Javascript object>"
      ]
     },
     "metadata": {},
     "output_type": "display_data"
    },
    {
     "name": "stdout",
     "output_type": "stream",
     "text": [
      "[    0     1     2 ... 30888 30889 30890] [ 6179  6180  6181 ... 12354 12355 12356]\n"
     ]
    },
    {
     "data": {
      "application/javascript": [
       "\n",
       "        if (window._pyforest_update_imports_cell) { window._pyforest_update_imports_cell('from sklearn.model_selection import KFold\\nfrom sklearn.linear_model import LogisticRegression\\nfrom sklearn.model_selection import train_test_split'); }\n",
       "    "
      ],
      "text/plain": [
       "<IPython.core.display.Javascript object>"
      ]
     },
     "metadata": {},
     "output_type": "display_data"
    },
    {
     "name": "stdout",
     "output_type": "stream",
     "text": [
      "[    0     1     2 ... 30888 30889 30890] [12357 12358 12359 ... 18532 18533 18534]\n"
     ]
    },
    {
     "data": {
      "application/javascript": [
       "\n",
       "        if (window._pyforest_update_imports_cell) { window._pyforest_update_imports_cell('from sklearn.model_selection import KFold\\nfrom sklearn.linear_model import LogisticRegression\\nfrom sklearn.model_selection import train_test_split'); }\n",
       "    "
      ],
      "text/plain": [
       "<IPython.core.display.Javascript object>"
      ]
     },
     "metadata": {},
     "output_type": "display_data"
    },
    {
     "name": "stdout",
     "output_type": "stream",
     "text": [
      "[    0     1     2 ... 30888 30889 30890] [18535 18536 18537 ... 24710 24711 24712]\n"
     ]
    },
    {
     "data": {
      "application/javascript": [
       "\n",
       "        if (window._pyforest_update_imports_cell) { window._pyforest_update_imports_cell('from sklearn.model_selection import KFold\\nfrom sklearn.linear_model import LogisticRegression\\nfrom sklearn.model_selection import train_test_split'); }\n",
       "    "
      ],
      "text/plain": [
       "<IPython.core.display.Javascript object>"
      ]
     },
     "metadata": {},
     "output_type": "display_data"
    },
    {
     "name": "stdout",
     "output_type": "stream",
     "text": [
      "[    0     1     2 ... 24710 24711 24712] [24713 24714 24715 ... 30888 30889 30890]\n"
     ]
    },
    {
     "data": {
      "application/javascript": [
       "\n",
       "        if (window._pyforest_update_imports_cell) { window._pyforest_update_imports_cell('from sklearn.model_selection import KFold\\nfrom sklearn.linear_model import LogisticRegression\\nfrom sklearn.model_selection import train_test_split'); }\n",
       "    "
      ],
      "text/plain": [
       "<IPython.core.display.Javascript object>"
      ]
     },
     "metadata": {},
     "output_type": "display_data"
    },
    {
     "name": "stdout",
     "output_type": "stream",
     "text": [
      "[ 6179  6180  6181 ... 30888 30889 30890] [   0    1    2 ... 6176 6177 6178]\n"
     ]
    },
    {
     "data": {
      "application/javascript": [
       "\n",
       "        if (window._pyforest_update_imports_cell) { window._pyforest_update_imports_cell('from sklearn.model_selection import KFold\\nfrom sklearn.linear_model import LogisticRegression\\nfrom sklearn.model_selection import train_test_split'); }\n",
       "    "
      ],
      "text/plain": [
       "<IPython.core.display.Javascript object>"
      ]
     },
     "metadata": {},
     "output_type": "display_data"
    },
    {
     "name": "stdout",
     "output_type": "stream",
     "text": [
      "[    0     1     2 ... 30888 30889 30890] [ 6179  6180  6181 ... 12354 12355 12356]\n"
     ]
    },
    {
     "data": {
      "application/javascript": [
       "\n",
       "        if (window._pyforest_update_imports_cell) { window._pyforest_update_imports_cell('from sklearn.model_selection import KFold\\nfrom sklearn.linear_model import LogisticRegression\\nfrom sklearn.model_selection import train_test_split'); }\n",
       "    "
      ],
      "text/plain": [
       "<IPython.core.display.Javascript object>"
      ]
     },
     "metadata": {},
     "output_type": "display_data"
    },
    {
     "name": "stdout",
     "output_type": "stream",
     "text": [
      "[    0     1     2 ... 30888 30889 30890] [12357 12358 12359 ... 18532 18533 18534]\n"
     ]
    },
    {
     "data": {
      "application/javascript": [
       "\n",
       "        if (window._pyforest_update_imports_cell) { window._pyforest_update_imports_cell('from sklearn.model_selection import KFold\\nfrom sklearn.linear_model import LogisticRegression\\nfrom sklearn.model_selection import train_test_split'); }\n",
       "    "
      ],
      "text/plain": [
       "<IPython.core.display.Javascript object>"
      ]
     },
     "metadata": {},
     "output_type": "display_data"
    },
    {
     "name": "stdout",
     "output_type": "stream",
     "text": [
      "[    0     1     2 ... 30888 30889 30890] [18535 18536 18537 ... 24710 24711 24712]\n"
     ]
    },
    {
     "data": {
      "application/javascript": [
       "\n",
       "        if (window._pyforest_update_imports_cell) { window._pyforest_update_imports_cell('from sklearn.model_selection import KFold\\nfrom sklearn.linear_model import LogisticRegression\\nfrom sklearn.model_selection import train_test_split'); }\n",
       "    "
      ],
      "text/plain": [
       "<IPython.core.display.Javascript object>"
      ]
     },
     "metadata": {},
     "output_type": "display_data"
    },
    {
     "name": "stdout",
     "output_type": "stream",
     "text": [
      "[    0     1     2 ... 24710 24711 24712] [24713 24714 24715 ... 30888 30889 30890]\n"
     ]
    },
    {
     "data": {
      "application/javascript": [
       "\n",
       "        if (window._pyforest_update_imports_cell) { window._pyforest_update_imports_cell('from sklearn.model_selection import KFold\\nfrom sklearn.linear_model import LogisticRegression\\nfrom sklearn.model_selection import train_test_split'); }\n",
       "    "
      ],
      "text/plain": [
       "<IPython.core.display.Javascript object>"
      ]
     },
     "metadata": {},
     "output_type": "display_data"
    },
    {
     "name": "stdout",
     "output_type": "stream",
     "text": [
      "[ 6179  6180  6181 ... 30888 30889 30890] [   0    1    2 ... 6176 6177 6178]\n"
     ]
    },
    {
     "data": {
      "application/javascript": [
       "\n",
       "        if (window._pyforest_update_imports_cell) { window._pyforest_update_imports_cell('from sklearn.model_selection import KFold\\nfrom sklearn.linear_model import LogisticRegression\\nfrom sklearn.model_selection import train_test_split'); }\n",
       "    "
      ],
      "text/plain": [
       "<IPython.core.display.Javascript object>"
      ]
     },
     "metadata": {},
     "output_type": "display_data"
    },
    {
     "name": "stdout",
     "output_type": "stream",
     "text": [
      "[    0     1     2 ... 30888 30889 30890] [ 6179  6180  6181 ... 12354 12355 12356]\n"
     ]
    },
    {
     "data": {
      "application/javascript": [
       "\n",
       "        if (window._pyforest_update_imports_cell) { window._pyforest_update_imports_cell('from sklearn.model_selection import KFold\\nfrom sklearn.linear_model import LogisticRegression\\nfrom sklearn.model_selection import train_test_split'); }\n",
       "    "
      ],
      "text/plain": [
       "<IPython.core.display.Javascript object>"
      ]
     },
     "metadata": {},
     "output_type": "display_data"
    },
    {
     "name": "stdout",
     "output_type": "stream",
     "text": [
      "[    0     1     2 ... 30888 30889 30890] [12357 12358 12359 ... 18532 18533 18534]\n"
     ]
    },
    {
     "data": {
      "application/javascript": [
       "\n",
       "        if (window._pyforest_update_imports_cell) { window._pyforest_update_imports_cell('from sklearn.model_selection import KFold\\nfrom sklearn.linear_model import LogisticRegression\\nfrom sklearn.model_selection import train_test_split'); }\n",
       "    "
      ],
      "text/plain": [
       "<IPython.core.display.Javascript object>"
      ]
     },
     "metadata": {},
     "output_type": "display_data"
    },
    {
     "name": "stdout",
     "output_type": "stream",
     "text": [
      "[    0     1     2 ... 30888 30889 30890] [18535 18536 18537 ... 24710 24711 24712]\n"
     ]
    },
    {
     "data": {
      "application/javascript": [
       "\n",
       "        if (window._pyforest_update_imports_cell) { window._pyforest_update_imports_cell('from sklearn.model_selection import KFold\\nfrom sklearn.linear_model import LogisticRegression\\nfrom sklearn.model_selection import train_test_split'); }\n",
       "    "
      ],
      "text/plain": [
       "<IPython.core.display.Javascript object>"
      ]
     },
     "metadata": {},
     "output_type": "display_data"
    },
    {
     "name": "stdout",
     "output_type": "stream",
     "text": [
      "[    0     1     2 ... 24710 24711 24712] [24713 24714 24715 ... 30888 30889 30890]\n"
     ]
    },
    {
     "data": {
      "application/javascript": [
       "\n",
       "        if (window._pyforest_update_imports_cell) { window._pyforest_update_imports_cell('from sklearn.model_selection import KFold\\nfrom sklearn.linear_model import LogisticRegression\\nfrom sklearn.model_selection import train_test_split'); }\n",
       "    "
      ],
      "text/plain": [
       "<IPython.core.display.Javascript object>"
      ]
     },
     "metadata": {},
     "output_type": "display_data"
    },
    {
     "name": "stdout",
     "output_type": "stream",
     "text": [
      "[ 6179  6180  6181 ... 30888 30889 30890] [   0    1    2 ... 6176 6177 6178]\n"
     ]
    },
    {
     "data": {
      "application/javascript": [
       "\n",
       "        if (window._pyforest_update_imports_cell) { window._pyforest_update_imports_cell('from sklearn.model_selection import KFold\\nfrom sklearn.linear_model import LogisticRegression\\nfrom sklearn.model_selection import train_test_split'); }\n",
       "    "
      ],
      "text/plain": [
       "<IPython.core.display.Javascript object>"
      ]
     },
     "metadata": {},
     "output_type": "display_data"
    },
    {
     "name": "stdout",
     "output_type": "stream",
     "text": [
      "[    0     1     2 ... 30888 30889 30890] [ 6179  6180  6181 ... 12354 12355 12356]\n"
     ]
    },
    {
     "data": {
      "application/javascript": [
       "\n",
       "        if (window._pyforest_update_imports_cell) { window._pyforest_update_imports_cell('from sklearn.model_selection import KFold\\nfrom sklearn.linear_model import LogisticRegression\\nfrom sklearn.model_selection import train_test_split'); }\n",
       "    "
      ],
      "text/plain": [
       "<IPython.core.display.Javascript object>"
      ]
     },
     "metadata": {},
     "output_type": "display_data"
    },
    {
     "name": "stdout",
     "output_type": "stream",
     "text": [
      "[    0     1     2 ... 30888 30889 30890] [12357 12358 12359 ... 18532 18533 18534]\n"
     ]
    },
    {
     "data": {
      "application/javascript": [
       "\n",
       "        if (window._pyforest_update_imports_cell) { window._pyforest_update_imports_cell('from sklearn.model_selection import KFold\\nfrom sklearn.linear_model import LogisticRegression\\nfrom sklearn.model_selection import train_test_split'); }\n",
       "    "
      ],
      "text/plain": [
       "<IPython.core.display.Javascript object>"
      ]
     },
     "metadata": {},
     "output_type": "display_data"
    },
    {
     "name": "stdout",
     "output_type": "stream",
     "text": [
      "[    0     1     2 ... 30888 30889 30890] [18535 18536 18537 ... 24710 24711 24712]\n"
     ]
    },
    {
     "data": {
      "application/javascript": [
       "\n",
       "        if (window._pyforest_update_imports_cell) { window._pyforest_update_imports_cell('from sklearn.model_selection import KFold\\nfrom sklearn.linear_model import LogisticRegression\\nfrom sklearn.model_selection import train_test_split'); }\n",
       "    "
      ],
      "text/plain": [
       "<IPython.core.display.Javascript object>"
      ]
     },
     "metadata": {},
     "output_type": "display_data"
    },
    {
     "name": "stdout",
     "output_type": "stream",
     "text": [
      "[    0     1     2 ... 24710 24711 24712] [24713 24714 24715 ... 30888 30889 30890]\n"
     ]
    },
    {
     "data": {
      "application/javascript": [
       "\n",
       "        if (window._pyforest_update_imports_cell) { window._pyforest_update_imports_cell('from sklearn.model_selection import KFold\\nfrom sklearn.linear_model import LogisticRegression\\nfrom sklearn.model_selection import train_test_split'); }\n",
       "    "
      ],
      "text/plain": [
       "<IPython.core.display.Javascript object>"
      ]
     },
     "metadata": {},
     "output_type": "display_data"
    },
    {
     "name": "stdout",
     "output_type": "stream",
     "text": [
      "[ 6179  6180  6181 ... 30888 30889 30890] [   0    1    2 ... 6176 6177 6178]\n"
     ]
    },
    {
     "data": {
      "application/javascript": [
       "\n",
       "        if (window._pyforest_update_imports_cell) { window._pyforest_update_imports_cell('from sklearn.model_selection import KFold\\nfrom sklearn.linear_model import LogisticRegression\\nfrom sklearn.model_selection import train_test_split'); }\n",
       "    "
      ],
      "text/plain": [
       "<IPython.core.display.Javascript object>"
      ]
     },
     "metadata": {},
     "output_type": "display_data"
    },
    {
     "name": "stdout",
     "output_type": "stream",
     "text": [
      "[    0     1     2 ... 30888 30889 30890] [ 6179  6180  6181 ... 12354 12355 12356]\n"
     ]
    },
    {
     "data": {
      "application/javascript": [
       "\n",
       "        if (window._pyforest_update_imports_cell) { window._pyforest_update_imports_cell('from sklearn.model_selection import KFold\\nfrom sklearn.linear_model import LogisticRegression\\nfrom sklearn.model_selection import train_test_split'); }\n",
       "    "
      ],
      "text/plain": [
       "<IPython.core.display.Javascript object>"
      ]
     },
     "metadata": {},
     "output_type": "display_data"
    },
    {
     "name": "stdout",
     "output_type": "stream",
     "text": [
      "[    0     1     2 ... 30888 30889 30890] [12357 12358 12359 ... 18532 18533 18534]\n"
     ]
    },
    {
     "data": {
      "application/javascript": [
       "\n",
       "        if (window._pyforest_update_imports_cell) { window._pyforest_update_imports_cell('from sklearn.model_selection import KFold\\nfrom sklearn.linear_model import LogisticRegression\\nfrom sklearn.model_selection import train_test_split'); }\n",
       "    "
      ],
      "text/plain": [
       "<IPython.core.display.Javascript object>"
      ]
     },
     "metadata": {},
     "output_type": "display_data"
    },
    {
     "name": "stdout",
     "output_type": "stream",
     "text": [
      "[    0     1     2 ... 30888 30889 30890] [18535 18536 18537 ... 24710 24711 24712]\n"
     ]
    },
    {
     "data": {
      "application/javascript": [
       "\n",
       "        if (window._pyforest_update_imports_cell) { window._pyforest_update_imports_cell('from sklearn.model_selection import KFold\\nfrom sklearn.linear_model import LogisticRegression\\nfrom sklearn.model_selection import train_test_split'); }\n",
       "    "
      ],
      "text/plain": [
       "<IPython.core.display.Javascript object>"
      ]
     },
     "metadata": {},
     "output_type": "display_data"
    },
    {
     "name": "stdout",
     "output_type": "stream",
     "text": [
      "[    0     1     2 ... 24710 24711 24712] [24713 24714 24715 ... 30888 30889 30890]\n"
     ]
    },
    {
     "data": {
      "application/javascript": [
       "\n",
       "        if (window._pyforest_update_imports_cell) { window._pyforest_update_imports_cell('from sklearn.model_selection import KFold\\nfrom sklearn.linear_model import LogisticRegression\\nfrom sklearn.model_selection import train_test_split'); }\n",
       "    "
      ],
      "text/plain": [
       "<IPython.core.display.Javascript object>"
      ]
     },
     "metadata": {},
     "output_type": "display_data"
    }
   ],
   "source": [
    "X1=X.to_numpy()\n",
    "y1=y.to_numpy()\n",
    "C_params = (1e-4, 0.001, 1e-2, 0.1, 1, 10, 100, 1000)#regularization parameter\n",
    "kf = KFold(n_splits=5)\n",
    "ridge1_accuracy = {}\n",
    "for C in tqdm(C_params):\n",
    "    train_acc_list=[]\n",
    "    test_acc_list=[]\n",
    "    for train_index, test_index in kf.split(X1):\n",
    "        print(train_index, test_index)\n",
    "        X_train, X_test = X1[train_index], X1[test_index]\n",
    "        y_train, y_test = y1[train_index], y1[test_index]\n",
    "        ridge_model = LogisticRegression(penalty= 'l2', C=C, solver='saga',\n",
    "                                        max_iter=10000000, n_jobs=-1)\n",
    "        ridge_model.fit(X_train,y_train)\n",
    "        train_acc_list.append(ridge_model.score(X_train, y_train))\n",
    "        test_acc_list.append(ridge_model.score(X_test, y_test))\n",
    "    ridge1_accuracy[str(C)] ={'train_acc' : np.mean(train_acc_list),\n",
    "                            'test_acc' : np.mean(test_acc_list)}"
   ]
  },
  {
   "cell_type": "code",
   "execution_count": 48,
   "id": "dc3f0bc8",
   "metadata": {},
   "outputs": [
    {
     "name": "stdout",
     "output_type": "stream",
     "text": [
      "0.01\n"
     ]
    }
   ],
   "source": [
    "ra = pd.DataFrame(ridge1_accuracy).T\n",
    "print(ra['test_acc'].idxmax())"
   ]
  },
  {
   "cell_type": "code",
   "execution_count": 67,
   "id": "c4885472",
   "metadata": {},
   "outputs": [
    {
     "data": {
      "application/vnd.jupyter.widget-view+json": {
       "model_id": "2ecccec669484a9fa71c6e5f0d3f6438",
       "version_major": 2,
       "version_minor": 0
      },
      "text/plain": [
       "  0%|          | 0/4 [00:00<?, ?it/s]"
      ]
     },
     "metadata": {},
     "output_type": "display_data"
    },
    {
     "name": "stdout",
     "output_type": "stream",
     "text": [
      "[ 6179  6180  6181 ... 30888 30889 30890] [   0    1    2 ... 6176 6177 6178]\n"
     ]
    },
    {
     "data": {
      "application/javascript": [
       "\n",
       "        if (window._pyforest_update_imports_cell) { window._pyforest_update_imports_cell('from sklearn.linear_model import LogisticRegression\\nfrom sklearn.model_selection import StratifiedKFold\\nfrom sklearn.ensemble import GradientBoostingClassifier\\nimport matplotlib.pyplot as plt\\nfrom sklearn.model_selection import KFold\\nfrom sklearn.model_selection import train_test_split'); }\n",
       "    "
      ],
      "text/plain": [
       "<IPython.core.display.Javascript object>"
      ]
     },
     "metadata": {},
     "output_type": "display_data"
    },
    {
     "name": "stdout",
     "output_type": "stream",
     "text": [
      "[    0     1     2 ... 30888 30889 30890] [ 6179  6180  6181 ... 12354 12355 12356]\n"
     ]
    },
    {
     "data": {
      "application/javascript": [
       "\n",
       "        if (window._pyforest_update_imports_cell) { window._pyforest_update_imports_cell('from sklearn.linear_model import LogisticRegression\\nfrom sklearn.model_selection import StratifiedKFold\\nfrom sklearn.ensemble import GradientBoostingClassifier\\nimport matplotlib.pyplot as plt\\nfrom sklearn.model_selection import KFold\\nfrom sklearn.model_selection import train_test_split'); }\n",
       "    "
      ],
      "text/plain": [
       "<IPython.core.display.Javascript object>"
      ]
     },
     "metadata": {},
     "output_type": "display_data"
    },
    {
     "name": "stdout",
     "output_type": "stream",
     "text": [
      "[    0     1     2 ... 30888 30889 30890] [12357 12358 12359 ... 18532 18533 18534]\n"
     ]
    },
    {
     "data": {
      "application/javascript": [
       "\n",
       "        if (window._pyforest_update_imports_cell) { window._pyforest_update_imports_cell('from sklearn.linear_model import LogisticRegression\\nfrom sklearn.model_selection import StratifiedKFold\\nfrom sklearn.ensemble import GradientBoostingClassifier\\nimport matplotlib.pyplot as plt\\nfrom sklearn.model_selection import KFold\\nfrom sklearn.model_selection import train_test_split'); }\n",
       "    "
      ],
      "text/plain": [
       "<IPython.core.display.Javascript object>"
      ]
     },
     "metadata": {},
     "output_type": "display_data"
    },
    {
     "name": "stdout",
     "output_type": "stream",
     "text": [
      "[    0     1     2 ... 30888 30889 30890] [18535 18536 18537 ... 24710 24711 24712]\n"
     ]
    },
    {
     "data": {
      "application/javascript": [
       "\n",
       "        if (window._pyforest_update_imports_cell) { window._pyforest_update_imports_cell('from sklearn.linear_model import LogisticRegression\\nfrom sklearn.model_selection import StratifiedKFold\\nfrom sklearn.ensemble import GradientBoostingClassifier\\nimport matplotlib.pyplot as plt\\nfrom sklearn.model_selection import KFold\\nfrom sklearn.model_selection import train_test_split'); }\n",
       "    "
      ],
      "text/plain": [
       "<IPython.core.display.Javascript object>"
      ]
     },
     "metadata": {},
     "output_type": "display_data"
    },
    {
     "name": "stdout",
     "output_type": "stream",
     "text": [
      "[    0     1     2 ... 24710 24711 24712] [24713 24714 24715 ... 30888 30889 30890]\n"
     ]
    },
    {
     "data": {
      "application/javascript": [
       "\n",
       "        if (window._pyforest_update_imports_cell) { window._pyforest_update_imports_cell('from sklearn.linear_model import LogisticRegression\\nfrom sklearn.model_selection import StratifiedKFold\\nfrom sklearn.ensemble import GradientBoostingClassifier\\nimport matplotlib.pyplot as plt\\nfrom sklearn.model_selection import KFold\\nfrom sklearn.model_selection import train_test_split'); }\n",
       "    "
      ],
      "text/plain": [
       "<IPython.core.display.Javascript object>"
      ]
     },
     "metadata": {},
     "output_type": "display_data"
    },
    {
     "name": "stdout",
     "output_type": "stream",
     "text": [
      "[ 6179  6180  6181 ... 30888 30889 30890] [   0    1    2 ... 6176 6177 6178]\n"
     ]
    },
    {
     "data": {
      "application/javascript": [
       "\n",
       "        if (window._pyforest_update_imports_cell) { window._pyforest_update_imports_cell('from sklearn.linear_model import LogisticRegression\\nfrom sklearn.model_selection import StratifiedKFold\\nfrom sklearn.ensemble import GradientBoostingClassifier\\nimport matplotlib.pyplot as plt\\nfrom sklearn.model_selection import KFold\\nfrom sklearn.model_selection import train_test_split'); }\n",
       "    "
      ],
      "text/plain": [
       "<IPython.core.display.Javascript object>"
      ]
     },
     "metadata": {},
     "output_type": "display_data"
    },
    {
     "name": "stdout",
     "output_type": "stream",
     "text": [
      "[    0     1     2 ... 30888 30889 30890] [ 6179  6180  6181 ... 12354 12355 12356]\n"
     ]
    },
    {
     "data": {
      "application/javascript": [
       "\n",
       "        if (window._pyforest_update_imports_cell) { window._pyforest_update_imports_cell('from sklearn.linear_model import LogisticRegression\\nfrom sklearn.model_selection import StratifiedKFold\\nfrom sklearn.ensemble import GradientBoostingClassifier\\nimport matplotlib.pyplot as plt\\nfrom sklearn.model_selection import KFold\\nfrom sklearn.model_selection import train_test_split'); }\n",
       "    "
      ],
      "text/plain": [
       "<IPython.core.display.Javascript object>"
      ]
     },
     "metadata": {},
     "output_type": "display_data"
    },
    {
     "name": "stdout",
     "output_type": "stream",
     "text": [
      "[    0     1     2 ... 30888 30889 30890] [12357 12358 12359 ... 18532 18533 18534]\n"
     ]
    },
    {
     "data": {
      "application/javascript": [
       "\n",
       "        if (window._pyforest_update_imports_cell) { window._pyforest_update_imports_cell('from sklearn.linear_model import LogisticRegression\\nfrom sklearn.model_selection import StratifiedKFold\\nfrom sklearn.ensemble import GradientBoostingClassifier\\nimport matplotlib.pyplot as plt\\nfrom sklearn.model_selection import KFold\\nfrom sklearn.model_selection import train_test_split'); }\n",
       "    "
      ],
      "text/plain": [
       "<IPython.core.display.Javascript object>"
      ]
     },
     "metadata": {},
     "output_type": "display_data"
    },
    {
     "name": "stdout",
     "output_type": "stream",
     "text": [
      "[    0     1     2 ... 30888 30889 30890] [18535 18536 18537 ... 24710 24711 24712]\n"
     ]
    },
    {
     "data": {
      "application/javascript": [
       "\n",
       "        if (window._pyforest_update_imports_cell) { window._pyforest_update_imports_cell('from sklearn.linear_model import LogisticRegression\\nfrom sklearn.model_selection import StratifiedKFold\\nfrom sklearn.ensemble import GradientBoostingClassifier\\nimport matplotlib.pyplot as plt\\nfrom sklearn.model_selection import KFold\\nfrom sklearn.model_selection import train_test_split'); }\n",
       "    "
      ],
      "text/plain": [
       "<IPython.core.display.Javascript object>"
      ]
     },
     "metadata": {},
     "output_type": "display_data"
    },
    {
     "name": "stdout",
     "output_type": "stream",
     "text": [
      "[    0     1     2 ... 24710 24711 24712] [24713 24714 24715 ... 30888 30889 30890]\n"
     ]
    },
    {
     "data": {
      "application/javascript": [
       "\n",
       "        if (window._pyforest_update_imports_cell) { window._pyforest_update_imports_cell('from sklearn.linear_model import LogisticRegression\\nfrom sklearn.model_selection import StratifiedKFold\\nfrom sklearn.ensemble import GradientBoostingClassifier\\nimport matplotlib.pyplot as plt\\nfrom sklearn.model_selection import KFold\\nfrom sklearn.model_selection import train_test_split'); }\n",
       "    "
      ],
      "text/plain": [
       "<IPython.core.display.Javascript object>"
      ]
     },
     "metadata": {},
     "output_type": "display_data"
    },
    {
     "name": "stdout",
     "output_type": "stream",
     "text": [
      "[ 6179  6180  6181 ... 30888 30889 30890] [   0    1    2 ... 6176 6177 6178]\n"
     ]
    },
    {
     "data": {
      "application/javascript": [
       "\n",
       "        if (window._pyforest_update_imports_cell) { window._pyforest_update_imports_cell('from sklearn.linear_model import LogisticRegression\\nfrom sklearn.model_selection import StratifiedKFold\\nfrom sklearn.ensemble import GradientBoostingClassifier\\nimport matplotlib.pyplot as plt\\nfrom sklearn.model_selection import KFold\\nfrom sklearn.model_selection import train_test_split'); }\n",
       "    "
      ],
      "text/plain": [
       "<IPython.core.display.Javascript object>"
      ]
     },
     "metadata": {},
     "output_type": "display_data"
    },
    {
     "name": "stdout",
     "output_type": "stream",
     "text": [
      "[    0     1     2 ... 30888 30889 30890] [ 6179  6180  6181 ... 12354 12355 12356]\n"
     ]
    },
    {
     "data": {
      "application/javascript": [
       "\n",
       "        if (window._pyforest_update_imports_cell) { window._pyforest_update_imports_cell('from sklearn.linear_model import LogisticRegression\\nfrom sklearn.model_selection import StratifiedKFold\\nfrom sklearn.ensemble import GradientBoostingClassifier\\nimport matplotlib.pyplot as plt\\nfrom sklearn.model_selection import KFold\\nfrom sklearn.model_selection import train_test_split'); }\n",
       "    "
      ],
      "text/plain": [
       "<IPython.core.display.Javascript object>"
      ]
     },
     "metadata": {},
     "output_type": "display_data"
    },
    {
     "name": "stdout",
     "output_type": "stream",
     "text": [
      "[    0     1     2 ... 30888 30889 30890] [12357 12358 12359 ... 18532 18533 18534]\n"
     ]
    },
    {
     "data": {
      "application/javascript": [
       "\n",
       "        if (window._pyforest_update_imports_cell) { window._pyforest_update_imports_cell('from sklearn.linear_model import LogisticRegression\\nfrom sklearn.model_selection import StratifiedKFold\\nfrom sklearn.ensemble import GradientBoostingClassifier\\nimport matplotlib.pyplot as plt\\nfrom sklearn.model_selection import KFold\\nfrom sklearn.model_selection import train_test_split'); }\n",
       "    "
      ],
      "text/plain": [
       "<IPython.core.display.Javascript object>"
      ]
     },
     "metadata": {},
     "output_type": "display_data"
    },
    {
     "name": "stdout",
     "output_type": "stream",
     "text": [
      "[    0     1     2 ... 30888 30889 30890] [18535 18536 18537 ... 24710 24711 24712]\n"
     ]
    },
    {
     "data": {
      "application/javascript": [
       "\n",
       "        if (window._pyforest_update_imports_cell) { window._pyforest_update_imports_cell('from sklearn.linear_model import LogisticRegression\\nfrom sklearn.model_selection import StratifiedKFold\\nfrom sklearn.ensemble import GradientBoostingClassifier\\nimport matplotlib.pyplot as plt\\nfrom sklearn.model_selection import KFold\\nfrom sklearn.model_selection import train_test_split'); }\n",
       "    "
      ],
      "text/plain": [
       "<IPython.core.display.Javascript object>"
      ]
     },
     "metadata": {},
     "output_type": "display_data"
    },
    {
     "name": "stdout",
     "output_type": "stream",
     "text": [
      "[    0     1     2 ... 24710 24711 24712] [24713 24714 24715 ... 30888 30889 30890]\n"
     ]
    },
    {
     "data": {
      "application/javascript": [
       "\n",
       "        if (window._pyforest_update_imports_cell) { window._pyforest_update_imports_cell('from sklearn.linear_model import LogisticRegression\\nfrom sklearn.model_selection import StratifiedKFold\\nfrom sklearn.ensemble import GradientBoostingClassifier\\nimport matplotlib.pyplot as plt\\nfrom sklearn.model_selection import KFold\\nfrom sklearn.model_selection import train_test_split'); }\n",
       "    "
      ],
      "text/plain": [
       "<IPython.core.display.Javascript object>"
      ]
     },
     "metadata": {},
     "output_type": "display_data"
    },
    {
     "name": "stdout",
     "output_type": "stream",
     "text": [
      "[ 6179  6180  6181 ... 30888 30889 30890] [   0    1    2 ... 6176 6177 6178]\n"
     ]
    },
    {
     "data": {
      "application/javascript": [
       "\n",
       "        if (window._pyforest_update_imports_cell) { window._pyforest_update_imports_cell('from sklearn.linear_model import LogisticRegression\\nfrom sklearn.model_selection import StratifiedKFold\\nfrom sklearn.ensemble import GradientBoostingClassifier\\nimport matplotlib.pyplot as plt\\nfrom sklearn.model_selection import KFold\\nfrom sklearn.model_selection import train_test_split'); }\n",
       "    "
      ],
      "text/plain": [
       "<IPython.core.display.Javascript object>"
      ]
     },
     "metadata": {},
     "output_type": "display_data"
    },
    {
     "name": "stdout",
     "output_type": "stream",
     "text": [
      "[    0     1     2 ... 30888 30889 30890] [ 6179  6180  6181 ... 12354 12355 12356]\n"
     ]
    },
    {
     "data": {
      "application/javascript": [
       "\n",
       "        if (window._pyforest_update_imports_cell) { window._pyforest_update_imports_cell('from sklearn.linear_model import LogisticRegression\\nfrom sklearn.model_selection import StratifiedKFold\\nfrom sklearn.ensemble import GradientBoostingClassifier\\nimport matplotlib.pyplot as plt\\nfrom sklearn.model_selection import KFold\\nfrom sklearn.model_selection import train_test_split'); }\n",
       "    "
      ],
      "text/plain": [
       "<IPython.core.display.Javascript object>"
      ]
     },
     "metadata": {},
     "output_type": "display_data"
    },
    {
     "name": "stdout",
     "output_type": "stream",
     "text": [
      "[    0     1     2 ... 30888 30889 30890] [12357 12358 12359 ... 18532 18533 18534]\n"
     ]
    },
    {
     "data": {
      "application/javascript": [
       "\n",
       "        if (window._pyforest_update_imports_cell) { window._pyforest_update_imports_cell('from sklearn.linear_model import LogisticRegression\\nfrom sklearn.model_selection import StratifiedKFold\\nfrom sklearn.ensemble import GradientBoostingClassifier\\nimport matplotlib.pyplot as plt\\nfrom sklearn.model_selection import KFold\\nfrom sklearn.model_selection import train_test_split'); }\n",
       "    "
      ],
      "text/plain": [
       "<IPython.core.display.Javascript object>"
      ]
     },
     "metadata": {},
     "output_type": "display_data"
    },
    {
     "name": "stdout",
     "output_type": "stream",
     "text": [
      "[    0     1     2 ... 30888 30889 30890] [18535 18536 18537 ... 24710 24711 24712]\n"
     ]
    },
    {
     "data": {
      "application/javascript": [
       "\n",
       "        if (window._pyforest_update_imports_cell) { window._pyforest_update_imports_cell('from sklearn.linear_model import LogisticRegression\\nfrom sklearn.model_selection import StratifiedKFold\\nfrom sklearn.ensemble import GradientBoostingClassifier\\nimport matplotlib.pyplot as plt\\nfrom sklearn.model_selection import KFold\\nfrom sklearn.model_selection import train_test_split'); }\n",
       "    "
      ],
      "text/plain": [
       "<IPython.core.display.Javascript object>"
      ]
     },
     "metadata": {},
     "output_type": "display_data"
    },
    {
     "name": "stdout",
     "output_type": "stream",
     "text": [
      "[    0     1     2 ... 24710 24711 24712] [24713 24714 24715 ... 30888 30889 30890]\n"
     ]
    },
    {
     "data": {
      "application/javascript": [
       "\n",
       "        if (window._pyforest_update_imports_cell) { window._pyforest_update_imports_cell('from sklearn.linear_model import LogisticRegression\\nfrom sklearn.model_selection import StratifiedKFold\\nfrom sklearn.ensemble import GradientBoostingClassifier\\nimport matplotlib.pyplot as plt\\nfrom sklearn.model_selection import KFold\\nfrom sklearn.model_selection import train_test_split'); }\n",
       "    "
      ],
      "text/plain": [
       "<IPython.core.display.Javascript object>"
      ]
     },
     "metadata": {},
     "output_type": "display_data"
    }
   ],
   "source": [
    "#Unstratified kfold GBC\n",
    "from sklearn.model_selection import KFold\n",
    "max_features_params = [0.5, 0.6, 0.7, 0.8]\n",
    "gbm_accuracy1 = {}\n",
    "kf = KFold(n_splits=5)\n",
    "for mf in tqdm(max_features_params):\n",
    "    train_acc_list=[]\n",
    "    test_acc_list=[]\n",
    "    for train_index, test_index in kf.split(X1):\n",
    "        print(train_index, test_index)\n",
    "        X_train, X_test = X1[train_index], X1[test_index]\n",
    "        y_train, y_test = y1[train_index], y1[test_index]\n",
    "        gbm_model = GradientBoostingClassifier(max_features=mf,max_depth=5)\n",
    "        gbm_model.fit(X_train,y_train)\n",
    "        train_acc_list.append(gbm_model.score(X_train, y_train))\n",
    "        test_acc_list.append(gbm_model.score(X_test, y_test))\n",
    "    gbm_accuracy1[str(mf)] ={'train_acc' : np.mean(train_acc_list),\n",
    "                            'test_acc' : np.mean(test_acc_list)}"
   ]
  },
  {
   "cell_type": "code",
   "execution_count": 68,
   "id": "62b4a803",
   "metadata": {},
   "outputs": [
    {
     "data": {
      "application/javascript": [
       "\n",
       "        if (window._pyforest_update_imports_cell) { window._pyforest_update_imports_cell('from sklearn.linear_model import LogisticRegression\\nfrom sklearn.model_selection import StratifiedKFold\\nfrom sklearn.ensemble import GradientBoostingClassifier\\nimport matplotlib.pyplot as plt\\nfrom sklearn.model_selection import KFold\\nfrom sklearn.model_selection import train_test_split'); }\n",
       "    "
      ],
      "text/plain": [
       "<IPython.core.display.Javascript object>"
      ]
     },
     "metadata": {},
     "output_type": "display_data"
    },
    {
     "data": {
      "application/javascript": [
       "\n",
       "        if (window._pyforest_update_imports_cell) { window._pyforest_update_imports_cell('from sklearn.linear_model import LogisticRegression\\nfrom sklearn.model_selection import StratifiedKFold\\nfrom sklearn.ensemble import GradientBoostingClassifier\\nimport matplotlib.pyplot as plt\\nfrom sklearn.model_selection import KFold\\nfrom sklearn.model_selection import train_test_split'); }\n",
       "    "
      ],
      "text/plain": [
       "<IPython.core.display.Javascript object>"
      ]
     },
     "metadata": {},
     "output_type": "display_data"
    },
    {
     "data": {
      "application/javascript": [
       "\n",
       "        if (window._pyforest_update_imports_cell) { window._pyforest_update_imports_cell('from sklearn.linear_model import LogisticRegression\\nfrom sklearn.model_selection import StratifiedKFold\\nfrom sklearn.ensemble import GradientBoostingClassifier\\nimport matplotlib.pyplot as plt\\nfrom sklearn.model_selection import KFold\\nfrom sklearn.model_selection import train_test_split'); }\n",
       "    "
      ],
      "text/plain": [
       "<IPython.core.display.Javascript object>"
      ]
     },
     "metadata": {},
     "output_type": "display_data"
    },
    {
     "data": {
      "application/javascript": [
       "\n",
       "        if (window._pyforest_update_imports_cell) { window._pyforest_update_imports_cell('from sklearn.linear_model import LogisticRegression\\nfrom sklearn.model_selection import StratifiedKFold\\nfrom sklearn.ensemble import GradientBoostingClassifier\\nimport matplotlib.pyplot as plt\\nfrom sklearn.model_selection import KFold\\nfrom sklearn.model_selection import train_test_split'); }\n",
       "    "
      ],
      "text/plain": [
       "<IPython.core.display.Javascript object>"
      ]
     },
     "metadata": {},
     "output_type": "display_data"
    },
    {
     "data": {
      "application/javascript": [
       "\n",
       "        if (window._pyforest_update_imports_cell) { window._pyforest_update_imports_cell('from sklearn.linear_model import LogisticRegression\\nfrom sklearn.model_selection import StratifiedKFold\\nfrom sklearn.ensemble import GradientBoostingClassifier\\nimport matplotlib.pyplot as plt\\nfrom sklearn.model_selection import KFold\\nfrom sklearn.model_selection import train_test_split'); }\n",
       "    "
      ],
      "text/plain": [
       "<IPython.core.display.Javascript object>"
      ]
     },
     "metadata": {},
     "output_type": "display_data"
    },
    {
     "data": {
      "application/javascript": [
       "\n",
       "        if (window._pyforest_update_imports_cell) { window._pyforest_update_imports_cell('from sklearn.linear_model import LogisticRegression\\nfrom sklearn.model_selection import StratifiedKFold\\nfrom sklearn.ensemble import GradientBoostingClassifier\\nimport matplotlib.pyplot as plt\\nfrom sklearn.model_selection import KFold\\nfrom sklearn.model_selection import train_test_split'); }\n",
       "    "
      ],
      "text/plain": [
       "<IPython.core.display.Javascript object>"
      ]
     },
     "metadata": {},
     "output_type": "display_data"
    },
    {
     "data": {
      "application/javascript": [
       "\n",
       "        if (window._pyforest_update_imports_cell) { window._pyforest_update_imports_cell('from sklearn.linear_model import LogisticRegression\\nfrom sklearn.model_selection import StratifiedKFold\\nfrom sklearn.ensemble import GradientBoostingClassifier\\nimport matplotlib.pyplot as plt\\nfrom sklearn.model_selection import KFold\\nfrom sklearn.model_selection import train_test_split'); }\n",
       "    "
      ],
      "text/plain": [
       "<IPython.core.display.Javascript object>"
      ]
     },
     "metadata": {},
     "output_type": "display_data"
    },
    {
     "data": {
      "image/png": "[encoded data removed]",
      "text/plain": [
       "<Figure size 864x576 with 1 Axes>"
      ]
     },
     "metadata": {
      "needs_background": "light"
     },
     "output_type": "display_data"
    },
    {
     "name": "stdout",
     "output_type": "stream",
     "text": [
      "0.7\n"
     ]
    }
   ],
   "source": [
    "ga = pd.DataFrame(gbm_accuracy1).T\n",
    "plt.figure(figsize=(12, 8))\n",
    "plt.plot(ga.index, ga['train_acc'], label='Training accuracy', marker='.')\n",
    "plt.plot(ga.index, ga['test_acc'], label='Test accuracy', marker='.')\n",
    "plt.legend()\n",
    "plt.xlabel('mf')\n",
    "plt.ylabel('accuracy')\n",
    "plt.show()\n",
    "print(ga['test_acc'].idxmax())\n"
   ]
  },
  {
   "cell_type": "code",
   "execution_count": 69,
   "id": "d79051d8",
   "metadata": {},
   "outputs": [
    {
     "data": {
      "text/plain": [
       "{'0.5': {'train_acc': 0.94035480144693, 'test_acc': 0.9163835872828378},\n",
       " '0.6': {'train_acc': 0.9409374917022489, 'test_acc': 0.9171280914674025},\n",
       " '0.7': {'train_acc': 0.9408889257481323, 'test_acc': 0.9173546496291101},\n",
       " '0.8': {'train_acc': 0.9417791575876363, 'test_acc': 0.9169985997225012}}"
      ]
     },
     "execution_count": 69,
     "metadata": {},
     "output_type": "execute_result"
    }
   ],
   "source": [
    "gbm_accuracy1"
   ]
  },
  {
   "cell_type": "code",
   "execution_count": 63,
   "id": "e1a063be",
   "metadata": {},
   "outputs": [
    {
     "data": {
      "application/javascript": [
       "\n",
       "        if (window._pyforest_update_imports_cell) { window._pyforest_update_imports_cell('from sklearn.linear_model import LogisticRegression\\nfrom sklearn.model_selection import StratifiedKFold\\nfrom sklearn.ensemble import GradientBoostingClassifier\\nimport matplotlib.pyplot as plt\\nfrom sklearn.model_selection import KFold\\nfrom sklearn.model_selection import train_test_split'); }\n",
       "    "
      ],
      "text/plain": [
       "<IPython.core.display.Javascript object>"
      ]
     },
     "metadata": {},
     "output_type": "display_data"
    },
    {
     "name": "stderr",
     "output_type": "stream",
     "text": [
      "C:\\Users\\kvray\\anaconda3\\lib\\site-packages\\sklearn\\model_selection\\_search.py:918: UserWarning: One or more of the test scores are non-finite: [       nan        nan        nan        nan 0.90832284 0.90829046\n",
      " 0.90829047 0.90838756 0.91343771 0.91421462 0.91398802 0.91389092\n",
      " 0.9166749  0.91673967 0.91712812 0.91751659 0.917031   0.91758137\n",
      " 0.91641589 0.9166749  0.91696623 0.91673963 0.91706334 0.91680437\n",
      " 0.91683672 0.91661012 0.9161569  0.91680427 0.91628634 0.91466781\n",
      " 0.91554179 0.91554179 0.91550943 0.91405269 0.91350235 0.91343764\n",
      " 0.91330821 0.91340528 0.91350236 0.91343759]\n",
      "  warnings.warn(\n"
     ]
    },
    {
     "name": "stdout",
     "output_type": "stream",
     "text": [
      "Best: 0.917581 using {'max_depth': 4, 'max_features': 0.6}\n",
      "Execution time: 76.2959942817688 ms\n"
     ]
    }
   ],
   "source": [
    "#GradientBoostingClassifier Gridsearch\n",
    "import time\n",
    "from sklearn.model_selection import GridSearchCV\n",
    "\n",
    "max_features=[0.5, 0.6, 0.7, 0.8]\n",
    "max_depth=list(range(10))\n",
    "\n",
    "param_grid = dict(max_features=max_features,max_depth=max_depth)\n",
    "\n",
    "\n",
    "_model = GradientBoostingClassifier()\n",
    "grid = GridSearchCV(estimator=_model, param_grid=param_grid, cv = 5, n_jobs=-1)\n",
    "\n",
    "start_time = time.time()\n",
    "grid_result = grid.fit(X, y)\n",
    "# Summarize results\n",
    "print(\"Best: %f using %s\" % (grid_result.best_score_, grid_result.best_params_))\n",
    "print(\"Execution time: \" + str((time.time() - start_time)) + ' ms')"
   ]
  },
  {
   "cell_type": "code",
   "execution_count": 70,
   "id": "0fb10956",
   "metadata": {},
   "outputs": [
    {
     "data": {
      "application/vnd.jupyter.widget-view+json": {
       "model_id": "8b2fa39422814eb48cd88e206cdcef87",
       "version_major": 2,
       "version_minor": 0
      },
      "text/plain": [
       "  0%|          | 0/4 [00:00<?, ?it/s]"
      ]
     },
     "metadata": {},
     "output_type": "display_data"
    },
    {
     "name": "stdout",
     "output_type": "stream",
     "text": [
      "[ 6167  6168  6170 ... 30888 30889 30890] [   0    1    2 ... 6232 6234 6259]\n"
     ]
    },
    {
     "data": {
      "application/javascript": [
       "\n",
       "        if (window._pyforest_update_imports_cell) { window._pyforest_update_imports_cell('from sklearn.linear_model import LogisticRegression\\nfrom sklearn.model_selection import StratifiedKFold\\nfrom sklearn.ensemble import GradientBoostingClassifier\\nimport matplotlib.pyplot as plt\\nfrom sklearn.model_selection import KFold\\nfrom sklearn.model_selection import train_test_split'); }\n",
       "    "
      ],
      "text/plain": [
       "<IPython.core.display.Javascript object>"
      ]
     },
     "metadata": {},
     "output_type": "display_data"
    },
    {
     "name": "stdout",
     "output_type": "stream",
     "text": [
      "[    0     1     2 ... 30888 30889 30890] [ 6167  6168  6170 ... 12432 12437 12438]\n"
     ]
    },
    {
     "data": {
      "application/javascript": [
       "\n",
       "        if (window._pyforest_update_imports_cell) { window._pyforest_update_imports_cell('from sklearn.linear_model import LogisticRegression\\nfrom sklearn.model_selection import StratifiedKFold\\nfrom sklearn.ensemble import GradientBoostingClassifier\\nimport matplotlib.pyplot as plt\\nfrom sklearn.model_selection import KFold\\nfrom sklearn.model_selection import train_test_split'); }\n",
       "    "
      ],
      "text/plain": [
       "<IPython.core.display.Javascript object>"
      ]
     },
     "metadata": {},
     "output_type": "display_data"
    },
    {
     "name": "stdout",
     "output_type": "stream",
     "text": [
      "[    0     1     2 ... 30888 30889 30890] [12351 12352 12353 ... 18844 18850 18861]\n"
     ]
    },
    {
     "data": {
      "application/javascript": [
       "\n",
       "        if (window._pyforest_update_imports_cell) { window._pyforest_update_imports_cell('from sklearn.linear_model import LogisticRegression\\nfrom sklearn.model_selection import StratifiedKFold\\nfrom sklearn.ensemble import GradientBoostingClassifier\\nimport matplotlib.pyplot as plt\\nfrom sklearn.model_selection import KFold\\nfrom sklearn.model_selection import train_test_split'); }\n",
       "    "
      ],
      "text/plain": [
       "<IPython.core.display.Javascript object>"
      ]
     },
     "metadata": {},
     "output_type": "display_data"
    },
    {
     "name": "stdout",
     "output_type": "stream",
     "text": [
      "[    0     1     2 ... 30888 30889 30890] [18491 18492 18493 ... 24810 24825 24834]\n"
     ]
    },
    {
     "data": {
      "application/javascript": [
       "\n",
       "        if (window._pyforest_update_imports_cell) { window._pyforest_update_imports_cell('from sklearn.linear_model import LogisticRegression\\nfrom sklearn.model_selection import StratifiedKFold\\nfrom sklearn.ensemble import GradientBoostingClassifier\\nimport matplotlib.pyplot as plt\\nfrom sklearn.model_selection import KFold\\nfrom sklearn.model_selection import train_test_split'); }\n",
       "    "
      ],
      "text/plain": [
       "<IPython.core.display.Javascript object>"
      ]
     },
     "metadata": {},
     "output_type": "display_data"
    },
    {
     "name": "stdout",
     "output_type": "stream",
     "text": [
      "[    0     1     2 ... 24810 24825 24834] [24696 24697 24698 ... 30888 30889 30890]\n"
     ]
    },
    {
     "data": {
      "application/javascript": [
       "\n",
       "        if (window._pyforest_update_imports_cell) { window._pyforest_update_imports_cell('from sklearn.linear_model import LogisticRegression\\nfrom sklearn.model_selection import StratifiedKFold\\nfrom sklearn.ensemble import GradientBoostingClassifier\\nimport matplotlib.pyplot as plt\\nfrom sklearn.model_selection import KFold\\nfrom sklearn.model_selection import train_test_split'); }\n",
       "    "
      ],
      "text/plain": [
       "<IPython.core.display.Javascript object>"
      ]
     },
     "metadata": {},
     "output_type": "display_data"
    },
    {
     "name": "stdout",
     "output_type": "stream",
     "text": [
      "[ 6167  6168  6170 ... 30888 30889 30890] [   0    1    2 ... 6232 6234 6259]\n"
     ]
    },
    {
     "data": {
      "application/javascript": [
       "\n",
       "        if (window._pyforest_update_imports_cell) { window._pyforest_update_imports_cell('from sklearn.linear_model import LogisticRegression\\nfrom sklearn.model_selection import StratifiedKFold\\nfrom sklearn.ensemble import GradientBoostingClassifier\\nimport matplotlib.pyplot as plt\\nfrom sklearn.model_selection import KFold\\nfrom sklearn.model_selection import train_test_split'); }\n",
       "    "
      ],
      "text/plain": [
       "<IPython.core.display.Javascript object>"
      ]
     },
     "metadata": {},
     "output_type": "display_data"
    },
    {
     "name": "stdout",
     "output_type": "stream",
     "text": [
      "[    0     1     2 ... 30888 30889 30890] [ 6167  6168  6170 ... 12432 12437 12438]\n"
     ]
    },
    {
     "data": {
      "application/javascript": [
       "\n",
       "        if (window._pyforest_update_imports_cell) { window._pyforest_update_imports_cell('from sklearn.linear_model import LogisticRegression\\nfrom sklearn.model_selection import StratifiedKFold\\nfrom sklearn.ensemble import GradientBoostingClassifier\\nimport matplotlib.pyplot as plt\\nfrom sklearn.model_selection import KFold\\nfrom sklearn.model_selection import train_test_split'); }\n",
       "    "
      ],
      "text/plain": [
       "<IPython.core.display.Javascript object>"
      ]
     },
     "metadata": {},
     "output_type": "display_data"
    },
    {
     "name": "stdout",
     "output_type": "stream",
     "text": [
      "[    0     1     2 ... 30888 30889 30890] [12351 12352 12353 ... 18844 18850 18861]\n"
     ]
    },
    {
     "data": {
      "application/javascript": [
       "\n",
       "        if (window._pyforest_update_imports_cell) { window._pyforest_update_imports_cell('from sklearn.linear_model import LogisticRegression\\nfrom sklearn.model_selection import StratifiedKFold\\nfrom sklearn.ensemble import GradientBoostingClassifier\\nimport matplotlib.pyplot as plt\\nfrom sklearn.model_selection import KFold\\nfrom sklearn.model_selection import train_test_split'); }\n",
       "    "
      ],
      "text/plain": [
       "<IPython.core.display.Javascript object>"
      ]
     },
     "metadata": {},
     "output_type": "display_data"
    },
    {
     "name": "stdout",
     "output_type": "stream",
     "text": [
      "[    0     1     2 ... 30888 30889 30890] [18491 18492 18493 ... 24810 24825 24834]\n"
     ]
    },
    {
     "data": {
      "application/javascript": [
       "\n",
       "        if (window._pyforest_update_imports_cell) { window._pyforest_update_imports_cell('from sklearn.linear_model import LogisticRegression\\nfrom sklearn.model_selection import StratifiedKFold\\nfrom sklearn.ensemble import GradientBoostingClassifier\\nimport matplotlib.pyplot as plt\\nfrom sklearn.model_selection import KFold\\nfrom sklearn.model_selection import train_test_split'); }\n",
       "    "
      ],
      "text/plain": [
       "<IPython.core.display.Javascript object>"
      ]
     },
     "metadata": {},
     "output_type": "display_data"
    },
    {
     "name": "stdout",
     "output_type": "stream",
     "text": [
      "[    0     1     2 ... 24810 24825 24834] [24696 24697 24698 ... 30888 30889 30890]\n"
     ]
    },
    {
     "data": {
      "application/javascript": [
       "\n",
       "        if (window._pyforest_update_imports_cell) { window._pyforest_update_imports_cell('from sklearn.linear_model import LogisticRegression\\nfrom sklearn.model_selection import StratifiedKFold\\nfrom sklearn.ensemble import GradientBoostingClassifier\\nimport matplotlib.pyplot as plt\\nfrom sklearn.model_selection import KFold\\nfrom sklearn.model_selection import train_test_split'); }\n",
       "    "
      ],
      "text/plain": [
       "<IPython.core.display.Javascript object>"
      ]
     },
     "metadata": {},
     "output_type": "display_data"
    },
    {
     "name": "stdout",
     "output_type": "stream",
     "text": [
      "[ 6167  6168  6170 ... 30888 30889 30890] [   0    1    2 ... 6232 6234 6259]\n"
     ]
    },
    {
     "data": {
      "application/javascript": [
       "\n",
       "        if (window._pyforest_update_imports_cell) { window._pyforest_update_imports_cell('from sklearn.linear_model import LogisticRegression\\nfrom sklearn.model_selection import StratifiedKFold\\nfrom sklearn.ensemble import GradientBoostingClassifier\\nimport matplotlib.pyplot as plt\\nfrom sklearn.model_selection import KFold\\nfrom sklearn.model_selection import train_test_split'); }\n",
       "    "
      ],
      "text/plain": [
       "<IPython.core.display.Javascript object>"
      ]
     },
     "metadata": {},
     "output_type": "display_data"
    },
    {
     "name": "stdout",
     "output_type": "stream",
     "text": [
      "[    0     1     2 ... 30888 30889 30890] [ 6167  6168  6170 ... 12432 12437 12438]\n"
     ]
    },
    {
     "data": {
      "application/javascript": [
       "\n",
       "        if (window._pyforest_update_imports_cell) { window._pyforest_update_imports_cell('from sklearn.linear_model import LogisticRegression\\nfrom sklearn.model_selection import StratifiedKFold\\nfrom sklearn.ensemble import GradientBoostingClassifier\\nimport matplotlib.pyplot as plt\\nfrom sklearn.model_selection import KFold\\nfrom sklearn.model_selection import train_test_split'); }\n",
       "    "
      ],
      "text/plain": [
       "<IPython.core.display.Javascript object>"
      ]
     },
     "metadata": {},
     "output_type": "display_data"
    },
    {
     "name": "stdout",
     "output_type": "stream",
     "text": [
      "[    0     1     2 ... 30888 30889 30890] [12351 12352 12353 ... 18844 18850 18861]\n"
     ]
    },
    {
     "data": {
      "application/javascript": [
       "\n",
       "        if (window._pyforest_update_imports_cell) { window._pyforest_update_imports_cell('from sklearn.linear_model import LogisticRegression\\nfrom sklearn.model_selection import StratifiedKFold\\nfrom sklearn.ensemble import GradientBoostingClassifier\\nimport matplotlib.pyplot as plt\\nfrom sklearn.model_selection import KFold\\nfrom sklearn.model_selection import train_test_split'); }\n",
       "    "
      ],
      "text/plain": [
       "<IPython.core.display.Javascript object>"
      ]
     },
     "metadata": {},
     "output_type": "display_data"
    },
    {
     "name": "stdout",
     "output_type": "stream",
     "text": [
      "[    0     1     2 ... 30888 30889 30890] [18491 18492 18493 ... 24810 24825 24834]\n"
     ]
    },
    {
     "data": {
      "application/javascript": [
       "\n",
       "        if (window._pyforest_update_imports_cell) { window._pyforest_update_imports_cell('from sklearn.linear_model import LogisticRegression\\nfrom sklearn.model_selection import StratifiedKFold\\nfrom sklearn.ensemble import GradientBoostingClassifier\\nimport matplotlib.pyplot as plt\\nfrom sklearn.model_selection import KFold\\nfrom sklearn.model_selection import train_test_split'); }\n",
       "    "
      ],
      "text/plain": [
       "<IPython.core.display.Javascript object>"
      ]
     },
     "metadata": {},
     "output_type": "display_data"
    },
    {
     "name": "stdout",
     "output_type": "stream",
     "text": [
      "[    0     1     2 ... 24810 24825 24834] [24696 24697 24698 ... 30888 30889 30890]\n"
     ]
    },
    {
     "data": {
      "application/javascript": [
       "\n",
       "        if (window._pyforest_update_imports_cell) { window._pyforest_update_imports_cell('from sklearn.linear_model import LogisticRegression\\nfrom sklearn.model_selection import StratifiedKFold\\nfrom sklearn.ensemble import GradientBoostingClassifier\\nimport matplotlib.pyplot as plt\\nfrom sklearn.model_selection import KFold\\nfrom sklearn.model_selection import train_test_split'); }\n",
       "    "
      ],
      "text/plain": [
       "<IPython.core.display.Javascript object>"
      ]
     },
     "metadata": {},
     "output_type": "display_data"
    },
    {
     "name": "stdout",
     "output_type": "stream",
     "text": [
      "[ 6167  6168  6170 ... 30888 30889 30890] [   0    1    2 ... 6232 6234 6259]\n"
     ]
    },
    {
     "data": {
      "application/javascript": [
       "\n",
       "        if (window._pyforest_update_imports_cell) { window._pyforest_update_imports_cell('from sklearn.linear_model import LogisticRegression\\nfrom sklearn.model_selection import StratifiedKFold\\nfrom sklearn.ensemble import GradientBoostingClassifier\\nimport matplotlib.pyplot as plt\\nfrom sklearn.model_selection import KFold\\nfrom sklearn.model_selection import train_test_split'); }\n",
       "    "
      ],
      "text/plain": [
       "<IPython.core.display.Javascript object>"
      ]
     },
     "metadata": {},
     "output_type": "display_data"
    },
    {
     "name": "stdout",
     "output_type": "stream",
     "text": [
      "[    0     1     2 ... 30888 30889 30890] [ 6167  6168  6170 ... 12432 12437 12438]\n"
     ]
    },
    {
     "data": {
      "application/javascript": [
       "\n",
       "        if (window._pyforest_update_imports_cell) { window._pyforest_update_imports_cell('from sklearn.linear_model import LogisticRegression\\nfrom sklearn.model_selection import StratifiedKFold\\nfrom sklearn.ensemble import GradientBoostingClassifier\\nimport matplotlib.pyplot as plt\\nfrom sklearn.model_selection import KFold\\nfrom sklearn.model_selection import train_test_split'); }\n",
       "    "
      ],
      "text/plain": [
       "<IPython.core.display.Javascript object>"
      ]
     },
     "metadata": {},
     "output_type": "display_data"
    },
    {
     "name": "stdout",
     "output_type": "stream",
     "text": [
      "[    0     1     2 ... 30888 30889 30890] [12351 12352 12353 ... 18844 18850 18861]\n"
     ]
    },
    {
     "data": {
      "application/javascript": [
       "\n",
       "        if (window._pyforest_update_imports_cell) { window._pyforest_update_imports_cell('from sklearn.linear_model import LogisticRegression\\nfrom sklearn.model_selection import StratifiedKFold\\nfrom sklearn.ensemble import GradientBoostingClassifier\\nimport matplotlib.pyplot as plt\\nfrom sklearn.model_selection import KFold\\nfrom sklearn.model_selection import train_test_split'); }\n",
       "    "
      ],
      "text/plain": [
       "<IPython.core.display.Javascript object>"
      ]
     },
     "metadata": {},
     "output_type": "display_data"
    },
    {
     "name": "stdout",
     "output_type": "stream",
     "text": [
      "[    0     1     2 ... 30888 30889 30890] [18491 18492 18493 ... 24810 24825 24834]\n"
     ]
    },
    {
     "data": {
      "application/javascript": [
       "\n",
       "        if (window._pyforest_update_imports_cell) { window._pyforest_update_imports_cell('from sklearn.linear_model import LogisticRegression\\nfrom sklearn.model_selection import StratifiedKFold\\nfrom sklearn.ensemble import GradientBoostingClassifier\\nimport matplotlib.pyplot as plt\\nfrom sklearn.model_selection import KFold\\nfrom sklearn.model_selection import train_test_split'); }\n",
       "    "
      ],
      "text/plain": [
       "<IPython.core.display.Javascript object>"
      ]
     },
     "metadata": {},
     "output_type": "display_data"
    },
    {
     "name": "stdout",
     "output_type": "stream",
     "text": [
      "[    0     1     2 ... 24810 24825 24834] [24696 24697 24698 ... 30888 30889 30890]\n"
     ]
    },
    {
     "data": {
      "application/javascript": [
       "\n",
       "        if (window._pyforest_update_imports_cell) { window._pyforest_update_imports_cell('from sklearn.linear_model import LogisticRegression\\nfrom sklearn.model_selection import StratifiedKFold\\nfrom sklearn.ensemble import GradientBoostingClassifier\\nimport matplotlib.pyplot as plt\\nfrom sklearn.model_selection import KFold\\nfrom sklearn.model_selection import train_test_split'); }\n",
       "    "
      ],
      "text/plain": [
       "<IPython.core.display.Javascript object>"
      ]
     },
     "metadata": {},
     "output_type": "display_data"
    }
   ],
   "source": [
    "from sklearn.model_selection import StratifiedKFold\n",
    "#Stratified kfold\n",
    "max_features_params = [0.5, 0.6, 0.7, 0.8]\n",
    "gbm_accuracy2 = {}\n",
    "kf = StratifiedKFold(n_splits=5)\n",
    "\n",
    "for mf in tqdm(max_features_params):\n",
    "    train_acc_list=[]\n",
    "    test_acc_list=[]\n",
    "    for train_index, test_index in kf.split(X1, y1):\n",
    "        print(train_index, test_index)\n",
    "        X_train, X_test = X1[train_index], X1[test_index]\n",
    "        y_train, y_test = y1[train_index], y1[test_index]\n",
    "        gbm_model = GradientBoostingClassifier(max_features=mf,max_depth=4)\n",
    "        gbm_model.fit(X_train,y_train)\n",
    "        train_acc_list.append(gbm_model.score(X_train, y_train))\n",
    "        test_acc_list.append( gbm_model.score(X_test, y_test))\n",
    "    gbm_accuracy2[str(mf)] ={'train_acc' : np.mean(train_acc_list),\n",
    "                            'test_acc' : np.mean(test_acc_list)}"
   ]
  },
  {
   "cell_type": "code",
   "execution_count": 71,
   "id": "741613b3",
   "metadata": {},
   "outputs": [
    {
     "data": {
      "text/plain": [
       "{'0.5': {'train_acc': 0.9303437925133853, 'test_acc': 0.9175165667021062},\n",
       " '0.6': {'train_acc': 0.9304894609017313, 'test_acc': 0.9162216544922807},\n",
       " '0.7': {'train_acc': 0.9311045355553885, 'test_acc': 0.9169338852851723},\n",
       " '0.8': {'train_acc': 0.9310964370815092, 'test_acc': 0.9164482807634189}}"
      ]
     },
     "execution_count": 71,
     "metadata": {},
     "output_type": "execute_result"
    }
   ],
   "source": [
    "gbm_accuracy2"
   ]
  },
  {
   "cell_type": "code",
   "execution_count": 72,
   "id": "a709b1fe",
   "metadata": {},
   "outputs": [
    {
     "data": {
      "application/javascript": [
       "\n",
       "        if (window._pyforest_update_imports_cell) { window._pyforest_update_imports_cell('from sklearn.linear_model import LogisticRegression\\nfrom sklearn.model_selection import StratifiedKFold\\nfrom sklearn.ensemble import GradientBoostingClassifier\\nimport matplotlib.pyplot as plt\\nfrom sklearn.ensemble import RandomForestClassifier\\nfrom sklearn.model_selection import KFold\\nfrom sklearn.model_selection import train_test_split'); }\n",
       "    "
      ],
      "text/plain": [
       "<IPython.core.display.Javascript object>"
      ]
     },
     "metadata": {},
     "output_type": "display_data"
    },
    {
     "name": "stderr",
     "output_type": "stream",
     "text": [
      "C:\\Users\\kvray\\anaconda3\\lib\\site-packages\\sklearn\\model_selection\\_search.py:918: UserWarning: One or more of the test scores are non-finite: [       nan        nan        nan        nan 0.88734583 0.88734583\n",
      " 0.88734583 0.88734583 0.90145997 0.90239879 0.90278725 0.90453537\n",
      " 0.90453532 0.9070279  0.90974726 0.91172198 0.91078307 0.91427936\n",
      " 0.91473263 0.91431178 0.9149268  0.91631883 0.91593038 0.91618939\n",
      " 0.91703099 0.91641596 0.91664263 0.91722528 0.91690155 0.91796986\n",
      " 0.91764611 0.91703104 0.91703103 0.91748418 0.91741942 0.91754896\n",
      " 0.91758125 0.91680436 0.91664252 0.91806689]\n",
      "  warnings.warn(\n"
     ]
    },
    {
     "name": "stdout",
     "output_type": "stream",
     "text": [
      "Best: 0.918067 using {'max_depth': 9, 'max_features': 0.8}\n",
      "Execution time: 54.16398596763611 ms\n"
     ]
    }
   ],
   "source": [
    "#GradientBoostingClassifier Gridsearch\n",
    "import time\n",
    "from sklearn.model_selection import GridSearchCV\n",
    "\n",
    "max_features=[0.5, 0.6, 0.7, 0.8]\n",
    "max_depth=list(range(10))\n",
    "\n",
    "param_grid = dict(max_features=max_features,max_depth=max_depth)\n",
    "\n",
    "\n",
    "rf_model = RandomForestClassifier()\n",
    "grid = GridSearchCV(estimator=rf_model, param_grid=param_grid, cv = 5, n_jobs=-1)\n",
    "\n",
    "start_time = time.time()\n",
    "grid_result = grid.fit(X, y)\n",
    "# Summarize results\n",
    "print(\"Best: %f using %s\" % (grid_result.best_score_, grid_result.best_params_))\n",
    "print(\"Execution time: \" + str((time.time() - start_time)) + ' ms')"
   ]
  },
  {
   "cell_type": "code",
   "execution_count": 75,
   "id": "99746539",
   "metadata": {},
   "outputs": [
    {
     "data": {
      "application/vnd.jupyter.widget-view+json": {
       "model_id": "2d2f5b152d5e44b0bcd63056bdfe4a2c",
       "version_major": 2,
       "version_minor": 0
      },
      "text/plain": [
       "  0%|          | 0/4 [00:00<?, ?it/s]"
      ]
     },
     "metadata": {},
     "output_type": "display_data"
    },
    {
     "name": "stdout",
     "output_type": "stream",
     "text": [
      "[ 6167  6168  6170 ... 30888 30889 30890] [   0    1    2 ... 6232 6234 6259]\n"
     ]
    },
    {
     "data": {
      "application/javascript": [
       "\n",
       "        if (window._pyforest_update_imports_cell) { window._pyforest_update_imports_cell('from sklearn.linear_model import LogisticRegression\\nfrom sklearn.model_selection import StratifiedKFold\\nfrom sklearn.ensemble import GradientBoostingClassifier\\nimport matplotlib.pyplot as plt\\nfrom sklearn.ensemble import RandomForestClassifier\\nfrom sklearn.model_selection import KFold\\nfrom sklearn.model_selection import train_test_split'); }\n",
       "    "
      ],
      "text/plain": [
       "<IPython.core.display.Javascript object>"
      ]
     },
     "metadata": {},
     "output_type": "display_data"
    },
    {
     "name": "stdout",
     "output_type": "stream",
     "text": [
      "[    0     1     2 ... 30888 30889 30890] [ 6167  6168  6170 ... 12432 12437 12438]\n"
     ]
    },
    {
     "data": {
      "application/javascript": [
       "\n",
       "        if (window._pyforest_update_imports_cell) { window._pyforest_update_imports_cell('from sklearn.linear_model import LogisticRegression\\nfrom sklearn.model_selection import StratifiedKFold\\nfrom sklearn.ensemble import GradientBoostingClassifier\\nimport matplotlib.pyplot as plt\\nfrom sklearn.ensemble import RandomForestClassifier\\nfrom sklearn.model_selection import KFold\\nfrom sklearn.model_selection import train_test_split'); }\n",
       "    "
      ],
      "text/plain": [
       "<IPython.core.display.Javascript object>"
      ]
     },
     "metadata": {},
     "output_type": "display_data"
    },
    {
     "name": "stdout",
     "output_type": "stream",
     "text": [
      "[    0     1     2 ... 30888 30889 30890] [12351 12352 12353 ... 18844 18850 18861]\n"
     ]
    },
    {
     "data": {
      "application/javascript": [
       "\n",
       "        if (window._pyforest_update_imports_cell) { window._pyforest_update_imports_cell('from sklearn.linear_model import LogisticRegression\\nfrom sklearn.model_selection import StratifiedKFold\\nfrom sklearn.ensemble import GradientBoostingClassifier\\nimport matplotlib.pyplot as plt\\nfrom sklearn.ensemble import RandomForestClassifier\\nfrom sklearn.model_selection import KFold\\nfrom sklearn.model_selection import train_test_split'); }\n",
       "    "
      ],
      "text/plain": [
       "<IPython.core.display.Javascript object>"
      ]
     },
     "metadata": {},
     "output_type": "display_data"
    },
    {
     "name": "stdout",
     "output_type": "stream",
     "text": [
      "[    0     1     2 ... 30888 30889 30890] [18491 18492 18493 ... 24810 24825 24834]\n"
     ]
    },
    {
     "data": {
      "application/javascript": [
       "\n",
       "        if (window._pyforest_update_imports_cell) { window._pyforest_update_imports_cell('from sklearn.linear_model import LogisticRegression\\nfrom sklearn.model_selection import StratifiedKFold\\nfrom sklearn.ensemble import GradientBoostingClassifier\\nimport matplotlib.pyplot as plt\\nfrom sklearn.ensemble import RandomForestClassifier\\nfrom sklearn.model_selection import KFold\\nfrom sklearn.model_selection import train_test_split'); }\n",
       "    "
      ],
      "text/plain": [
       "<IPython.core.display.Javascript object>"
      ]
     },
     "metadata": {},
     "output_type": "display_data"
    },
    {
     "name": "stdout",
     "output_type": "stream",
     "text": [
      "[    0     1     2 ... 24810 24825 24834] [24696 24697 24698 ... 30888 30889 30890]\n"
     ]
    },
    {
     "data": {
      "application/javascript": [
       "\n",
       "        if (window._pyforest_update_imports_cell) { window._pyforest_update_imports_cell('from sklearn.linear_model import LogisticRegression\\nfrom sklearn.model_selection import StratifiedKFold\\nfrom sklearn.ensemble import GradientBoostingClassifier\\nimport matplotlib.pyplot as plt\\nfrom sklearn.ensemble import RandomForestClassifier\\nfrom sklearn.model_selection import KFold\\nfrom sklearn.model_selection import train_test_split'); }\n",
       "    "
      ],
      "text/plain": [
       "<IPython.core.display.Javascript object>"
      ]
     },
     "metadata": {},
     "output_type": "display_data"
    },
    {
     "name": "stdout",
     "output_type": "stream",
     "text": [
      "[ 6167  6168  6170 ... 30888 30889 30890] [   0    1    2 ... 6232 6234 6259]\n"
     ]
    },
    {
     "data": {
      "application/javascript": [
       "\n",
       "        if (window._pyforest_update_imports_cell) { window._pyforest_update_imports_cell('from sklearn.linear_model import LogisticRegression\\nfrom sklearn.model_selection import StratifiedKFold\\nfrom sklearn.ensemble import GradientBoostingClassifier\\nimport matplotlib.pyplot as plt\\nfrom sklearn.ensemble import RandomForestClassifier\\nfrom sklearn.model_selection import KFold\\nfrom sklearn.model_selection import train_test_split'); }\n",
       "    "
      ],
      "text/plain": [
       "<IPython.core.display.Javascript object>"
      ]
     },
     "metadata": {},
     "output_type": "display_data"
    },
    {
     "name": "stdout",
     "output_type": "stream",
     "text": [
      "[    0     1     2 ... 30888 30889 30890] [ 6167  6168  6170 ... 12432 12437 12438]\n"
     ]
    },
    {
     "data": {
      "application/javascript": [
       "\n",
       "        if (window._pyforest_update_imports_cell) { window._pyforest_update_imports_cell('from sklearn.linear_model import LogisticRegression\\nfrom sklearn.model_selection import StratifiedKFold\\nfrom sklearn.ensemble import GradientBoostingClassifier\\nimport matplotlib.pyplot as plt\\nfrom sklearn.ensemble import RandomForestClassifier\\nfrom sklearn.model_selection import KFold\\nfrom sklearn.model_selection import train_test_split'); }\n",
       "    "
      ],
      "text/plain": [
       "<IPython.core.display.Javascript object>"
      ]
     },
     "metadata": {},
     "output_type": "display_data"
    },
    {
     "name": "stdout",
     "output_type": "stream",
     "text": [
      "[    0     1     2 ... 30888 30889 30890] [12351 12352 12353 ... 18844 18850 18861]\n"
     ]
    },
    {
     "data": {
      "application/javascript": [
       "\n",
       "        if (window._pyforest_update_imports_cell) { window._pyforest_update_imports_cell('from sklearn.linear_model import LogisticRegression\\nfrom sklearn.model_selection import StratifiedKFold\\nfrom sklearn.ensemble import GradientBoostingClassifier\\nimport matplotlib.pyplot as plt\\nfrom sklearn.ensemble import RandomForestClassifier\\nfrom sklearn.model_selection import KFold\\nfrom sklearn.model_selection import train_test_split'); }\n",
       "    "
      ],
      "text/plain": [
       "<IPython.core.display.Javascript object>"
      ]
     },
     "metadata": {},
     "output_type": "display_data"
    },
    {
     "name": "stdout",
     "output_type": "stream",
     "text": [
      "[    0     1     2 ... 30888 30889 30890] [18491 18492 18493 ... 24810 24825 24834]\n"
     ]
    },
    {
     "data": {
      "application/javascript": [
       "\n",
       "        if (window._pyforest_update_imports_cell) { window._pyforest_update_imports_cell('from sklearn.linear_model import LogisticRegression\\nfrom sklearn.model_selection import StratifiedKFold\\nfrom sklearn.ensemble import GradientBoostingClassifier\\nimport matplotlib.pyplot as plt\\nfrom sklearn.ensemble import RandomForestClassifier\\nfrom sklearn.model_selection import KFold\\nfrom sklearn.model_selection import train_test_split'); }\n",
       "    "
      ],
      "text/plain": [
       "<IPython.core.display.Javascript object>"
      ]
     },
     "metadata": {},
     "output_type": "display_data"
    },
    {
     "name": "stdout",
     "output_type": "stream",
     "text": [
      "[    0     1     2 ... 24810 24825 24834] [24696 24697 24698 ... 30888 30889 30890]\n"
     ]
    },
    {
     "data": {
      "application/javascript": [
       "\n",
       "        if (window._pyforest_update_imports_cell) { window._pyforest_update_imports_cell('from sklearn.linear_model import LogisticRegression\\nfrom sklearn.model_selection import StratifiedKFold\\nfrom sklearn.ensemble import GradientBoostingClassifier\\nimport matplotlib.pyplot as plt\\nfrom sklearn.ensemble import RandomForestClassifier\\nfrom sklearn.model_selection import KFold\\nfrom sklearn.model_selection import train_test_split'); }\n",
       "    "
      ],
      "text/plain": [
       "<IPython.core.display.Javascript object>"
      ]
     },
     "metadata": {},
     "output_type": "display_data"
    },
    {
     "name": "stdout",
     "output_type": "stream",
     "text": [
      "[ 6167  6168  6170 ... 30888 30889 30890] [   0    1    2 ... 6232 6234 6259]\n"
     ]
    },
    {
     "data": {
      "application/javascript": [
       "\n",
       "        if (window._pyforest_update_imports_cell) { window._pyforest_update_imports_cell('from sklearn.linear_model import LogisticRegression\\nfrom sklearn.model_selection import StratifiedKFold\\nfrom sklearn.ensemble import GradientBoostingClassifier\\nimport matplotlib.pyplot as plt\\nfrom sklearn.ensemble import RandomForestClassifier\\nfrom sklearn.model_selection import KFold\\nfrom sklearn.model_selection import train_test_split'); }\n",
       "    "
      ],
      "text/plain": [
       "<IPython.core.display.Javascript object>"
      ]
     },
     "metadata": {},
     "output_type": "display_data"
    },
    {
     "name": "stdout",
     "output_type": "stream",
     "text": [
      "[    0     1     2 ... 30888 30889 30890] [ 6167  6168  6170 ... 12432 12437 12438]\n"
     ]
    },
    {
     "data": {
      "application/javascript": [
       "\n",
       "        if (window._pyforest_update_imports_cell) { window._pyforest_update_imports_cell('from sklearn.linear_model import LogisticRegression\\nfrom sklearn.model_selection import StratifiedKFold\\nfrom sklearn.ensemble import GradientBoostingClassifier\\nimport matplotlib.pyplot as plt\\nfrom sklearn.ensemble import RandomForestClassifier\\nfrom sklearn.model_selection import KFold\\nfrom sklearn.model_selection import train_test_split'); }\n",
       "    "
      ],
      "text/plain": [
       "<IPython.core.display.Javascript object>"
      ]
     },
     "metadata": {},
     "output_type": "display_data"
    },
    {
     "name": "stdout",
     "output_type": "stream",
     "text": [
      "[    0     1     2 ... 30888 30889 30890] [12351 12352 12353 ... 18844 18850 18861]\n"
     ]
    },
    {
     "data": {
      "application/javascript": [
       "\n",
       "        if (window._pyforest_update_imports_cell) { window._pyforest_update_imports_cell('from sklearn.linear_model import LogisticRegression\\nfrom sklearn.model_selection import StratifiedKFold\\nfrom sklearn.ensemble import GradientBoostingClassifier\\nimport matplotlib.pyplot as plt\\nfrom sklearn.ensemble import RandomForestClassifier\\nfrom sklearn.model_selection import KFold\\nfrom sklearn.model_selection import train_test_split'); }\n",
       "    "
      ],
      "text/plain": [
       "<IPython.core.display.Javascript object>"
      ]
     },
     "metadata": {},
     "output_type": "display_data"
    },
    {
     "name": "stdout",
     "output_type": "stream",
     "text": [
      "[    0     1     2 ... 30888 30889 30890] [18491 18492 18493 ... 24810 24825 24834]\n"
     ]
    },
    {
     "data": {
      "application/javascript": [
       "\n",
       "        if (window._pyforest_update_imports_cell) { window._pyforest_update_imports_cell('from sklearn.linear_model import LogisticRegression\\nfrom sklearn.model_selection import StratifiedKFold\\nfrom sklearn.ensemble import GradientBoostingClassifier\\nimport matplotlib.pyplot as plt\\nfrom sklearn.ensemble import RandomForestClassifier\\nfrom sklearn.model_selection import KFold\\nfrom sklearn.model_selection import train_test_split'); }\n",
       "    "
      ],
      "text/plain": [
       "<IPython.core.display.Javascript object>"
      ]
     },
     "metadata": {},
     "output_type": "display_data"
    },
    {
     "name": "stdout",
     "output_type": "stream",
     "text": [
      "[    0     1     2 ... 24810 24825 24834] [24696 24697 24698 ... 30888 30889 30890]\n"
     ]
    },
    {
     "data": {
      "application/javascript": [
       "\n",
       "        if (window._pyforest_update_imports_cell) { window._pyforest_update_imports_cell('from sklearn.linear_model import LogisticRegression\\nfrom sklearn.model_selection import StratifiedKFold\\nfrom sklearn.ensemble import GradientBoostingClassifier\\nimport matplotlib.pyplot as plt\\nfrom sklearn.ensemble import RandomForestClassifier\\nfrom sklearn.model_selection import KFold\\nfrom sklearn.model_selection import train_test_split'); }\n",
       "    "
      ],
      "text/plain": [
       "<IPython.core.display.Javascript object>"
      ]
     },
     "metadata": {},
     "output_type": "display_data"
    },
    {
     "name": "stdout",
     "output_type": "stream",
     "text": [
      "[ 6167  6168  6170 ... 30888 30889 30890] [   0    1    2 ... 6232 6234 6259]\n"
     ]
    },
    {
     "data": {
      "application/javascript": [
       "\n",
       "        if (window._pyforest_update_imports_cell) { window._pyforest_update_imports_cell('from sklearn.linear_model import LogisticRegression\\nfrom sklearn.model_selection import StratifiedKFold\\nfrom sklearn.ensemble import GradientBoostingClassifier\\nimport matplotlib.pyplot as plt\\nfrom sklearn.ensemble import RandomForestClassifier\\nfrom sklearn.model_selection import KFold\\nfrom sklearn.model_selection import train_test_split'); }\n",
       "    "
      ],
      "text/plain": [
       "<IPython.core.display.Javascript object>"
      ]
     },
     "metadata": {},
     "output_type": "display_data"
    },
    {
     "name": "stdout",
     "output_type": "stream",
     "text": [
      "[    0     1     2 ... 30888 30889 30890] [ 6167  6168  6170 ... 12432 12437 12438]\n"
     ]
    },
    {
     "data": {
      "application/javascript": [
       "\n",
       "        if (window._pyforest_update_imports_cell) { window._pyforest_update_imports_cell('from sklearn.linear_model import LogisticRegression\\nfrom sklearn.model_selection import StratifiedKFold\\nfrom sklearn.ensemble import GradientBoostingClassifier\\nimport matplotlib.pyplot as plt\\nfrom sklearn.ensemble import RandomForestClassifier\\nfrom sklearn.model_selection import KFold\\nfrom sklearn.model_selection import train_test_split'); }\n",
       "    "
      ],
      "text/plain": [
       "<IPython.core.display.Javascript object>"
      ]
     },
     "metadata": {},
     "output_type": "display_data"
    },
    {
     "name": "stdout",
     "output_type": "stream",
     "text": [
      "[    0     1     2 ... 30888 30889 30890] [12351 12352 12353 ... 18844 18850 18861]\n"
     ]
    },
    {
     "data": {
      "application/javascript": [
       "\n",
       "        if (window._pyforest_update_imports_cell) { window._pyforest_update_imports_cell('from sklearn.linear_model import LogisticRegression\\nfrom sklearn.model_selection import StratifiedKFold\\nfrom sklearn.ensemble import GradientBoostingClassifier\\nimport matplotlib.pyplot as plt\\nfrom sklearn.ensemble import RandomForestClassifier\\nfrom sklearn.model_selection import KFold\\nfrom sklearn.model_selection import train_test_split'); }\n",
       "    "
      ],
      "text/plain": [
       "<IPython.core.display.Javascript object>"
      ]
     },
     "metadata": {},
     "output_type": "display_data"
    },
    {
     "name": "stdout",
     "output_type": "stream",
     "text": [
      "[    0     1     2 ... 30888 30889 30890] [18491 18492 18493 ... 24810 24825 24834]\n"
     ]
    },
    {
     "data": {
      "application/javascript": [
       "\n",
       "        if (window._pyforest_update_imports_cell) { window._pyforest_update_imports_cell('from sklearn.linear_model import LogisticRegression\\nfrom sklearn.model_selection import StratifiedKFold\\nfrom sklearn.ensemble import GradientBoostingClassifier\\nimport matplotlib.pyplot as plt\\nfrom sklearn.ensemble import RandomForestClassifier\\nfrom sklearn.model_selection import KFold\\nfrom sklearn.model_selection import train_test_split'); }\n",
       "    "
      ],
      "text/plain": [
       "<IPython.core.display.Javascript object>"
      ]
     },
     "metadata": {},
     "output_type": "display_data"
    },
    {
     "name": "stdout",
     "output_type": "stream",
     "text": [
      "[    0     1     2 ... 24810 24825 24834] [24696 24697 24698 ... 30888 30889 30890]\n"
     ]
    },
    {
     "data": {
      "application/javascript": [
       "\n",
       "        if (window._pyforest_update_imports_cell) { window._pyforest_update_imports_cell('from sklearn.linear_model import LogisticRegression\\nfrom sklearn.model_selection import StratifiedKFold\\nfrom sklearn.ensemble import GradientBoostingClassifier\\nimport matplotlib.pyplot as plt\\nfrom sklearn.ensemble import RandomForestClassifier\\nfrom sklearn.model_selection import KFold\\nfrom sklearn.model_selection import train_test_split'); }\n",
       "    "
      ],
      "text/plain": [
       "<IPython.core.display.Javascript object>"
      ]
     },
     "metadata": {},
     "output_type": "display_data"
    }
   ],
   "source": [
    "#Stratified kfold RandomForest\n",
    "max_features_params = [0.5, 0.6, 0.7, 0.8]\n",
    "rf_accuracy = {}\n",
    "kf = StratifiedKFold(n_splits=5)\n",
    "\n",
    "for mf in tqdm(max_features_params):\n",
    "    train_acc_list=[]\n",
    "    test_acc_list=[]\n",
    "    for train_index, test_index in kf.split(X1, y1):\n",
    "        print(train_index, test_index)\n",
    "        X_train, X_test = X1[train_index], X1[test_index]\n",
    "        y_train, y_test = y1[train_index], y1[test_index]\n",
    "        rf_model1 = RandomForestClassifier(max_features=mf,max_depth=9)\n",
    "        rf_model1.fit(X_train,y_train)\n",
    "        train_acc_list.append(rf_model1.score(X_train, y_train))\n",
    "        test_acc_list.append( rf_model1.score(X_test, y_test))\n",
    "    rf_accuracy[str(mf)] ={'train_acc' : np.mean(train_acc_list),\n",
    "                            'test_acc' : np.mean(test_acc_list)}"
   ]
  },
  {
   "cell_type": "code",
   "execution_count": 76,
   "id": "023a6766",
   "metadata": {},
   "outputs": [
    {
     "data": {
      "text/plain": [
       "{'0.5': {'train_acc': 0.9453967248119778, 'test_acc': 0.9174194164583085},\n",
       " '0.6': {'train_acc': 0.9469424781535734, 'test_acc': 0.9168044197362057},\n",
       " '0.7': {'train_acc': 0.9475818217022647, 'test_acc': 0.9165453681369728},\n",
       " '0.8': {'train_acc': 0.9487229238206899, 'test_acc': 0.9168691341735347}}"
      ]
     },
     "execution_count": 76,
     "metadata": {},
     "output_type": "execute_result"
    }
   ],
   "source": [
    "rf_accuracy"
   ]
  },
  {
   "cell_type": "code",
   "execution_count": 78,
   "id": "06218b96",
   "metadata": {},
   "outputs": [
    {
     "name": "stdout",
     "output_type": "stream",
     "text": [
      "Best: 0.908258 using {'C': 0.01, 'kernel': 'linear'}\n",
      "Execution time: 708.7520072460175 ms\n"
     ]
    }
   ],
   "source": [
    "import time\n",
    "from sklearn.model_selection import GridSearchCV\n",
    "\n",
    "\n",
    "\n",
    "algo = ['linear', 'poly', 'rbf', 'sigmoid']\n",
    "C_params = [1e-4, 0.001, 1e-2, 0.1, 1, 10, 100, 1000,10000]\n",
    "param_grid = dict(kernel=algo,C=C_params)\n",
    "\n",
    "\n",
    "svc_model = SVC()\n",
    "grid = GridSearchCV(estimator=svc_model, param_grid=param_grid, cv = 5, n_jobs=-1)\n",
    "\n",
    "start_time = time.time()\n",
    "grid_result = grid.fit(X, y)\n",
    "# Summarize results\n",
    "print(\"Best: %f using %s\" % (grid_result.best_score_, grid_result.best_params_))\n",
    "print(\"Execution time: \" + str((time.time() - start_time)) + ' ms')"
   ]
  },
  {
   "cell_type": "code",
   "execution_count": 3,
   "id": "bfd397c8",
   "metadata": {},
   "outputs": [
    {
     "ename": "MemoryError",
     "evalue": "Unable to allocate 1.00 GiB for an array with shape (5431, 24712) and data type float64",
     "output_type": "error",
     "traceback": [
      "\u001b[1;31m---------------------------------------------------------------------------\u001b[0m",
      "\u001b[1;31m_RemoteTraceback\u001b[0m                          Traceback (most recent call last)",
      "\u001b[1;31m_RemoteTraceback\u001b[0m: \n\"\"\"\nTraceback (most recent call last):\n  File \"C:\\Users\\kvray\\anaconda3\\lib\\site-packages\\joblib\\externals\\loky\\process_executor.py\", line 431, in _process_worker\n    r = call_item()\n  File \"C:\\Users\\kvray\\anaconda3\\lib\\site-packages\\joblib\\externals\\loky\\process_executor.py\", line 285, in __call__\n    return self.fn(*self.args, **self.kwargs)\n  File \"C:\\Users\\kvray\\anaconda3\\lib\\site-packages\\joblib\\_parallel_backends.py\", line 595, in __call__\n    return self.func(*args, **kwargs)\n  File \"C:\\Users\\kvray\\anaconda3\\lib\\site-packages\\joblib\\parallel.py\", line 262, in __call__\n    return [func(*args, **kwargs)\n  File \"C:\\Users\\kvray\\anaconda3\\lib\\site-packages\\joblib\\parallel.py\", line 262, in <listcomp>\n    return [func(*args, **kwargs)\n  File \"C:\\Users\\kvray\\anaconda3\\lib\\site-packages\\sklearn\\utils\\fixes.py\", line 222, in __call__\n    return self.function(*args, **kwargs)\n  File \"C:\\Users\\kvray\\anaconda3\\lib\\site-packages\\sklearn\\model_selection\\_validation.py\", line 620, in _fit_and_score\n    test_scores = _score(estimator, X_test, y_test, scorer, error_score)\n  File \"C:\\Users\\kvray\\anaconda3\\lib\\site-packages\\sklearn\\model_selection\\_validation.py\", line 674, in _score\n    scores = scorer(estimator, X_test, y_test)\n  File \"C:\\Users\\kvray\\anaconda3\\lib\\site-packages\\sklearn\\metrics\\_scorer.py\", line 397, in _passthrough_scorer\n    return estimator.score(*args, **kwargs)\n  File \"C:\\Users\\kvray\\anaconda3\\lib\\site-packages\\sklearn\\base.py\", line 500, in score\n    return accuracy_score(y, self.predict(X), sample_weight=sample_weight)\n  File \"C:\\Users\\kvray\\anaconda3\\lib\\site-packages\\sklearn\\neighbors\\_classification.py\", line 197, in predict\n    neigh_dist, neigh_ind = self.kneighbors(X)\n  File \"C:\\Users\\kvray\\anaconda3\\lib\\site-packages\\sklearn\\neighbors\\_base.py\", line 705, in kneighbors\n    chunked_results = list(pairwise_distances_chunked(\n  File \"C:\\Users\\kvray\\anaconda3\\lib\\site-packages\\sklearn\\metrics\\pairwise.py\", line 1623, in pairwise_distances_chunked\n    D_chunk = pairwise_distances(X_chunk, Y, metric=metric,\n  File \"C:\\Users\\kvray\\anaconda3\\lib\\site-packages\\sklearn\\utils\\validation.py\", line 63, in inner_f\n    return f(*args, **kwargs)\n  File \"C:\\Users\\kvray\\anaconda3\\lib\\site-packages\\sklearn\\metrics\\pairwise.py\", line 1790, in pairwise_distances\n    return _parallel_pairwise(X, Y, func, n_jobs, **kwds)\n  File \"C:\\Users\\kvray\\anaconda3\\lib\\site-packages\\sklearn\\metrics\\pairwise.py\", line 1359, in _parallel_pairwise\n    return func(X, Y, **kwds)\n  File \"C:\\Users\\kvray\\anaconda3\\lib\\site-packages\\sklearn\\utils\\validation.py\", line 63, in inner_f\n    return f(*args, **kwargs)\n  File \"C:\\Users\\kvray\\anaconda3\\lib\\site-packages\\sklearn\\metrics\\pairwise.py\", line 313, in euclidean_distances\n    distances = - 2 * safe_sparse_dot(X, Y.T, dense_output=True)\nnumpy.core._exceptions._ArrayMemoryError: Unable to allocate 1.00 GiB for an array with shape (5431, 24712) and data type float64\n\"\"\"",
      "\nThe above exception was the direct cause of the following exception:\n",
      "\u001b[1;31mMemoryError\u001b[0m                               Traceback (most recent call last)",
      "\u001b[1;32m<ipython-input-3-53d8b20d45fa>\u001b[0m in \u001b[0;36m<module>\u001b[1;34m\u001b[0m\n\u001b[0;32m     10\u001b[0m \u001b[1;33m\u001b[0m\u001b[0m\n\u001b[0;32m     11\u001b[0m \u001b[0mstart_time\u001b[0m \u001b[1;33m=\u001b[0m \u001b[0mtime\u001b[0m\u001b[1;33m.\u001b[0m\u001b[0mtime\u001b[0m\u001b[1;33m(\u001b[0m\u001b[1;33m)\u001b[0m\u001b[1;33m\u001b[0m\u001b[1;33m\u001b[0m\u001b[0m\n\u001b[1;32m---> 12\u001b[1;33m \u001b[0mgrid_result\u001b[0m \u001b[1;33m=\u001b[0m \u001b[0mgrid\u001b[0m\u001b[1;33m.\u001b[0m\u001b[0mfit\u001b[0m\u001b[1;33m(\u001b[0m\u001b[0mX\u001b[0m\u001b[1;33m,\u001b[0m \u001b[0my\u001b[0m\u001b[1;33m)\u001b[0m\u001b[1;33m\u001b[0m\u001b[1;33m\u001b[0m\u001b[0m\n\u001b[0m\u001b[0;32m     13\u001b[0m \u001b[1;31m# Summarize results\u001b[0m\u001b[1;33m\u001b[0m\u001b[1;33m\u001b[0m\u001b[1;33m\u001b[0m\u001b[0m\n\u001b[0;32m     14\u001b[0m \u001b[0mprint\u001b[0m\u001b[1;33m(\u001b[0m\u001b[1;34m\"Best: %f using %s\"\u001b[0m \u001b[1;33m%\u001b[0m \u001b[1;33m(\u001b[0m\u001b[0mgrid_result\u001b[0m\u001b[1;33m.\u001b[0m\u001b[0mbest_score_\u001b[0m\u001b[1;33m,\u001b[0m \u001b[0mgrid_result\u001b[0m\u001b[1;33m.\u001b[0m\u001b[0mbest_params_\u001b[0m\u001b[1;33m)\u001b[0m\u001b[1;33m)\u001b[0m\u001b[1;33m\u001b[0m\u001b[1;33m\u001b[0m\u001b[0m\n",
      "\u001b[1;32m~\\anaconda3\\lib\\site-packages\\sklearn\\utils\\validation.py\u001b[0m in \u001b[0;36minner_f\u001b[1;34m(*args, **kwargs)\u001b[0m\n\u001b[0;32m     61\u001b[0m             \u001b[0mextra_args\u001b[0m \u001b[1;33m=\u001b[0m \u001b[0mlen\u001b[0m\u001b[1;33m(\u001b[0m\u001b[0margs\u001b[0m\u001b[1;33m)\u001b[0m \u001b[1;33m-\u001b[0m \u001b[0mlen\u001b[0m\u001b[1;33m(\u001b[0m\u001b[0mall_args\u001b[0m\u001b[1;33m)\u001b[0m\u001b[1;33m\u001b[0m\u001b[1;33m\u001b[0m\u001b[0m\n\u001b[0;32m     62\u001b[0m             \u001b[1;32mif\u001b[0m \u001b[0mextra_args\u001b[0m \u001b[1;33m<=\u001b[0m \u001b[1;36m0\u001b[0m\u001b[1;33m:\u001b[0m\u001b[1;33m\u001b[0m\u001b[1;33m\u001b[0m\u001b[0m\n\u001b[1;32m---> 63\u001b[1;33m                 \u001b[1;32mreturn\u001b[0m \u001b[0mf\u001b[0m\u001b[1;33m(\u001b[0m\u001b[1;33m*\u001b[0m\u001b[0margs\u001b[0m\u001b[1;33m,\u001b[0m \u001b[1;33m**\u001b[0m\u001b[0mkwargs\u001b[0m\u001b[1;33m)\u001b[0m\u001b[1;33m\u001b[0m\u001b[1;33m\u001b[0m\u001b[0m\n\u001b[0m\u001b[0;32m     64\u001b[0m \u001b[1;33m\u001b[0m\u001b[0m\n\u001b[0;32m     65\u001b[0m             \u001b[1;31m# extra_args > 0\u001b[0m\u001b[1;33m\u001b[0m\u001b[1;33m\u001b[0m\u001b[1;33m\u001b[0m\u001b[0m\n",
      "\u001b[1;32m~\\anaconda3\\lib\\site-packages\\sklearn\\model_selection\\_search.py\u001b[0m in \u001b[0;36mfit\u001b[1;34m(self, X, y, groups, **fit_params)\u001b[0m\n\u001b[0;32m    839\u001b[0m                 \u001b[1;32mreturn\u001b[0m \u001b[0mresults\u001b[0m\u001b[1;33m\u001b[0m\u001b[1;33m\u001b[0m\u001b[0m\n\u001b[0;32m    840\u001b[0m \u001b[1;33m\u001b[0m\u001b[0m\n\u001b[1;32m--> 841\u001b[1;33m             \u001b[0mself\u001b[0m\u001b[1;33m.\u001b[0m\u001b[0m_run_search\u001b[0m\u001b[1;33m(\u001b[0m\u001b[0mevaluate_candidates\u001b[0m\u001b[1;33m)\u001b[0m\u001b[1;33m\u001b[0m\u001b[1;33m\u001b[0m\u001b[0m\n\u001b[0m\u001b[0;32m    842\u001b[0m \u001b[1;33m\u001b[0m\u001b[0m\n\u001b[0;32m    843\u001b[0m             \u001b[1;31m# multimetric is determined here because in the case of a callable\u001b[0m\u001b[1;33m\u001b[0m\u001b[1;33m\u001b[0m\u001b[1;33m\u001b[0m\u001b[0m\n",
      "\u001b[1;32m~\\anaconda3\\lib\\site-packages\\sklearn\\model_selection\\_search.py\u001b[0m in \u001b[0;36m_run_search\u001b[1;34m(self, evaluate_candidates)\u001b[0m\n\u001b[0;32m   1286\u001b[0m     \u001b[1;32mdef\u001b[0m \u001b[0m_run_search\u001b[0m\u001b[1;33m(\u001b[0m\u001b[0mself\u001b[0m\u001b[1;33m,\u001b[0m \u001b[0mevaluate_candidates\u001b[0m\u001b[1;33m)\u001b[0m\u001b[1;33m:\u001b[0m\u001b[1;33m\u001b[0m\u001b[1;33m\u001b[0m\u001b[0m\n\u001b[0;32m   1287\u001b[0m         \u001b[1;34m\"\"\"Search all candidates in param_grid\"\"\"\u001b[0m\u001b[1;33m\u001b[0m\u001b[1;33m\u001b[0m\u001b[0m\n\u001b[1;32m-> 1288\u001b[1;33m         \u001b[0mevaluate_candidates\u001b[0m\u001b[1;33m(\u001b[0m\u001b[0mParameterGrid\u001b[0m\u001b[1;33m(\u001b[0m\u001b[0mself\u001b[0m\u001b[1;33m.\u001b[0m\u001b[0mparam_grid\u001b[0m\u001b[1;33m)\u001b[0m\u001b[1;33m)\u001b[0m\u001b[1;33m\u001b[0m\u001b[1;33m\u001b[0m\u001b[0m\n\u001b[0m\u001b[0;32m   1289\u001b[0m \u001b[1;33m\u001b[0m\u001b[0m\n\u001b[0;32m   1290\u001b[0m \u001b[1;33m\u001b[0m\u001b[0m\n",
      "\u001b[1;32m~\\anaconda3\\lib\\site-packages\\sklearn\\model_selection\\_search.py\u001b[0m in \u001b[0;36mevaluate_candidates\u001b[1;34m(candidate_params, cv, more_results)\u001b[0m\n\u001b[0;32m    793\u001b[0m                               n_splits, n_candidates, n_candidates * n_splits))\n\u001b[0;32m    794\u001b[0m \u001b[1;33m\u001b[0m\u001b[0m\n\u001b[1;32m--> 795\u001b[1;33m                 out = parallel(delayed(_fit_and_score)(clone(base_estimator),\n\u001b[0m\u001b[0;32m    796\u001b[0m                                                        \u001b[0mX\u001b[0m\u001b[1;33m,\u001b[0m \u001b[0my\u001b[0m\u001b[1;33m,\u001b[0m\u001b[1;33m\u001b[0m\u001b[1;33m\u001b[0m\u001b[0m\n\u001b[0;32m    797\u001b[0m                                                        \u001b[0mtrain\u001b[0m\u001b[1;33m=\u001b[0m\u001b[0mtrain\u001b[0m\u001b[1;33m,\u001b[0m \u001b[0mtest\u001b[0m\u001b[1;33m=\u001b[0m\u001b[0mtest\u001b[0m\u001b[1;33m,\u001b[0m\u001b[1;33m\u001b[0m\u001b[1;33m\u001b[0m\u001b[0m\n",
      "\u001b[1;32m~\\anaconda3\\lib\\site-packages\\joblib\\parallel.py\u001b[0m in \u001b[0;36m__call__\u001b[1;34m(self, iterable)\u001b[0m\n\u001b[0;32m   1052\u001b[0m \u001b[1;33m\u001b[0m\u001b[0m\n\u001b[0;32m   1053\u001b[0m             \u001b[1;32mwith\u001b[0m \u001b[0mself\u001b[0m\u001b[1;33m.\u001b[0m\u001b[0m_backend\u001b[0m\u001b[1;33m.\u001b[0m\u001b[0mretrieval_context\u001b[0m\u001b[1;33m(\u001b[0m\u001b[1;33m)\u001b[0m\u001b[1;33m:\u001b[0m\u001b[1;33m\u001b[0m\u001b[1;33m\u001b[0m\u001b[0m\n\u001b[1;32m-> 1054\u001b[1;33m                 \u001b[0mself\u001b[0m\u001b[1;33m.\u001b[0m\u001b[0mretrieve\u001b[0m\u001b[1;33m(\u001b[0m\u001b[1;33m)\u001b[0m\u001b[1;33m\u001b[0m\u001b[1;33m\u001b[0m\u001b[0m\n\u001b[0m\u001b[0;32m   1055\u001b[0m             \u001b[1;31m# Make sure that we get a last message telling us we are done\u001b[0m\u001b[1;33m\u001b[0m\u001b[1;33m\u001b[0m\u001b[1;33m\u001b[0m\u001b[0m\n\u001b[0;32m   1056\u001b[0m             \u001b[0melapsed_time\u001b[0m \u001b[1;33m=\u001b[0m \u001b[0mtime\u001b[0m\u001b[1;33m.\u001b[0m\u001b[0mtime\u001b[0m\u001b[1;33m(\u001b[0m\u001b[1;33m)\u001b[0m \u001b[1;33m-\u001b[0m \u001b[0mself\u001b[0m\u001b[1;33m.\u001b[0m\u001b[0m_start_time\u001b[0m\u001b[1;33m\u001b[0m\u001b[1;33m\u001b[0m\u001b[0m\n",
      "\u001b[1;32m~\\anaconda3\\lib\\site-packages\\joblib\\parallel.py\u001b[0m in \u001b[0;36mretrieve\u001b[1;34m(self)\u001b[0m\n\u001b[0;32m    931\u001b[0m             \u001b[1;32mtry\u001b[0m\u001b[1;33m:\u001b[0m\u001b[1;33m\u001b[0m\u001b[1;33m\u001b[0m\u001b[0m\n\u001b[0;32m    932\u001b[0m                 \u001b[1;32mif\u001b[0m \u001b[0mgetattr\u001b[0m\u001b[1;33m(\u001b[0m\u001b[0mself\u001b[0m\u001b[1;33m.\u001b[0m\u001b[0m_backend\u001b[0m\u001b[1;33m,\u001b[0m \u001b[1;34m'supports_timeout'\u001b[0m\u001b[1;33m,\u001b[0m \u001b[1;32mFalse\u001b[0m\u001b[1;33m)\u001b[0m\u001b[1;33m:\u001b[0m\u001b[1;33m\u001b[0m\u001b[1;33m\u001b[0m\u001b[0m\n\u001b[1;32m--> 933\u001b[1;33m                     \u001b[0mself\u001b[0m\u001b[1;33m.\u001b[0m\u001b[0m_output\u001b[0m\u001b[1;33m.\u001b[0m\u001b[0mextend\u001b[0m\u001b[1;33m(\u001b[0m\u001b[0mjob\u001b[0m\u001b[1;33m.\u001b[0m\u001b[0mget\u001b[0m\u001b[1;33m(\u001b[0m\u001b[0mtimeout\u001b[0m\u001b[1;33m=\u001b[0m\u001b[0mself\u001b[0m\u001b[1;33m.\u001b[0m\u001b[0mtimeout\u001b[0m\u001b[1;33m)\u001b[0m\u001b[1;33m)\u001b[0m\u001b[1;33m\u001b[0m\u001b[1;33m\u001b[0m\u001b[0m\n\u001b[0m\u001b[0;32m    934\u001b[0m                 \u001b[1;32melse\u001b[0m\u001b[1;33m:\u001b[0m\u001b[1;33m\u001b[0m\u001b[1;33m\u001b[0m\u001b[0m\n\u001b[0;32m    935\u001b[0m                     \u001b[0mself\u001b[0m\u001b[1;33m.\u001b[0m\u001b[0m_output\u001b[0m\u001b[1;33m.\u001b[0m\u001b[0mextend\u001b[0m\u001b[1;33m(\u001b[0m\u001b[0mjob\u001b[0m\u001b[1;33m.\u001b[0m\u001b[0mget\u001b[0m\u001b[1;33m(\u001b[0m\u001b[1;33m)\u001b[0m\u001b[1;33m)\u001b[0m\u001b[1;33m\u001b[0m\u001b[1;33m\u001b[0m\u001b[0m\n",
      "\u001b[1;32m~\\anaconda3\\lib\\site-packages\\joblib\\_parallel_backends.py\u001b[0m in \u001b[0;36mwrap_future_result\u001b[1;34m(future, timeout)\u001b[0m\n\u001b[0;32m    540\u001b[0m         AsyncResults.get from multiprocessing.\"\"\"\n\u001b[0;32m    541\u001b[0m         \u001b[1;32mtry\u001b[0m\u001b[1;33m:\u001b[0m\u001b[1;33m\u001b[0m\u001b[1;33m\u001b[0m\u001b[0m\n\u001b[1;32m--> 542\u001b[1;33m             \u001b[1;32mreturn\u001b[0m \u001b[0mfuture\u001b[0m\u001b[1;33m.\u001b[0m\u001b[0mresult\u001b[0m\u001b[1;33m(\u001b[0m\u001b[0mtimeout\u001b[0m\u001b[1;33m=\u001b[0m\u001b[0mtimeout\u001b[0m\u001b[1;33m)\u001b[0m\u001b[1;33m\u001b[0m\u001b[1;33m\u001b[0m\u001b[0m\n\u001b[0m\u001b[0;32m    543\u001b[0m         \u001b[1;32mexcept\u001b[0m \u001b[0mCfTimeoutError\u001b[0m \u001b[1;32mas\u001b[0m \u001b[0me\u001b[0m\u001b[1;33m:\u001b[0m\u001b[1;33m\u001b[0m\u001b[1;33m\u001b[0m\u001b[0m\n\u001b[0;32m    544\u001b[0m             \u001b[1;32mraise\u001b[0m \u001b[0mTimeoutError\u001b[0m \u001b[1;32mfrom\u001b[0m \u001b[0me\u001b[0m\u001b[1;33m\u001b[0m\u001b[1;33m\u001b[0m\u001b[0m\n",
      "\u001b[1;32m~\\anaconda3\\lib\\concurrent\\futures\\_base.py\u001b[0m in \u001b[0;36mresult\u001b[1;34m(self, timeout)\u001b[0m\n\u001b[0;32m    437\u001b[0m                 \u001b[1;32mraise\u001b[0m \u001b[0mCancelledError\u001b[0m\u001b[1;33m(\u001b[0m\u001b[1;33m)\u001b[0m\u001b[1;33m\u001b[0m\u001b[1;33m\u001b[0m\u001b[0m\n\u001b[0;32m    438\u001b[0m             \u001b[1;32melif\u001b[0m \u001b[0mself\u001b[0m\u001b[1;33m.\u001b[0m\u001b[0m_state\u001b[0m \u001b[1;33m==\u001b[0m \u001b[0mFINISHED\u001b[0m\u001b[1;33m:\u001b[0m\u001b[1;33m\u001b[0m\u001b[1;33m\u001b[0m\u001b[0m\n\u001b[1;32m--> 439\u001b[1;33m                 \u001b[1;32mreturn\u001b[0m \u001b[0mself\u001b[0m\u001b[1;33m.\u001b[0m\u001b[0m__get_result\u001b[0m\u001b[1;33m(\u001b[0m\u001b[1;33m)\u001b[0m\u001b[1;33m\u001b[0m\u001b[1;33m\u001b[0m\u001b[0m\n\u001b[0m\u001b[0;32m    440\u001b[0m             \u001b[1;32melse\u001b[0m\u001b[1;33m:\u001b[0m\u001b[1;33m\u001b[0m\u001b[1;33m\u001b[0m\u001b[0m\n\u001b[0;32m    441\u001b[0m                 \u001b[1;32mraise\u001b[0m \u001b[0mTimeoutError\u001b[0m\u001b[1;33m(\u001b[0m\u001b[1;33m)\u001b[0m\u001b[1;33m\u001b[0m\u001b[1;33m\u001b[0m\u001b[0m\n",
      "\u001b[1;32m~\\anaconda3\\lib\\concurrent\\futures\\_base.py\u001b[0m in \u001b[0;36m__get_result\u001b[1;34m(self)\u001b[0m\n\u001b[0;32m    386\u001b[0m     \u001b[1;32mdef\u001b[0m \u001b[0m__get_result\u001b[0m\u001b[1;33m(\u001b[0m\u001b[0mself\u001b[0m\u001b[1;33m)\u001b[0m\u001b[1;33m:\u001b[0m\u001b[1;33m\u001b[0m\u001b[1;33m\u001b[0m\u001b[0m\n\u001b[0;32m    387\u001b[0m         \u001b[1;32mif\u001b[0m \u001b[0mself\u001b[0m\u001b[1;33m.\u001b[0m\u001b[0m_exception\u001b[0m\u001b[1;33m:\u001b[0m\u001b[1;33m\u001b[0m\u001b[1;33m\u001b[0m\u001b[0m\n\u001b[1;32m--> 388\u001b[1;33m             \u001b[1;32mraise\u001b[0m \u001b[0mself\u001b[0m\u001b[1;33m.\u001b[0m\u001b[0m_exception\u001b[0m\u001b[1;33m\u001b[0m\u001b[1;33m\u001b[0m\u001b[0m\n\u001b[0m\u001b[0;32m    389\u001b[0m         \u001b[1;32melse\u001b[0m\u001b[1;33m:\u001b[0m\u001b[1;33m\u001b[0m\u001b[1;33m\u001b[0m\u001b[0m\n\u001b[0;32m    390\u001b[0m             \u001b[1;32mreturn\u001b[0m \u001b[0mself\u001b[0m\u001b[1;33m.\u001b[0m\u001b[0m_result\u001b[0m\u001b[1;33m\u001b[0m\u001b[1;33m\u001b[0m\u001b[0m\n",
      "\u001b[1;31mMemoryError\u001b[0m: Unable to allocate 1.00 GiB for an array with shape (5431, 24712) and data type float64"
     ]
    }
   ],
   "source": [
    "import time\n",
    "from sklearn.model_selection import GridSearchCV\n",
    "from sklearn.neighbors import KNeighborsClassifier\n",
    "k_neighbors = list(range(5,15))\n",
    "leaf_size = list(range(30,45))\n",
    "param_grid = dict(leaf_size=leaf_size,n_neighbors=k_neighbors)\n",
    "\n",
    "knn_model = KNeighborsClassifier()\n",
    "grid = GridSearchCV(estimator=knn_model, param_grid=param_grid, cv = 5, n_jobs=-1, error_score='raise')\n",
    "\n",
    "start_time = time.time()\n",
    "grid_result = grid.fit(X, y)\n",
    "# Summarize results\n",
    "print(\"Best: %f using %s\" % (grid_result.best_score_, grid_result.best_params_))\n",
    "print(\"Execution time: \" + str((time.time() - start_time)) + ' ms')"
   ]
  },
  {
   "cell_type": "code",
   "execution_count": 3,
   "id": "454ecfb8",
   "metadata": {},
   "outputs": [
    {
     "name": "stderr",
     "output_type": "stream",
     "text": [
      "\u001b[32m[I 2022-05-05 02:31:03,140]\u001b[0m A new study created in memory with name: no-name-021c0e6f-9ca7-4a92-b377-a441314d57c6\u001b[0m\n",
      "\u001b[32m[I 2022-05-05 02:31:13,744]\u001b[0m Trial 0 finished with value: 0.9144735211753006 and parameters: {'classifier': 'RandomForest', 'rf_n_estimators': 394, 'rf_max_depth': 22}. Best is trial 0 with value: 0.9144735211753006.\u001b[0m\n",
      "\u001b[32m[I 2022-05-05 02:31:20,984]\u001b[0m Trial 1 finished with value: 0.8994852236852535 and parameters: {'classifier': 'RandomForest', 'rf_n_estimators': 996, 'rf_max_depth': 2}. Best is trial 0 with value: 0.9144735211753006.\u001b[0m\n",
      "\u001b[32m[I 2022-05-05 02:31:24,413]\u001b[0m Trial 2 finished with value: 0.9004240335966008 and parameters: {'classifier': 'RandomForest', 'rf_n_estimators': 268, 'rf_max_depth': 3}. Best is trial 0 with value: 0.9144735211753006.\u001b[0m\n",
      "\u001b[32m[I 2022-05-05 02:31:39,293]\u001b[0m Trial 3 finished with value: 0.916124493770109 and parameters: {'classifier': 'RandomForest', 'rf_n_estimators': 772, 'rf_max_depth': 13}. Best is trial 3 with value: 0.916124493770109.\u001b[0m\n",
      "\u001b[32m[I 2022-05-05 02:31:40,146]\u001b[0m Trial 4 finished with value: 0.9144411482390751 and parameters: {'classifier': 'RandomForest', 'rf_n_estimators': 35, 'rf_max_depth': 22}. Best is trial 3 with value: 0.916124493770109.\u001b[0m\n",
      "\u001b[32m[I 2022-05-05 02:31:49,452]\u001b[0m Trial 5 finished with value: 0.9157683862324436 and parameters: {'classifier': 'RandomForest', 'rf_n_estimators': 535, 'rf_max_depth': 12}. Best is trial 3 with value: 0.916124493770109.\u001b[0m\n",
      "\u001b[32m[I 2022-05-05 02:31:49,855]\u001b[0m Trial 6 finished with value: 0.9106860972044171 and parameters: {'classifier': 'RandomForest', 'rf_n_estimators': 20, 'rf_max_depth': 7}. Best is trial 3 with value: 0.916124493770109.\u001b[0m\n",
      "\u001b[32m[I 2022-05-05 02:31:52,515]\u001b[0m Trial 7 finished with value: 0.904664778219191 and parameters: {'classifier': 'RandomForest', 'rf_n_estimators': 278, 'rf_max_depth': 5}. Best is trial 3 with value: 0.916124493770109.\u001b[0m\n",
      "\u001b[32m[I 2022-05-05 02:32:10,604]\u001b[0m Trial 8 finished with value: 0.9167719577338023 and parameters: {'classifier': 'RandomForest', 'rf_n_estimators': 958, 'rf_max_depth': 14}. Best is trial 8 with value: 0.9167719577338023.\u001b[0m\n",
      "\u001b[32m[I 2022-05-05 02:32:11,926]\u001b[0m Trial 9 finished with value: 0.9002945313733255 and parameters: {'classifier': 'RandomForest', 'rf_n_estimators': 167, 'rf_max_depth': 3}. Best is trial 8 with value: 0.9167719577338023.\u001b[0m\n",
      "\u001b[32m[I 2022-05-05 02:32:31,618]\u001b[0m Trial 10 finished with value: 0.9147648566445806 and parameters: {'classifier': 'RandomForest', 'rf_n_estimators': 984, 'rf_max_depth': 32}. Best is trial 8 with value: 0.9167719577338023.\u001b[0m\n",
      "\u001b[32m[I 2022-05-05 02:32:43,293]\u001b[0m Trial 11 finished with value: 0.9157684071891914 and parameters: {'classifier': 'RandomForest', 'rf_n_estimators': 760, 'rf_max_depth': 11}. Best is trial 8 with value: 0.9167719577338023.\u001b[0m\n",
      "\u001b[32m[I 2022-05-05 02:32:56,063]\u001b[0m Trial 12 finished with value: 0.9160597478976584 and parameters: {'classifier': 'RandomForest', 'rf_n_estimators': 780, 'rf_max_depth': 12}. Best is trial 8 with value: 0.9167719577338023.\u001b[0m\n",
      "\u001b[32m[I 2022-05-05 02:33:04,663]\u001b[0m Trial 13 finished with value: 0.9105889207646845 and parameters: {'classifier': 'RandomForest', 'rf_n_estimators': 789, 'rf_max_depth': 7}. Best is trial 8 with value: 0.9167719577338023.\u001b[0m\n",
      "\u001b[32m[I 2022-05-05 02:33:16,285]\u001b[0m Trial 14 finished with value: 0.9159302666311309 and parameters: {'classifier': 'RandomForest', 'rf_n_estimators': 621, 'rf_max_depth': 17}. Best is trial 8 with value: 0.9167719577338023.\u001b[0m\n",
      "\u001b[32m[I 2022-05-05 02:33:29,946]\u001b[0m Trial 15 finished with value: 0.9154446935444991 and parameters: {'classifier': 'RandomForest', 'rf_n_estimators': 867, 'rf_max_depth': 10}. Best is trial 8 with value: 0.9167719577338023.\u001b[0m\n",
      "\u001b[32m[I 2022-05-05 02:33:42,464]\u001b[0m Trial 16 finished with value: 0.9155741486150916 and parameters: {'classifier': 'RandomForest', 'rf_n_estimators': 596, 'rf_max_depth': 18}. Best is trial 8 with value: 0.9167719577338023.\u001b[0m\n",
      "\u001b[32m[I 2022-05-05 02:33:50,442]\u001b[0m Trial 17 finished with value: 0.9040497186268448 and parameters: {'classifier': 'RandomForest', 'rf_n_estimators': 876, 'rf_max_depth': 5}. Best is trial 8 with value: 0.9167719577338023.\u001b[0m\n",
      "\u001b[32m[I 2022-05-05 02:34:04,703]\u001b[0m Trial 18 finished with value: 0.9152504192528385 and parameters: {'classifier': 'RandomForest', 'rf_n_estimators': 697, 'rf_max_depth': 28}. Best is trial 8 with value: 0.9167719577338023.\u001b[0m\n",
      "\u001b[32m[I 2022-05-05 02:34:21,982]\u001b[0m Trial 19 finished with value: 0.9164805960685876 and parameters: {'classifier': 'RandomForest', 'rf_n_estimators': 889, 'rf_max_depth': 15}. Best is trial 8 with value: 0.9167719577338023.\u001b[0m\n",
      "\u001b[32m[I 2022-05-05 02:34:34,842]\u001b[0m Trial 20 finished with value: 0.9150239082438135 and parameters: {'classifier': 'RandomForest', 'rf_n_estimators': 904, 'rf_max_depth': 9}. Best is trial 8 with value: 0.9167719577338023.\u001b[0m\n",
      "\u001b[32m[I 2022-05-05 02:34:52,221]\u001b[0m Trial 21 finished with value: 0.9161892134466247 and parameters: {'classifier': 'RandomForest', 'rf_n_estimators': 912, 'rf_max_depth': 15}. Best is trial 8 with value: 0.9167719577338023.\u001b[0m\n",
      "\u001b[32m[I 2022-05-05 02:35:09,598]\u001b[0m Trial 22 finished with value: 0.9155094236993888 and parameters: {'classifier': 'RandomForest', 'rf_n_estimators': 913, 'rf_max_depth': 16}. Best is trial 8 with value: 0.9167719577338023.\u001b[0m\n",
      "\u001b[32m[I 2022-05-05 02:35:22,171]\u001b[0m Trial 23 finished with value: 0.9155417966356142 and parameters: {'classifier': 'RandomForest', 'rf_n_estimators': 663, 'rf_max_depth': 23}. Best is trial 8 with value: 0.9167719577338023.\u001b[0m\n",
      "\u001b[32m[I 2022-05-05 02:35:40,109]\u001b[0m Trial 24 finished with value: 0.9162216230571589 and parameters: {'classifier': 'RandomForest', 'rf_n_estimators': 984, 'rf_max_depth': 15}. Best is trial 8 with value: 0.9167719577338023.\u001b[0m\n",
      "\u001b[32m[I 2022-05-05 02:35:53,181]\u001b[0m Trial 25 finished with value: 0.9141822328587033 and parameters: {'classifier': 'RandomForest', 'rf_n_estimators': 989, 'rf_max_depth': 9}. Best is trial 8 with value: 0.9167719577338023.\u001b[0m\n",
      "\u001b[32m[I 2022-05-05 02:36:01,119]\u001b[0m Trial 26 finished with value: 0.9038879010984008 and parameters: {'classifier': 'RandomForest', 'rf_n_estimators': 858, 'rf_max_depth': 5}. Best is trial 8 with value: 0.9167719577338023.\u001b[0m\n",
      "\u001b[32m[I 2022-05-05 02:36:10,565]\u001b[0m Trial 27 finished with value: 0.915541807113988 and parameters: {'classifier': 'RandomForest', 'rf_n_estimators': 476, 'rf_max_depth': 20}. Best is trial 8 with value: 0.9167719577338023.\u001b[0m\n",
      "\u001b[32m[I 2022-05-05 02:36:19,790]\u001b[0m Trial 28 finished with value: 0.9126930935098996 and parameters: {'classifier': 'RandomForest', 'rf_n_estimators': 715, 'rf_max_depth': 8}. Best is trial 8 with value: 0.9167719577338023.\u001b[0m\n",
      "\u001b[32m[I 2022-05-05 02:36:27,243]\u001b[0m Trial 29 finished with value: 0.9163187523442089 and parameters: {'classifier': 'RandomForest', 'rf_n_estimators': 401, 'rf_max_depth': 15}. Best is trial 8 with value: 0.9167719577338023.\u001b[0m\n",
      "\u001b[32m[I 2022-05-05 02:36:36,017]\u001b[0m Trial 30 finished with value: 0.9161244623349873 and parameters: {'classifier': 'RandomForest', 'rf_n_estimators': 439, 'rf_max_depth': 25}. Best is trial 8 with value: 0.9167719577338023.\u001b[0m\n",
      "\u001b[32m[I 2022-05-05 02:36:42,506]\u001b[0m Trial 31 finished with value: 0.9167071804262298 and parameters: {'classifier': 'RandomForest', 'rf_n_estimators': 341, 'rf_max_depth': 15}. Best is trial 8 with value: 0.9167719577338023.\u001b[0m\n",
      "\u001b[32m[I 2022-05-05 02:36:46,961]\u001b[0m Trial 32 finished with value: 0.9161568509887734 and parameters: {'classifier': 'RandomForest', 'rf_n_estimators': 242, 'rf_max_depth': 14}. Best is trial 8 with value: 0.9167719577338023.\u001b[0m\n",
      "\u001b[32m[I 2022-05-05 02:36:54,651]\u001b[0m Trial 33 finished with value: 0.9155094027426409 and parameters: {'classifier': 'RandomForest', 'rf_n_estimators': 375, 'rf_max_depth': 19}. Best is trial 8 with value: 0.9167719577338023.\u001b[0m\n",
      "\u001b[32m[I 2022-05-05 02:37:01,249]\u001b[0m Trial 34 finished with value: 0.9162863479728616 and parameters: {'classifier': 'RandomForest', 'rf_n_estimators': 358, 'rf_max_depth': 13}. Best is trial 8 with value: 0.9167719577338023.\u001b[0m\n",
      "\u001b[32m[I 2022-05-05 02:37:03,222]\u001b[0m Trial 35 finished with value: 0.8995176018606659 and parameters: {'classifier': 'RandomForest', 'rf_n_estimators': 328, 'rf_max_depth': 2}. Best is trial 8 with value: 0.9167719577338023.\u001b[0m\n"
     ]
    },
    {
     "name": "stderr",
     "output_type": "stream",
     "text": [
      "\u001b[32m[I 2022-05-05 02:37:10,663]\u001b[0m Trial 36 finished with value: 0.91544470926206 and parameters: {'classifier': 'RandomForest', 'rf_n_estimators': 518, 'rf_max_depth': 10}. Best is trial 8 with value: 0.9167719577338023.\u001b[0m\n",
      "\u001b[32m[I 2022-05-05 02:37:14,388]\u001b[0m Trial 37 finished with value: 0.9152828183849986 and parameters: {'classifier': 'RandomForest', 'rf_n_estimators': 195, 'rf_max_depth': 21}. Best is trial 8 with value: 0.9167719577338023.\u001b[0m\n",
      "\u001b[32m[I 2022-05-05 02:37:18,757]\u001b[0m Trial 38 finished with value: 0.907481150322176 and parameters: {'classifier': 'RandomForest', 'rf_n_estimators': 432, 'rf_max_depth': 6}. Best is trial 8 with value: 0.9167719577338023.\u001b[0m\n",
      "\u001b[32m[I 2022-05-05 02:37:21,251]\u001b[0m Trial 39 finished with value: 0.9151857834033139 and parameters: {'classifier': 'RandomForest', 'rf_n_estimators': 116, 'rf_max_depth': 29}. Best is trial 8 with value: 0.9167719577338023.\u001b[0m\n",
      "\u001b[32m[I 2022-05-05 02:37:27,081]\u001b[0m Trial 40 finished with value: 0.9149267160865202 and parameters: {'classifier': 'RandomForest', 'rf_n_estimators': 302, 'rf_max_depth': 25}. Best is trial 8 with value: 0.9167719577338023.\u001b[0m\n",
      "\u001b[32m[I 2022-05-05 02:37:33,302]\u001b[0m Trial 41 finished with value: 0.9160921313122575 and parameters: {'classifier': 'RandomForest', 'rf_n_estimators': 354, 'rf_max_depth': 13}. Best is trial 8 with value: 0.9167719577338023.\u001b[0m\n",
      "\u001b[32m[I 2022-05-05 02:37:40,070]\u001b[0m Trial 42 finished with value: 0.9160597688544062 and parameters: {'classifier': 'RandomForest', 'rf_n_estimators': 401, 'rf_max_depth': 13}. Best is trial 8 with value: 0.9167719577338023.\u001b[0m\n",
      "\u001b[32m[I 2022-05-05 02:37:48,577]\u001b[0m Trial 43 finished with value: 0.9158007906037906 and parameters: {'classifier': 'RandomForest', 'rf_n_estimators': 564, 'rf_max_depth': 11}. Best is trial 8 with value: 0.9167719577338023.\u001b[0m\n",
      "\u001b[32m[I 2022-05-05 02:37:53,268]\u001b[0m Trial 44 finished with value: 0.9154123415650217 and parameters: {'classifier': 'RandomForest', 'rf_n_estimators': 244, 'rf_max_depth': 18}. Best is trial 8 with value: 0.9167719577338023.\u001b[0m\n",
      "\u001b[32m[I 2022-05-05 02:38:01,056]\u001b[0m Trial 45 finished with value: 0.9162539959933842 and parameters: {'classifier': 'RandomForest', 'rf_n_estimators': 480, 'rf_max_depth': 12}. Best is trial 8 with value: 0.9167719577338023.\u001b[0m\n",
      "\u001b[32m[I 2022-05-05 02:38:08,493]\u001b[0m Trial 46 finished with value: 0.9158331425832682 and parameters: {'classifier': 'RandomForest', 'rf_n_estimators': 408, 'rf_max_depth': 16}. Best is trial 8 with value: 0.9167719577338023.\u001b[0m\n",
      "\u001b[32m[I 2022-05-05 02:38:12,558]\u001b[0m Trial 47 finished with value: 0.9130492010475649 and parameters: {'classifier': 'RandomForest', 'rf_n_estimators': 328, 'rf_max_depth': 8}. Best is trial 8 with value: 0.9167719577338023.\u001b[0m\n",
      "\u001b[32m[I 2022-05-05 02:38:14,865]\u001b[0m Trial 48 finished with value: 0.916092078920388 and parameters: {'classifier': 'RandomForest', 'rf_n_estimators': 128, 'rf_max_depth': 14}. Best is trial 8 with value: 0.9167719577338023.\u001b[0m\n",
      "\u001b[32m[I 2022-05-05 02:38:28,009]\u001b[0m Trial 49 finished with value: 0.9164482074148012 and parameters: {'classifier': 'RandomForest', 'rf_n_estimators': 812, 'rf_max_depth': 12}. Best is trial 8 with value: 0.9167719577338023.\u001b[0m\n",
      "\u001b[32m[I 2022-05-05 02:38:40,933]\u001b[0m Trial 50 finished with value: 0.9157684438635 and parameters: {'classifier': 'RandomForest', 'rf_n_estimators': 806, 'rf_max_depth': 11}. Best is trial 8 with value: 0.9167719577338023.\u001b[0m\n",
      "\u001b[32m[I 2022-05-05 02:38:54,833]\u001b[0m Trial 51 finished with value: 0.9161244832917351 and parameters: {'classifier': 'RandomForest', 'rf_n_estimators': 840, 'rf_max_depth': 13}. Best is trial 8 with value: 0.9167719577338023.\u001b[0m\n",
      "\u001b[32m[I 2022-05-05 02:39:12,978]\u001b[0m Trial 52 finished with value: 0.9159950229819556 and parameters: {'classifier': 'RandomForest', 'rf_n_estimators': 950, 'rf_max_depth': 18}. Best is trial 8 with value: 0.9167719577338023.\u001b[0m\n",
      "\u001b[32m[I 2022-05-05 02:39:26,555]\u001b[0m Trial 53 finished with value: 0.9153799476720484 and parameters: {'classifier': 'RandomForest', 'rf_n_estimators': 940, 'rf_max_depth': 10}. Best is trial 8 with value: 0.9167719577338023.\u001b[0m\n",
      "\u001b[32m[I 2022-05-05 02:39:31,954]\u001b[0m Trial 54 finished with value: 0.9152504402095862 and parameters: {'classifier': 'RandomForest', 'rf_n_estimators': 268, 'rf_max_depth': 15}. Best is trial 8 with value: 0.9167719577338023.\u001b[0m\n",
      "\u001b[32m[I 2022-05-05 02:39:47,867]\u001b[0m Trial 55 finished with value: 0.9153475642574491 and parameters: {'classifier': 'RandomForest', 'rf_n_estimators': 808, 'rf_max_depth': 21}. Best is trial 8 with value: 0.9167719577338023.\u001b[0m\n",
      "\u001b[32m[I 2022-05-05 02:39:52,741]\u001b[0m Trial 56 finished with value: 0.9005535253415019 and parameters: {'classifier': 'RandomForest', 'rf_n_estimators': 738, 'rf_max_depth': 3}. Best is trial 8 with value: 0.9167719577338023.\u001b[0m\n",
      "\u001b[32m[I 2022-05-05 02:40:04,736]\u001b[0m Trial 57 finished with value: 0.916027390678994 and parameters: {'classifier': 'RandomForest', 'rf_n_estimators': 631, 'rf_max_depth': 17}. Best is trial 8 with value: 0.9167719577338023.\u001b[0m\n",
      "\u001b[32m[I 2022-05-05 02:40:08,271]\u001b[0m Trial 58 finished with value: 0.9034670372099107 and parameters: {'classifier': 'RandomForest', 'rf_n_estimators': 462, 'rf_max_depth': 4}. Best is trial 8 with value: 0.9167719577338023.\u001b[0m\n",
      "\u001b[32m[I 2022-05-05 02:40:20,915]\u001b[0m Trial 59 finished with value: 0.9143117036468567 and parameters: {'classifier': 'RandomForest', 'rf_n_estimators': 960, 'rf_max_depth': 9}. Best is trial 8 with value: 0.9167719577338023.\u001b[0m\n",
      "\u001b[32m[I 2022-05-05 02:40:30,225]\u001b[0m Trial 60 finished with value: 0.9161245304444178 and parameters: {'classifier': 'RandomForest', 'rf_n_estimators': 543, 'rf_max_depth': 12}. Best is trial 8 with value: 0.9167719577338023.\u001b[0m\n",
      "\u001b[32m[I 2022-05-05 02:40:38,537]\u001b[0m Trial 61 finished with value: 0.9164158135218281 and parameters: {'classifier': 'RandomForest', 'rf_n_estimators': 513, 'rf_max_depth': 12}. Best is trial 8 with value: 0.9167719577338023.\u001b[0m\n",
      "\u001b[32m[I 2022-05-05 02:40:45,175]\u001b[0m Trial 62 finished with value: 0.9164158501961367 and parameters: {'classifier': 'RandomForest', 'rf_n_estimators': 363, 'rf_max_depth': 16}. Best is trial 8 with value: 0.9167719577338023.\u001b[0m\n",
      "\u001b[32m[I 2022-05-05 02:40:51,065]\u001b[0m Trial 63 finished with value: 0.9154123258474607 and parameters: {'classifier': 'RandomForest', 'rf_n_estimators': 307, 'rf_max_depth': 16}. Best is trial 8 with value: 0.9167719577338023.\u001b[0m\n",
      "\u001b[32m[I 2022-05-05 02:41:05,486]\u001b[0m Trial 64 finished with value: 0.9158655312370543 and parameters: {'classifier': 'RandomForest', 'rf_n_estimators': 905, 'rf_max_depth': 11}. Best is trial 8 with value: 0.9167719577338023.\u001b[0m\n",
      "\u001b[32m[I 2022-05-05 02:41:21,693]\u001b[0m Trial 65 finished with value: 0.9153799424328615 and parameters: {'classifier': 'RandomForest', 'rf_n_estimators': 845, 'rf_max_depth': 24}. Best is trial 8 with value: 0.9167719577338023.\u001b[0m\n",
      "\u001b[32m[I 2022-05-05 02:41:33,685]\u001b[0m Trial 66 finished with value: 0.9159950334603295 and parameters: {'classifier': 'RandomForest', 'rf_n_estimators': 681, 'rf_max_depth': 14}. Best is trial 8 with value: 0.9167719577338023.\u001b[0m\n",
      "\u001b[32m[I 2022-05-05 02:41:52,344]\u001b[0m Trial 67 finished with value: 0.9162863479728618 and parameters: {'classifier': 'RandomForest', 'rf_n_estimators': 999, 'rf_max_depth': 17}. Best is trial 8 with value: 0.9167719577338023.\u001b[0m\n",
      "\u001b[32m[I 2022-05-05 02:42:02,879]\u001b[0m Trial 68 finished with value: 0.9122075518583894 and parameters: {'classifier': 'RandomForest', 'rf_n_estimators': 882, 'rf_max_depth': 8}. Best is trial 8 with value: 0.9167719577338023.\u001b[0m\n",
      "\u001b[32m[I 2022-05-05 02:42:07,306]\u001b[0m Trial 69 finished with value: 0.9158979565651493 and parameters: {'classifier': 'RandomForest', 'rf_n_estimators': 198, 'rf_max_depth': 19}. Best is trial 8 with value: 0.9167719577338023.\u001b[0m\n",
      "\u001b[32m[I 2022-05-05 02:42:21,733]\u001b[0m Trial 70 finished with value: 0.9159626186106085 and parameters: {'classifier': 'RandomForest', 'rf_n_estimators': 756, 'rf_max_depth': 15}. Best is trial 8 with value: 0.9167719577338023.\u001b[0m\n",
      "\u001b[32m[I 2022-05-05 02:42:39,314]\u001b[0m Trial 71 finished with value: 0.9158978779773449 and parameters: {'classifier': 'RandomForest', 'rf_n_estimators': 930, 'rf_max_depth': 17}. Best is trial 8 with value: 0.9167719577338023.\u001b[0m\n"
     ]
    },
    {
     "name": "stderr",
     "output_type": "stream",
     "text": [
      "\u001b[32m[I 2022-05-05 02:42:56,576]\u001b[0m Trial 72 finished with value: 0.9164482178931752 and parameters: {'classifier': 'RandomForest', 'rf_n_estimators': 990, 'rf_max_depth': 12}. Best is trial 8 with value: 0.9167719577338023.\u001b[0m\n",
      "\u001b[32m[I 2022-05-05 02:43:09,999]\u001b[0m Trial 73 finished with value: 0.9155094551345107 and parameters: {'classifier': 'RandomForest', 'rf_n_estimators': 963, 'rf_max_depth': 10}. Best is trial 8 with value: 0.9167719577338023.\u001b[0m\n",
      "\u001b[32m[I 2022-05-05 02:43:16,291]\u001b[0m Trial 74 finished with value: 0.9154770717199113 and parameters: {'classifier': 'RandomForest', 'rf_n_estimators': 380, 'rf_max_depth': 12}. Best is trial 8 with value: 0.9167719577338023.\u001b[0m\n",
      "\u001b[32m[I 2022-05-05 02:43:31,329]\u001b[0m Trial 75 finished with value: 0.9159949758292729 and parameters: {'classifier': 'RandomForest', 'rf_n_estimators': 889, 'rf_max_depth': 14}. Best is trial 8 with value: 0.9167719577338023.\u001b[0m\n",
      "\u001b[32m[I 2022-05-05 02:43:37,006]\u001b[0m Trial 76 finished with value: 0.9142470049270888 and parameters: {'classifier': 'RandomForest', 'rf_n_estimators': 432, 'rf_max_depth': 9}. Best is trial 8 with value: 0.9167719577338023.\u001b[0m\n",
      "\u001b[32m[I 2022-05-05 02:43:55,272]\u001b[0m Trial 77 finished with value: 0.9152504664055211 and parameters: {'classifier': 'RandomForest', 'rf_n_estimators': 967, 'rf_max_depth': 22}. Best is trial 8 with value: 0.9167719577338023.\u001b[0m\n",
      "\u001b[32m[I 2022-05-05 02:44:03,287]\u001b[0m Trial 78 finished with value: 0.9157683600365087 and parameters: {'classifier': 'RandomForest', 'rf_n_estimators': 498, 'rf_max_depth': 11}. Best is trial 8 with value: 0.9167719577338023.\u001b[0m\n",
      "\u001b[32m[I 2022-05-05 02:44:09,859]\u001b[0m Trial 79 finished with value: 0.915315191321224 and parameters: {'classifier': 'RandomForest', 'rf_n_estimators': 358, 'rf_max_depth': 20}. Best is trial 8 with value: 0.9167719577338023.\u001b[0m\n",
      "\u001b[32m[I 2022-05-05 02:44:26,916]\u001b[0m Trial 80 finished with value: 0.916027369722246 and parameters: {'classifier': 'RandomForest', 'rf_n_estimators': 917, 'rf_max_depth': 15}. Best is trial 8 with value: 0.9167719577338023.\u001b[0m\n",
      "\u001b[32m[I 2022-05-05 02:44:47,105]\u001b[0m Trial 81 finished with value: 0.9154770298064158 and parameters: {'classifier': 'RandomForest', 'rf_n_estimators': 991, 'rf_max_depth': 17}. Best is trial 8 with value: 0.9167719577338023.\u001b[0m\n",
      "\u001b[32m[I 2022-05-05 02:45:04,883]\u001b[0m Trial 82 finished with value: 0.9166748284467523 and parameters: {'classifier': 'RandomForest', 'rf_n_estimators': 1000, 'rf_max_depth': 13}. Best is trial 8 with value: 0.9167719577338023.\u001b[0m\n",
      "\u001b[32m[I 2022-05-05 02:45:19,411]\u001b[0m Trial 83 finished with value: 0.916642465988901 and parameters: {'classifier': 'RandomForest', 'rf_n_estimators': 827, 'rf_max_depth': 13}. Best is trial 8 with value: 0.9167719577338023.\u001b[0m\n",
      "\u001b[32m[I 2022-05-05 02:45:34,339]\u001b[0m Trial 84 finished with value: 0.9166748179683786 and parameters: {'classifier': 'RandomForest', 'rf_n_estimators': 861, 'rf_max_depth': 12}. Best is trial 8 with value: 0.9167719577338023.\u001b[0m\n",
      "\u001b[32m[I 2022-05-05 02:45:48,355]\u001b[0m Trial 85 finished with value: 0.9163511043236863 and parameters: {'classifier': 'RandomForest', 'rf_n_estimators': 839, 'rf_max_depth': 13}. Best is trial 8 with value: 0.9167719577338023.\u001b[0m\n",
      "\u001b[32m[I 2022-05-05 02:46:03,436]\u001b[0m Trial 86 finished with value: 0.9158655207586802 and parameters: {'classifier': 'RandomForest', 'rf_n_estimators': 932, 'rf_max_depth': 12}. Best is trial 8 with value: 0.9167719577338023.\u001b[0m\n",
      "\u001b[32m[I 2022-05-05 02:46:17,470]\u001b[0m Trial 87 finished with value: 0.9162863689296096 and parameters: {'classifier': 'RandomForest', 'rf_n_estimators': 816, 'rf_max_depth': 14}. Best is trial 8 with value: 0.9167719577338023.\u001b[0m\n",
      "\u001b[32m[I 2022-05-05 02:46:33,297]\u001b[0m Trial 88 finished with value: 0.9164482598066709 and parameters: {'classifier': 'RandomForest', 'rf_n_estimators': 863, 'rf_max_depth': 16}. Best is trial 8 with value: 0.9167719577338023.\u001b[0m\n",
      "\u001b[32m[I 2022-05-05 02:46:48,160]\u001b[0m Trial 89 finished with value: 0.9157036822734886 and parameters: {'classifier': 'RandomForest', 'rf_n_estimators': 780, 'rf_max_depth': 19}. Best is trial 8 with value: 0.9167719577338023.\u001b[0m\n",
      "\u001b[32m[I 2022-05-05 02:47:00,658]\u001b[0m Trial 90 finished with value: 0.9159950282211426 and parameters: {'classifier': 'RandomForest', 'rf_n_estimators': 858, 'rf_max_depth': 10}. Best is trial 8 with value: 0.9167719577338023.\u001b[0m\n",
      "\u001b[32m[I 2022-05-05 02:47:18,100]\u001b[0m Trial 91 finished with value: 0.9160597845719671 and parameters: {'classifier': 'RandomForest', 'rf_n_estimators': 895, 'rf_max_depth': 16}. Best is trial 8 with value: 0.9167719577338023.\u001b[0m\n",
      "\u001b[32m[I 2022-05-05 02:47:32,986]\u001b[0m Trial 92 finished with value: 0.9159626395673562 and parameters: {'classifier': 'RandomForest', 'rf_n_estimators': 869, 'rf_max_depth': 13}. Best is trial 8 with value: 0.9167719577338023.\u001b[0m\n",
      "\u001b[32m[I 2022-05-05 02:47:50,636]\u001b[0m Trial 93 finished with value: 0.9163511095628731 and parameters: {'classifier': 'RandomForest', 'rf_n_estimators': 972, 'rf_max_depth': 16}. Best is trial 8 with value: 0.9167719577338023.\u001b[0m\n",
      "\u001b[32m[I 2022-05-05 02:48:04,647]\u001b[0m Trial 94 finished with value: 0.9161892344033726 and parameters: {'classifier': 'RandomForest', 'rf_n_estimators': 825, 'rf_max_depth': 14}. Best is trial 8 with value: 0.9167719577338023.\u001b[0m\n",
      "\u001b[32m[I 2022-05-05 02:48:14,061]\u001b[0m Trial 95 finished with value: 0.9072221930283082 and parameters: {'classifier': 'RandomForest', 'rf_n_estimators': 929, 'rf_max_depth': 6}. Best is trial 8 with value: 0.9167719577338023.\u001b[0m\n",
      "\u001b[32m[I 2022-05-05 02:48:30,906]\u001b[0m Trial 96 finished with value: 0.9163510728885644 and parameters: {'classifier': 'RandomForest', 'rf_n_estimators': 946, 'rf_max_depth': 15}. Best is trial 8 with value: 0.9167719577338023.\u001b[0m\n",
      "\u001b[32m[I 2022-05-05 02:48:41,010]\u001b[0m Trial 97 finished with value: 0.9146353963348011 and parameters: {'classifier': 'RandomForest', 'rf_n_estimators': 743, 'rf_max_depth': 9}. Best is trial 8 with value: 0.9167719577338023.\u001b[0m\n",
      "\u001b[32m[I 2022-05-05 02:48:54,879]\u001b[0m Trial 98 finished with value: 0.9161892396425596 and parameters: {'classifier': 'RandomForest', 'rf_n_estimators': 789, 'rf_max_depth': 13}. Best is trial 8 with value: 0.9167719577338023.\u001b[0m\n",
      "\u001b[32m[I 2022-05-05 02:49:10,807]\u001b[0m Trial 99 finished with value: 0.9155417704396793 and parameters: {'classifier': 'RandomForest', 'rf_n_estimators': 1000, 'rf_max_depth': 11}. Best is trial 8 with value: 0.9167719577338023.\u001b[0m\n"
     ]
    }
   ],
   "source": [
    "import optuna\n",
    "import pandas as pd\n",
    "from sklearn import linear_model\n",
    "from sklearn import ensemble\n",
    "from sklearn import model_selection\n",
    "\n",
    "\n",
    "\n",
    "#Step 1. Define an objective function to be maximized.\n",
    "def objective(trial):\n",
    "\n",
    "    classifier_name = trial.suggest_categorical(\"classifier\", [\"RandomForest\"])\n",
    "    \n",
    "    # Step 2. Setup values for the hyperparameters:\n",
    "    if classifier_name == 'LogReg':\n",
    "        logreg_c = trial.suggest_float(\"logreg_c\", 1e-10, 1e10, log=True)\n",
    "        classifier_obj = linear_model.LogisticRegression(C=logreg_c)\n",
    "    else:\n",
    "        rf_n_estimators = trial.suggest_int(\"rf_n_estimators\", 10, 1000)\n",
    "        rf_max_depth = trial.suggest_int(\"rf_max_depth\", 2, 32, log=True)\n",
    "        classifier_obj = ensemble.RandomForestClassifier(\n",
    "            max_depth=rf_max_depth, n_estimators=rf_n_estimators\n",
    "        )\n",
    "\n",
    "    # Step 3: Scoring method:\n",
    "    score = model_selection.cross_val_score(classifier_obj, X, y, n_jobs=-1, cv=5)\n",
    "    accuracy = score.mean()\n",
    "    return accuracy\n",
    "\n",
    "# Step 4: Running it\n",
    "study = optuna.create_study(direction=\"maximize\")\n",
    "study.optimize(objective, n_trials=100)"
   ]
  },
  {
   "cell_type": "code",
   "execution_count": 4,
   "id": "7882ac38",
   "metadata": {},
   "outputs": [
    {
     "name": "stdout",
     "output_type": "stream",
     "text": [
      "The best trial is : \n",
      "FrozenTrial(number=8, values=[0.9167719577338023], datetime_start=datetime.datetime(2022, 5, 5, 2, 31, 52, 516506), datetime_complete=datetime.datetime(2022, 5, 5, 2, 32, 10, 604506), params={'classifier': 'RandomForest', 'rf_n_estimators': 958, 'rf_max_depth': 14}, distributions={'classifier': CategoricalDistribution(choices=('RandomForest',)), 'rf_n_estimators': IntUniformDistribution(high=1000, low=10, step=1), 'rf_max_depth': IntLogUniformDistribution(high=32, low=2, step=1)}, user_attrs={}, system_attrs={}, intermediate_values={}, trial_id=8, state=TrialState.COMPLETE, value=None)\n",
      "The best value is : \n",
      "0.9167719577338023\n",
      "The best parameters are : \n",
      "{'classifier': 'RandomForest', 'rf_n_estimators': 958, 'rf_max_depth': 14}\n"
     ]
    }
   ],
   "source": [
    "\n",
    "print(f\"The best trial is : \\n{study.best_trial}\")\n",
    "print(f\"The best value is : \\n{study.best_value}\")\n",
    "print(f\"The best parameters are : \\n{study.best_params}\")"
   ]
  },
  {
   "cell_type": "code",
   "execution_count": 13,
   "id": "da0307bf",
   "metadata": {},
   "outputs": [
    {
     "data": {
      "application/javascript": [
       "\n",
       "        if (window._pyforest_update_imports_cell) { window._pyforest_update_imports_cell('from sklearn.ensemble import RandomForestClassifier\\nfrom sklearn.model_selection import StratifiedKFold'); }\n",
       "    "
      ],
      "text/plain": [
       "<IPython.core.display.Javascript object>"
      ]
     },
     "metadata": {},
     "output_type": "display_data"
    },
    {
     "name": "stderr",
     "output_type": "stream",
     "text": [
      "\u001b[32m[I 2022-05-05 10:24:28,619]\u001b[0m A new study created in memory with name: no-name-ded9df66-b6fb-4035-910d-f7fa5c11b6a1\u001b[0m\n",
      "\u001b[32m[I 2022-05-05 10:24:48,025]\u001b[0m Trial 0 finished with value: 0.9073841205796782 and parameters: {'classifier': 'KNN', 'n_neighbors': 12, 'leaf_size': 43}. Best is trial 0 with value: 0.9073841205796782.\u001b[0m\n",
      "\u001b[32m[I 2022-05-05 10:25:05,058]\u001b[0m Trial 1 finished with value: 0.9070604331309209 and parameters: {'classifier': 'KNN', 'n_neighbors': 11, 'leaf_size': 31}. Best is trial 0 with value: 0.9073841205796782.\u001b[0m\n",
      "\u001b[32m[I 2022-05-05 10:25:21,568]\u001b[0m Trial 2 finished with value: 0.9075783843929649 and parameters: {'classifier': 'KNN', 'n_neighbors': 14, 'leaf_size': 37}. Best is trial 2 with value: 0.9075783843929649.\u001b[0m\n",
      "\u001b[32m[I 2022-05-05 10:25:21,770]\u001b[0m Trial 3 finished with value: 0.8873458284100257 and parameters: {'classifier': 'LogReg', 'logreg_c': 1.611286733517226e-09, 'penalty': 'l1'}. Best is trial 2 with value: 0.9075783843929649.\u001b[0m\n",
      "\u001b[32m[I 2022-05-05 10:25:38,366]\u001b[0m Trial 4 finished with value: 0.9062187263106887 and parameters: {'classifier': 'KNN', 'n_neighbors': 7, 'leaf_size': 33}. Best is trial 2 with value: 0.9075783843929649.\u001b[0m\n",
      "\u001b[32m[I 2022-05-05 10:25:40,095]\u001b[0m Trial 5 pruned. \u001b[0m\n",
      "\u001b[32m[I 2022-05-05 10:25:57,673]\u001b[0m Trial 6 pruned. \u001b[0m\n",
      "\u001b[32m[I 2022-05-05 10:25:59,968]\u001b[0m Trial 7 pruned. \u001b[0m\n",
      "\u001b[32m[I 2022-05-05 10:26:16,896]\u001b[0m Trial 8 finished with value: 0.9084524379534876 and parameters: {'classifier': 'KNN', 'n_neighbors': 13, 'leaf_size': 37}. Best is trial 8 with value: 0.9084524379534876.\u001b[0m\n",
      "\u001b[32m[I 2022-05-05 10:26:33,452]\u001b[0m Trial 9 pruned. \u001b[0m\n",
      "\u001b[32m[I 2022-05-05 10:26:48,997]\u001b[0m Trial 10 finished with value: 0.9087761673157407 and parameters: {'classifier': 'KNN', 'n_neighbors': 15, 'leaf_size': 39}. Best is trial 10 with value: 0.9087761673157407.\u001b[0m\n",
      "\u001b[32m[I 2022-05-05 10:27:04,357]\u001b[0m Trial 11 finished with value: 0.9087761673157407 and parameters: {'classifier': 'KNN', 'n_neighbors': 15, 'leaf_size': 39}. Best is trial 10 with value: 0.9087761673157407.\u001b[0m\n",
      "\u001b[32m[I 2022-05-05 10:27:21,275]\u001b[0m Trial 12 finished with value: 0.9087761673157407 and parameters: {'classifier': 'KNN', 'n_neighbors': 15, 'leaf_size': 42}. Best is trial 10 with value: 0.9087761673157407.\u001b[0m\n",
      "\u001b[32m[I 2022-05-05 10:27:39,462]\u001b[0m Trial 13 finished with value: 0.9087761673157407 and parameters: {'classifier': 'KNN', 'n_neighbors': 15, 'leaf_size': 40}. Best is trial 10 with value: 0.9087761673157407.\u001b[0m\n",
      "\u001b[32m[I 2022-05-05 10:27:56,186]\u001b[0m Trial 14 pruned. \u001b[0m\n",
      "\u001b[32m[I 2022-05-05 10:27:57,916]\u001b[0m Trial 15 pruned. \u001b[0m\n",
      "\u001b[32m[I 2022-05-05 10:28:13,791]\u001b[0m Trial 16 pruned. \u001b[0m\n",
      "\u001b[32m[I 2022-05-05 10:28:32,541]\u001b[0m Trial 17 pruned. \u001b[0m\n",
      "\u001b[32m[I 2022-05-05 10:28:34,654]\u001b[0m Trial 18 pruned. \u001b[0m\n",
      "\u001b[32m[I 2022-05-05 10:28:51,955]\u001b[0m Trial 19 finished with value: 0.9084524379534876 and parameters: {'classifier': 'KNN', 'n_neighbors': 13, 'leaf_size': 41}. Best is trial 10 with value: 0.9087761673157407.\u001b[0m\n",
      "\u001b[32m[I 2022-05-05 10:29:07,790]\u001b[0m Trial 20 finished with value: 0.9087761673157407 and parameters: {'classifier': 'KNN', 'n_neighbors': 15, 'leaf_size': 41}. Best is trial 10 with value: 0.9087761673157407.\u001b[0m\n",
      "\u001b[32m[I 2022-05-05 10:29:23,525]\u001b[0m Trial 21 finished with value: 0.9087761673157407 and parameters: {'classifier': 'KNN', 'n_neighbors': 15, 'leaf_size': 39}. Best is trial 10 with value: 0.9087761673157407.\u001b[0m\n",
      "\u001b[32m[I 2022-05-05 10:29:39,608]\u001b[0m Trial 22 finished with value: 0.9084524379534876 and parameters: {'classifier': 'KNN', 'n_neighbors': 13, 'leaf_size': 41}. Best is trial 10 with value: 0.9087761673157407.\u001b[0m\n",
      "\u001b[32m[I 2022-05-05 10:29:56,549]\u001b[0m Trial 23 finished with value: 0.9087761673157407 and parameters: {'classifier': 'KNN', 'n_neighbors': 15, 'leaf_size': 36}. Best is trial 10 with value: 0.9087761673157407.\u001b[0m\n",
      "\u001b[32m[I 2022-05-05 10:30:13,330]\u001b[0m Trial 24 pruned. \u001b[0m\n",
      "\u001b[32m[I 2022-05-05 10:30:29,901]\u001b[0m Trial 25 pruned. \u001b[0m\n",
      "\u001b[32m[I 2022-05-05 10:30:32,159]\u001b[0m Trial 26 pruned. \u001b[0m\n",
      "\u001b[32m[I 2022-05-05 10:30:47,957]\u001b[0m Trial 27 pruned. \u001b[0m\n",
      "\u001b[32m[I 2022-05-05 10:31:03,515]\u001b[0m Trial 28 pruned. \u001b[0m\n",
      "\u001b[32m[I 2022-05-05 10:31:18,876]\u001b[0m Trial 29 pruned. \u001b[0m\n",
      "\u001b[32m[I 2022-05-05 10:31:34,295]\u001b[0m Trial 30 pruned. \u001b[0m\n",
      "\u001b[32m[I 2022-05-05 10:31:49,530]\u001b[0m Trial 31 finished with value: 0.9087761673157407 and parameters: {'classifier': 'KNN', 'n_neighbors': 15, 'leaf_size': 40}. Best is trial 10 with value: 0.9087761673157407.\u001b[0m\n",
      "\u001b[32m[I 2022-05-05 10:32:04,988]\u001b[0m Trial 32 pruned. \u001b[0m\n",
      "\u001b[32m[I 2022-05-05 10:32:22,187]\u001b[0m Trial 33 finished with value: 0.9087761673157407 and parameters: {'classifier': 'KNN', 'n_neighbors': 15, 'leaf_size': 41}. Best is trial 10 with value: 0.9087761673157407.\u001b[0m\n",
      "\u001b[32m[I 2022-05-05 10:32:38,892]\u001b[0m Trial 34 pruned. \u001b[0m\n",
      "\u001b[32m[I 2022-05-05 10:32:56,616]\u001b[0m Trial 35 pruned. \u001b[0m\n",
      "\u001b[32m[I 2022-05-05 10:33:13,725]\u001b[0m Trial 36 pruned. \u001b[0m\n",
      "\u001b[32m[I 2022-05-05 10:33:16,015]\u001b[0m Trial 37 pruned. \u001b[0m\n",
      "\u001b[32m[I 2022-05-05 10:33:33,526]\u001b[0m Trial 38 finished with value: 0.9087761673157407 and parameters: {'classifier': 'KNN', 'n_neighbors': 15, 'leaf_size': 44}. Best is trial 10 with value: 0.9087761673157407.\u001b[0m\n",
      "\u001b[32m[I 2022-05-05 10:33:51,132]\u001b[0m Trial 39 pruned. \u001b[0m\n",
      "\u001b[32m[I 2022-05-05 10:33:52,950]\u001b[0m Trial 40 pruned. \u001b[0m\n",
      "\u001b[32m[I 2022-05-05 10:34:09,781]\u001b[0m Trial 41 finished with value: 0.9087761673157407 and parameters: {'classifier': 'KNN', 'n_neighbors': 15, 'leaf_size': 41}. Best is trial 10 with value: 0.9087761673157407.\u001b[0m\n",
      "\u001b[32m[I 2022-05-05 10:34:27,656]\u001b[0m Trial 42 pruned. \u001b[0m\n",
      "\u001b[32m[I 2022-05-05 10:34:43,768]\u001b[0m Trial 43 finished with value: 0.9087761673157407 and parameters: {'classifier': 'KNN', 'n_neighbors': 15, 'leaf_size': 40}. Best is trial 10 with value: 0.9087761673157407.\u001b[0m\n",
      "\u001b[32m[I 2022-05-05 10:35:00,566]\u001b[0m Trial 44 pruned. \u001b[0m\n",
      "\u001b[32m[I 2022-05-05 10:35:18,864]\u001b[0m Trial 45 pruned. \u001b[0m\n",
      "\u001b[32m[I 2022-05-05 10:35:37,502]\u001b[0m Trial 46 pruned. \u001b[0m\n",
      "\u001b[32m[I 2022-05-05 10:35:55,784]\u001b[0m Trial 47 pruned. \u001b[0m\n",
      "\u001b[32m[I 2022-05-05 10:36:14,086]\u001b[0m Trial 48 finished with value: 0.9087761673157407 and parameters: {'classifier': 'KNN', 'n_neighbors': 15, 'leaf_size': 36}. Best is trial 10 with value: 0.9087761673157407.\u001b[0m\n",
      "\u001b[32m[I 2022-05-05 10:36:33,336]\u001b[0m Trial 49 pruned. \u001b[0m\n",
      "\u001b[32m[I 2022-05-05 10:36:33,796]\u001b[0m Trial 50 pruned. \u001b[0m\n",
      "\u001b[32m[I 2022-05-05 10:36:52,885]\u001b[0m Trial 51 finished with value: 0.9087761673157407 and parameters: {'classifier': 'KNN', 'n_neighbors': 15, 'leaf_size': 37}. Best is trial 10 with value: 0.9087761673157407.\u001b[0m\n",
      "\u001b[32m[I 2022-05-05 10:37:11,391]\u001b[0m Trial 52 finished with value: 0.9087761673157407 and parameters: {'classifier': 'KNN', 'n_neighbors': 15, 'leaf_size': 37}. Best is trial 10 with value: 0.9087761673157407.\u001b[0m\n",
      "\u001b[32m[I 2022-05-05 10:37:30,356]\u001b[0m Trial 53 pruned. \u001b[0m\n",
      "\u001b[32m[I 2022-05-05 10:37:48,131]\u001b[0m Trial 54 finished with value: 0.9087761673157407 and parameters: {'classifier': 'KNN', 'n_neighbors': 15, 'leaf_size': 40}. Best is trial 10 with value: 0.9087761673157407.\u001b[0m\n",
      "\u001b[32m[I 2022-05-05 10:38:06,222]\u001b[0m Trial 55 pruned. \u001b[0m\n",
      "\u001b[32m[I 2022-05-05 10:38:23,589]\u001b[0m Trial 56 pruned. \u001b[0m\n",
      "\u001b[32m[I 2022-05-05 10:38:41,817]\u001b[0m Trial 57 finished with value: 0.9087761673157407 and parameters: {'classifier': 'KNN', 'n_neighbors': 15, 'leaf_size': 36}. Best is trial 10 with value: 0.9087761673157407.\u001b[0m\n",
      "\u001b[32m[I 2022-05-05 10:39:00,697]\u001b[0m Trial 58 pruned. \u001b[0m\n",
      "\u001b[32m[I 2022-05-05 10:39:02,962]\u001b[0m Trial 59 pruned. \u001b[0m\n",
      "\u001b[32m[I 2022-05-05 10:39:20,900]\u001b[0m Trial 60 finished with value: 0.9087761673157407 and parameters: {'classifier': 'KNN', 'n_neighbors': 15, 'leaf_size': 37}. Best is trial 10 with value: 0.9087761673157407.\u001b[0m\n",
      "\u001b[32m[I 2022-05-05 10:39:38,436]\u001b[0m Trial 61 finished with value: 0.9087761673157407 and parameters: {'classifier': 'KNN', 'n_neighbors': 15, 'leaf_size': 44}. Best is trial 10 with value: 0.9087761673157407.\u001b[0m\n",
      "\u001b[32m[I 2022-05-05 10:39:55,755]\u001b[0m Trial 62 finished with value: 0.9087761673157407 and parameters: {'classifier': 'KNN', 'n_neighbors': 15, 'leaf_size': 43}. Best is trial 10 with value: 0.9087761673157407.\u001b[0m\n",
      "\u001b[32m[I 2022-05-05 10:40:13,591]\u001b[0m Trial 63 finished with value: 0.9087761673157407 and parameters: {'classifier': 'KNN', 'n_neighbors': 15, 'leaf_size': 37}. Best is trial 10 with value: 0.9087761673157407.\u001b[0m\n"
     ]
    },
    {
     "name": "stderr",
     "output_type": "stream",
     "text": [
      "\u001b[32m[I 2022-05-05 10:40:31,474]\u001b[0m Trial 64 pruned. \u001b[0m\n",
      "\u001b[32m[I 2022-05-05 10:40:47,900]\u001b[0m Trial 65 finished with value: 0.9087761673157407 and parameters: {'classifier': 'KNN', 'n_neighbors': 15, 'leaf_size': 34}. Best is trial 10 with value: 0.9087761673157407.\u001b[0m\n",
      "\u001b[32m[I 2022-05-05 10:41:04,134]\u001b[0m Trial 66 pruned. \u001b[0m\n",
      "\u001b[32m[I 2022-05-05 10:41:20,036]\u001b[0m Trial 67 pruned. \u001b[0m\n",
      "\u001b[32m[I 2022-05-05 10:41:36,814]\u001b[0m Trial 68 pruned. \u001b[0m\n",
      "\u001b[32m[I 2022-05-05 10:41:53,699]\u001b[0m Trial 69 finished with value: 0.9087761673157407 and parameters: {'classifier': 'KNN', 'n_neighbors': 15, 'leaf_size': 36}. Best is trial 10 with value: 0.9087761673157407.\u001b[0m\n",
      "\u001b[32m[I 2022-05-05 10:42:10,539]\u001b[0m Trial 70 pruned. \u001b[0m\n",
      "\u001b[32m[I 2022-05-05 10:42:28,189]\u001b[0m Trial 71 finished with value: 0.9087761673157407 and parameters: {'classifier': 'KNN', 'n_neighbors': 15, 'leaf_size': 38}. Best is trial 10 with value: 0.9087761673157407.\u001b[0m\n",
      "\u001b[32m[I 2022-05-05 10:42:45,873]\u001b[0m Trial 72 pruned. \u001b[0m\n",
      "\u001b[32m[I 2022-05-05 10:43:04,031]\u001b[0m Trial 73 finished with value: 0.9087761673157407 and parameters: {'classifier': 'KNN', 'n_neighbors': 15, 'leaf_size': 43}. Best is trial 10 with value: 0.9087761673157407.\u001b[0m\n",
      "\u001b[32m[I 2022-05-05 10:43:22,072]\u001b[0m Trial 74 pruned. \u001b[0m\n",
      "\u001b[32m[I 2022-05-05 10:43:23,893]\u001b[0m Trial 75 pruned. \u001b[0m\n",
      "\u001b[32m[I 2022-05-05 10:43:41,491]\u001b[0m Trial 76 finished with value: 0.9087761673157407 and parameters: {'classifier': 'KNN', 'n_neighbors': 15, 'leaf_size': 42}. Best is trial 10 with value: 0.9087761673157407.\u001b[0m\n",
      "\u001b[32m[I 2022-05-05 10:43:58,823]\u001b[0m Trial 77 finished with value: 0.9087761673157407 and parameters: {'classifier': 'KNN', 'n_neighbors': 15, 'leaf_size': 39}. Best is trial 10 with value: 0.9087761673157407.\u001b[0m\n",
      "\u001b[32m[I 2022-05-05 10:44:16,914]\u001b[0m Trial 78 pruned. \u001b[0m\n",
      "\u001b[32m[I 2022-05-05 10:44:33,115]\u001b[0m Trial 79 pruned. \u001b[0m\n",
      "\u001b[32m[I 2022-05-05 10:44:49,490]\u001b[0m Trial 80 pruned. \u001b[0m\n",
      "\u001b[32m[I 2022-05-05 10:45:06,500]\u001b[0m Trial 81 finished with value: 0.9087761673157407 and parameters: {'classifier': 'KNN', 'n_neighbors': 15, 'leaf_size': 43}. Best is trial 10 with value: 0.9087761673157407.\u001b[0m\n",
      "\u001b[32m[I 2022-05-05 10:45:23,827]\u001b[0m Trial 82 finished with value: 0.9087761673157407 and parameters: {'classifier': 'KNN', 'n_neighbors': 15, 'leaf_size': 30}. Best is trial 10 with value: 0.9087761673157407.\u001b[0m\n",
      "\u001b[32m[I 2022-05-05 10:45:40,794]\u001b[0m Trial 83 pruned. \u001b[0m\n",
      "\u001b[32m[I 2022-05-05 10:45:58,583]\u001b[0m Trial 84 finished with value: 0.9087761673157407 and parameters: {'classifier': 'KNN', 'n_neighbors': 15, 'leaf_size': 30}. Best is trial 10 with value: 0.9087761673157407.\u001b[0m\n",
      "\u001b[32m[I 2022-05-05 10:46:16,216]\u001b[0m Trial 85 pruned. \u001b[0m\n",
      "\u001b[32m[I 2022-05-05 10:46:34,091]\u001b[0m Trial 86 finished with value: 0.9087761673157407 and parameters: {'classifier': 'KNN', 'n_neighbors': 15, 'leaf_size': 35}. Best is trial 10 with value: 0.9087761673157407.\u001b[0m\n",
      "\u001b[32m[I 2022-05-05 10:46:52,517]\u001b[0m Trial 87 pruned. \u001b[0m\n",
      "\u001b[32m[I 2022-05-05 10:47:10,835]\u001b[0m Trial 88 finished with value: 0.9087761673157407 and parameters: {'classifier': 'KNN', 'n_neighbors': 15, 'leaf_size': 35}. Best is trial 10 with value: 0.9087761673157407.\u001b[0m\n",
      "\u001b[32m[I 2022-05-05 10:47:13,226]\u001b[0m Trial 89 pruned. \u001b[0m\n",
      "\u001b[32m[I 2022-05-05 10:47:30,910]\u001b[0m Trial 90 finished with value: 0.9087761673157407 and parameters: {'classifier': 'KNN', 'n_neighbors': 15, 'leaf_size': 35}. Best is trial 10 with value: 0.9087761673157407.\u001b[0m\n",
      "\u001b[32m[I 2022-05-05 10:47:49,571]\u001b[0m Trial 91 finished with value: 0.9087761673157407 and parameters: {'classifier': 'KNN', 'n_neighbors': 15, 'leaf_size': 44}. Best is trial 10 with value: 0.9087761673157407.\u001b[0m\n",
      "\u001b[32m[I 2022-05-05 10:48:07,647]\u001b[0m Trial 92 pruned. \u001b[0m\n",
      "\u001b[32m[I 2022-05-05 10:48:25,993]\u001b[0m Trial 93 finished with value: 0.9087761673157407 and parameters: {'classifier': 'KNN', 'n_neighbors': 15, 'leaf_size': 39}. Best is trial 10 with value: 0.9087761673157407.\u001b[0m\n",
      "\u001b[32m[I 2022-05-05 10:48:44,085]\u001b[0m Trial 94 finished with value: 0.9087761673157407 and parameters: {'classifier': 'KNN', 'n_neighbors': 15, 'leaf_size': 38}. Best is trial 10 with value: 0.9087761673157407.\u001b[0m\n",
      "\u001b[32m[I 2022-05-05 10:49:02,554]\u001b[0m Trial 95 pruned. \u001b[0m\n",
      "\u001b[32m[I 2022-05-05 10:49:20,755]\u001b[0m Trial 96 finished with value: 0.9087761673157407 and parameters: {'classifier': 'KNN', 'n_neighbors': 15, 'leaf_size': 42}. Best is trial 10 with value: 0.9087761673157407.\u001b[0m\n",
      "\u001b[32m[I 2022-05-05 10:49:38,246]\u001b[0m Trial 97 pruned. \u001b[0m\n",
      "\u001b[32m[I 2022-05-05 10:49:56,875]\u001b[0m Trial 98 pruned. \u001b[0m\n",
      "\u001b[32m[I 2022-05-05 10:50:14,083]\u001b[0m Trial 99 finished with value: 0.9087761673157407 and parameters: {'classifier': 'KNN', 'n_neighbors': 15, 'leaf_size': 43}. Best is trial 10 with value: 0.9087761673157407.\u001b[0m\n"
     ]
    },
    {
     "name": "stdout",
     "output_type": "stream",
     "text": [
      "  Number of finished trials:  100\n",
      "  Number of pruned trials:  54\n",
      "  Number of complete trials:  46\n"
     ]
    }
   ],
   "source": [
    "#Hyperparameter tuning with Optuna for LogReg and KNN\n",
    "import optuna\n",
    "import pandas as pd\n",
    "from sklearn import linear_model\n",
    "from sklearn import datasets\n",
    "from sklearn import model_selection\n",
    "from sklearn.neighbors import KNeighborsClassifier\n",
    "kf = StratifiedKFold(n_splits=5)\n",
    "#Grabbing a sklearn Classification dataset:\n",
    "\n",
    "#Step 1. Define an objective function to be maximized.\n",
    "def objective(trial):\n",
    "\n",
    "    classifier_name = trial.suggest_categorical(\"classifier\", [\"LogReg\", \"KNN\"])\n",
    "    \n",
    "    # Step 2. Setup values for the hyperparameters:\n",
    "    if classifier_name == 'LogReg':\n",
    "        logreg_c = trial.suggest_float(\"logreg_c\", 1e-10, 1e10, log=True)\n",
    "        penalty = trial.suggest_categorical('penalty',['l1','l2'])\n",
    "        classifier_obj = linear_model.LogisticRegression(C=logreg_c, penalty=penalty, solver='saga')\n",
    "    else:\n",
    "        n_neighbors = trial.suggest_int(\"n_neighbors\", 2, 15)\n",
    "        leaf_size = trial.suggest_int(\"leaf_size\", 30, 45, log=True)\n",
    "        classifier_obj = KNeighborsClassifier(leaf_size=leaf_size, n_neighbors=n_neighbors, n_jobs=4)\n",
    "\n",
    "    for step in range(100):\n",
    "        \n",
    "        # Report intermediate objective value.\n",
    "        intermediate_value = np.mean(model_selection.cross_val_score(classifier_obj, X, y, n_jobs=4, cv=5))\n",
    "        trial.report(intermediate_value, step)\n",
    "\n",
    "        # Handle pruning based on the intermediate value.\n",
    "        if trial.should_prune():\n",
    "            raise optuna.TrialPruned()\n",
    "        return intermediate_value\n",
    "\n",
    "# Step 4: Running it\n",
    "study = optuna.create_study(direction=\"maximize\")\n",
    "study.optimize(objective, n_trials=100)\n",
    "\n",
    "# Calculating the pruned and completed trials\n",
    "pruned_trials = [t for t in study.trials if t.state == optuna.trial.TrialState.PRUNED]\n",
    "complete_trials = [t for t in study.trials if t.state == optuna.trial.TrialState.COMPLETE]\n",
    "\n",
    "print(\"  Number of finished trials: \", len(study.trials))\n",
    "print(\"  Number of pruned trials: \", len(pruned_trials))\n",
    "print(\"  Number of complete trials: \", len(complete_trials))"
   ]
  },
  {
   "cell_type": "code",
   "execution_count": 14,
   "id": "50850f76",
   "metadata": {},
   "outputs": [
    {
     "name": "stderr",
     "output_type": "stream",
     "text": [
      "\u001b[32m[I 2022-05-05 10:57:11,884]\u001b[0m A new study created in memory with name: no-name-5a4ba7c3-5f0b-4ba4-9b60-8ce42959052d\u001b[0m\n",
      "\u001b[32m[I 2022-05-05 10:57:24,550]\u001b[0m Trial 0 finished with value: 0.4010077985331481 and parameters: {'classifier': 'GBR', 'max_depth': 9, 'max_features': 0.8}. Best is trial 0 with value: 0.4010077985331481.\u001b[0m\n",
      "\u001b[32m[I 2022-05-05 10:57:28,498]\u001b[0m Trial 1 finished with value: 0.43711548671821676 and parameters: {'classifier': 'GBR', 'max_depth': 5, 'max_features': 0.5}. Best is trial 1 with value: 0.43711548671821676.\u001b[0m\n",
      "\u001b[32m[I 2022-05-05 10:57:32,317]\u001b[0m Trial 2 finished with value: 0.43640125996465284 and parameters: {'classifier': 'GBR', 'max_depth': 4, 'max_features': 0.6}. Best is trial 1 with value: 0.43711548671821676.\u001b[0m\n",
      "\u001b[32m[I 2022-05-05 10:57:36,080]\u001b[0m Trial 3 finished with value: 0.42971679992095896 and parameters: {'classifier': 'GBR', 'max_depth': 3, 'max_features': 0.8}. Best is trial 1 with value: 0.43711548671821676.\u001b[0m\n",
      "\u001b[32m[I 2022-05-05 10:57:44,565]\u001b[0m Trial 4 finished with value: 0.38011344619132464 and parameters: {'classifier': 'GBR', 'max_depth': 11, 'max_features': 0.5}. Best is trial 1 with value: 0.43711548671821676.\u001b[0m\n"
     ]
    },
    {
     "ename": "KeyboardInterrupt",
     "evalue": "",
     "output_type": "error",
     "traceback": [
      "\u001b[1;31m---------------------------------------------------------------------------\u001b[0m",
      "\u001b[1;31mKeyboardInterrupt\u001b[0m                         Traceback (most recent call last)",
      "\u001b[1;32m<ipython-input-14-4afba8967f7f>\u001b[0m in \u001b[0;36m<module>\u001b[1;34m\u001b[0m\n\u001b[0;32m     37\u001b[0m \u001b[1;31m# Step 4: Running it\u001b[0m\u001b[1;33m\u001b[0m\u001b[1;33m\u001b[0m\u001b[1;33m\u001b[0m\u001b[0m\n\u001b[0;32m     38\u001b[0m \u001b[0mstudy\u001b[0m \u001b[1;33m=\u001b[0m \u001b[0moptuna\u001b[0m\u001b[1;33m.\u001b[0m\u001b[0mcreate_study\u001b[0m\u001b[1;33m(\u001b[0m\u001b[0mdirection\u001b[0m\u001b[1;33m=\u001b[0m\u001b[1;34m\"maximize\"\u001b[0m\u001b[1;33m)\u001b[0m\u001b[1;33m\u001b[0m\u001b[1;33m\u001b[0m\u001b[0m\n\u001b[1;32m---> 39\u001b[1;33m \u001b[0mstudy\u001b[0m\u001b[1;33m.\u001b[0m\u001b[0moptimize\u001b[0m\u001b[1;33m(\u001b[0m\u001b[0mobjective\u001b[0m\u001b[1;33m,\u001b[0m \u001b[0mn_trials\u001b[0m\u001b[1;33m=\u001b[0m\u001b[1;36m100\u001b[0m\u001b[1;33m)\u001b[0m\u001b[1;33m\u001b[0m\u001b[1;33m\u001b[0m\u001b[0m\n\u001b[0m\u001b[0;32m     40\u001b[0m \u001b[1;33m\u001b[0m\u001b[0m\n\u001b[0;32m     41\u001b[0m \u001b[1;31m# Calculating the pruned and completed trials\u001b[0m\u001b[1;33m\u001b[0m\u001b[1;33m\u001b[0m\u001b[1;33m\u001b[0m\u001b[0m\n",
      "\u001b[1;32m~\\anaconda3\\lib\\site-packages\\optuna\\study\\study.py\u001b[0m in \u001b[0;36moptimize\u001b[1;34m(self, func, n_trials, timeout, n_jobs, catch, callbacks, gc_after_trial, show_progress_bar)\u001b[0m\n\u001b[0;32m    398\u001b[0m             )\n\u001b[0;32m    399\u001b[0m \u001b[1;33m\u001b[0m\u001b[0m\n\u001b[1;32m--> 400\u001b[1;33m         _optimize(\n\u001b[0m\u001b[0;32m    401\u001b[0m             \u001b[0mstudy\u001b[0m\u001b[1;33m=\u001b[0m\u001b[0mself\u001b[0m\u001b[1;33m,\u001b[0m\u001b[1;33m\u001b[0m\u001b[1;33m\u001b[0m\u001b[0m\n\u001b[0;32m    402\u001b[0m             \u001b[0mfunc\u001b[0m\u001b[1;33m=\u001b[0m\u001b[0mfunc\u001b[0m\u001b[1;33m,\u001b[0m\u001b[1;33m\u001b[0m\u001b[1;33m\u001b[0m\u001b[0m\n",
      "\u001b[1;32m~\\anaconda3\\lib\\site-packages\\optuna\\study\\_optimize.py\u001b[0m in \u001b[0;36m_optimize\u001b[1;34m(study, func, n_trials, timeout, n_jobs, catch, callbacks, gc_after_trial, show_progress_bar)\u001b[0m\n\u001b[0;32m     64\u001b[0m     \u001b[1;32mtry\u001b[0m\u001b[1;33m:\u001b[0m\u001b[1;33m\u001b[0m\u001b[1;33m\u001b[0m\u001b[0m\n\u001b[0;32m     65\u001b[0m         \u001b[1;32mif\u001b[0m \u001b[0mn_jobs\u001b[0m \u001b[1;33m==\u001b[0m \u001b[1;36m1\u001b[0m\u001b[1;33m:\u001b[0m\u001b[1;33m\u001b[0m\u001b[1;33m\u001b[0m\u001b[0m\n\u001b[1;32m---> 66\u001b[1;33m             _optimize_sequential(\n\u001b[0m\u001b[0;32m     67\u001b[0m                 \u001b[0mstudy\u001b[0m\u001b[1;33m,\u001b[0m\u001b[1;33m\u001b[0m\u001b[1;33m\u001b[0m\u001b[0m\n\u001b[0;32m     68\u001b[0m                 \u001b[0mfunc\u001b[0m\u001b[1;33m,\u001b[0m\u001b[1;33m\u001b[0m\u001b[1;33m\u001b[0m\u001b[0m\n",
      "\u001b[1;32m~\\anaconda3\\lib\\site-packages\\optuna\\study\\_optimize.py\u001b[0m in \u001b[0;36m_optimize_sequential\u001b[1;34m(study, func, n_trials, timeout, catch, callbacks, gc_after_trial, reseed_sampler_rng, time_start, progress_bar)\u001b[0m\n\u001b[0;32m    161\u001b[0m \u001b[1;33m\u001b[0m\u001b[0m\n\u001b[0;32m    162\u001b[0m         \u001b[1;32mtry\u001b[0m\u001b[1;33m:\u001b[0m\u001b[1;33m\u001b[0m\u001b[1;33m\u001b[0m\u001b[0m\n\u001b[1;32m--> 163\u001b[1;33m             \u001b[0mtrial\u001b[0m \u001b[1;33m=\u001b[0m \u001b[0m_run_trial\u001b[0m\u001b[1;33m(\u001b[0m\u001b[0mstudy\u001b[0m\u001b[1;33m,\u001b[0m \u001b[0mfunc\u001b[0m\u001b[1;33m,\u001b[0m \u001b[0mcatch\u001b[0m\u001b[1;33m)\u001b[0m\u001b[1;33m\u001b[0m\u001b[1;33m\u001b[0m\u001b[0m\n\u001b[0m\u001b[0;32m    164\u001b[0m         \u001b[1;32mexcept\u001b[0m \u001b[0mException\u001b[0m\u001b[1;33m:\u001b[0m\u001b[1;33m\u001b[0m\u001b[1;33m\u001b[0m\u001b[0m\n\u001b[0;32m    165\u001b[0m             \u001b[1;32mraise\u001b[0m\u001b[1;33m\u001b[0m\u001b[1;33m\u001b[0m\u001b[0m\n",
      "\u001b[1;32m~\\anaconda3\\lib\\site-packages\\optuna\\study\\_optimize.py\u001b[0m in \u001b[0;36m_run_trial\u001b[1;34m(study, func, catch)\u001b[0m\n\u001b[0;32m    211\u001b[0m \u001b[1;33m\u001b[0m\u001b[0m\n\u001b[0;32m    212\u001b[0m     \u001b[1;32mtry\u001b[0m\u001b[1;33m:\u001b[0m\u001b[1;33m\u001b[0m\u001b[1;33m\u001b[0m\u001b[0m\n\u001b[1;32m--> 213\u001b[1;33m         \u001b[0mvalue_or_values\u001b[0m \u001b[1;33m=\u001b[0m \u001b[0mfunc\u001b[0m\u001b[1;33m(\u001b[0m\u001b[0mtrial\u001b[0m\u001b[1;33m)\u001b[0m\u001b[1;33m\u001b[0m\u001b[1;33m\u001b[0m\u001b[0m\n\u001b[0m\u001b[0;32m    214\u001b[0m     \u001b[1;32mexcept\u001b[0m \u001b[0mexceptions\u001b[0m\u001b[1;33m.\u001b[0m\u001b[0mTrialPruned\u001b[0m \u001b[1;32mas\u001b[0m \u001b[0me\u001b[0m\u001b[1;33m:\u001b[0m\u001b[1;33m\u001b[0m\u001b[1;33m\u001b[0m\u001b[0m\n\u001b[0;32m    215\u001b[0m         \u001b[1;31m# TODO(mamu): Handle multi-objective cases.\u001b[0m\u001b[1;33m\u001b[0m\u001b[1;33m\u001b[0m\u001b[1;33m\u001b[0m\u001b[0m\n",
      "\u001b[1;32m<ipython-input-14-4afba8967f7f>\u001b[0m in \u001b[0;36mobjective\u001b[1;34m(trial)\u001b[0m\n\u001b[0;32m     27\u001b[0m \u001b[1;33m\u001b[0m\u001b[0m\n\u001b[0;32m     28\u001b[0m         \u001b[1;31m# Report intermediate objective value.\u001b[0m\u001b[1;33m\u001b[0m\u001b[1;33m\u001b[0m\u001b[1;33m\u001b[0m\u001b[0m\n\u001b[1;32m---> 29\u001b[1;33m         \u001b[0mintermediate_value\u001b[0m \u001b[1;33m=\u001b[0m \u001b[0mnp\u001b[0m\u001b[1;33m.\u001b[0m\u001b[0mmean\u001b[0m\u001b[1;33m(\u001b[0m\u001b[0mmodel_selection\u001b[0m\u001b[1;33m.\u001b[0m\u001b[0mcross_val_score\u001b[0m\u001b[1;33m(\u001b[0m\u001b[0mclassifier_obj\u001b[0m\u001b[1;33m,\u001b[0m \u001b[0mX\u001b[0m\u001b[1;33m,\u001b[0m \u001b[0my\u001b[0m\u001b[1;33m,\u001b[0m \u001b[0mn_jobs\u001b[0m\u001b[1;33m=\u001b[0m\u001b[1;36m4\u001b[0m\u001b[1;33m,\u001b[0m \u001b[0mcv\u001b[0m\u001b[1;33m=\u001b[0m\u001b[1;36m5\u001b[0m\u001b[1;33m)\u001b[0m\u001b[1;33m)\u001b[0m\u001b[1;33m\u001b[0m\u001b[1;33m\u001b[0m\u001b[0m\n\u001b[0m\u001b[0;32m     30\u001b[0m         \u001b[0mtrial\u001b[0m\u001b[1;33m.\u001b[0m\u001b[0mreport\u001b[0m\u001b[1;33m(\u001b[0m\u001b[0mintermediate_value\u001b[0m\u001b[1;33m,\u001b[0m \u001b[0mstep\u001b[0m\u001b[1;33m)\u001b[0m\u001b[1;33m\u001b[0m\u001b[1;33m\u001b[0m\u001b[0m\n\u001b[0;32m     31\u001b[0m \u001b[1;33m\u001b[0m\u001b[0m\n",
      "\u001b[1;32m~\\anaconda3\\lib\\site-packages\\sklearn\\utils\\validation.py\u001b[0m in \u001b[0;36minner_f\u001b[1;34m(*args, **kwargs)\u001b[0m\n\u001b[0;32m     61\u001b[0m             \u001b[0mextra_args\u001b[0m \u001b[1;33m=\u001b[0m \u001b[0mlen\u001b[0m\u001b[1;33m(\u001b[0m\u001b[0margs\u001b[0m\u001b[1;33m)\u001b[0m \u001b[1;33m-\u001b[0m \u001b[0mlen\u001b[0m\u001b[1;33m(\u001b[0m\u001b[0mall_args\u001b[0m\u001b[1;33m)\u001b[0m\u001b[1;33m\u001b[0m\u001b[1;33m\u001b[0m\u001b[0m\n\u001b[0;32m     62\u001b[0m             \u001b[1;32mif\u001b[0m \u001b[0mextra_args\u001b[0m \u001b[1;33m<=\u001b[0m \u001b[1;36m0\u001b[0m\u001b[1;33m:\u001b[0m\u001b[1;33m\u001b[0m\u001b[1;33m\u001b[0m\u001b[0m\n\u001b[1;32m---> 63\u001b[1;33m                 \u001b[1;32mreturn\u001b[0m \u001b[0mf\u001b[0m\u001b[1;33m(\u001b[0m\u001b[1;33m*\u001b[0m\u001b[0margs\u001b[0m\u001b[1;33m,\u001b[0m \u001b[1;33m**\u001b[0m\u001b[0mkwargs\u001b[0m\u001b[1;33m)\u001b[0m\u001b[1;33m\u001b[0m\u001b[1;33m\u001b[0m\u001b[0m\n\u001b[0m\u001b[0;32m     64\u001b[0m \u001b[1;33m\u001b[0m\u001b[0m\n\u001b[0;32m     65\u001b[0m             \u001b[1;31m# extra_args > 0\u001b[0m\u001b[1;33m\u001b[0m\u001b[1;33m\u001b[0m\u001b[1;33m\u001b[0m\u001b[0m\n",
      "\u001b[1;32m~\\anaconda3\\lib\\site-packages\\sklearn\\model_selection\\_validation.py\u001b[0m in \u001b[0;36mcross_val_score\u001b[1;34m(estimator, X, y, groups, scoring, cv, n_jobs, verbose, fit_params, pre_dispatch, error_score)\u001b[0m\n\u001b[0;32m    438\u001b[0m     \u001b[0mscorer\u001b[0m \u001b[1;33m=\u001b[0m \u001b[0mcheck_scoring\u001b[0m\u001b[1;33m(\u001b[0m\u001b[0mestimator\u001b[0m\u001b[1;33m,\u001b[0m \u001b[0mscoring\u001b[0m\u001b[1;33m=\u001b[0m\u001b[0mscoring\u001b[0m\u001b[1;33m)\u001b[0m\u001b[1;33m\u001b[0m\u001b[1;33m\u001b[0m\u001b[0m\n\u001b[0;32m    439\u001b[0m \u001b[1;33m\u001b[0m\u001b[0m\n\u001b[1;32m--> 440\u001b[1;33m     cv_results = cross_validate(estimator=estimator, X=X, y=y, groups=groups,\n\u001b[0m\u001b[0;32m    441\u001b[0m                                 \u001b[0mscoring\u001b[0m\u001b[1;33m=\u001b[0m\u001b[1;33m{\u001b[0m\u001b[1;34m'score'\u001b[0m\u001b[1;33m:\u001b[0m \u001b[0mscorer\u001b[0m\u001b[1;33m}\u001b[0m\u001b[1;33m,\u001b[0m \u001b[0mcv\u001b[0m\u001b[1;33m=\u001b[0m\u001b[0mcv\u001b[0m\u001b[1;33m,\u001b[0m\u001b[1;33m\u001b[0m\u001b[1;33m\u001b[0m\u001b[0m\n\u001b[0;32m    442\u001b[0m                                 \u001b[0mn_jobs\u001b[0m\u001b[1;33m=\u001b[0m\u001b[0mn_jobs\u001b[0m\u001b[1;33m,\u001b[0m \u001b[0mverbose\u001b[0m\u001b[1;33m=\u001b[0m\u001b[0mverbose\u001b[0m\u001b[1;33m,\u001b[0m\u001b[1;33m\u001b[0m\u001b[1;33m\u001b[0m\u001b[0m\n",
      "\u001b[1;32m~\\anaconda3\\lib\\site-packages\\sklearn\\utils\\validation.py\u001b[0m in \u001b[0;36minner_f\u001b[1;34m(*args, **kwargs)\u001b[0m\n\u001b[0;32m     61\u001b[0m             \u001b[0mextra_args\u001b[0m \u001b[1;33m=\u001b[0m \u001b[0mlen\u001b[0m\u001b[1;33m(\u001b[0m\u001b[0margs\u001b[0m\u001b[1;33m)\u001b[0m \u001b[1;33m-\u001b[0m \u001b[0mlen\u001b[0m\u001b[1;33m(\u001b[0m\u001b[0mall_args\u001b[0m\u001b[1;33m)\u001b[0m\u001b[1;33m\u001b[0m\u001b[1;33m\u001b[0m\u001b[0m\n\u001b[0;32m     62\u001b[0m             \u001b[1;32mif\u001b[0m \u001b[0mextra_args\u001b[0m \u001b[1;33m<=\u001b[0m \u001b[1;36m0\u001b[0m\u001b[1;33m:\u001b[0m\u001b[1;33m\u001b[0m\u001b[1;33m\u001b[0m\u001b[0m\n\u001b[1;32m---> 63\u001b[1;33m                 \u001b[1;32mreturn\u001b[0m \u001b[0mf\u001b[0m\u001b[1;33m(\u001b[0m\u001b[1;33m*\u001b[0m\u001b[0margs\u001b[0m\u001b[1;33m,\u001b[0m \u001b[1;33m**\u001b[0m\u001b[0mkwargs\u001b[0m\u001b[1;33m)\u001b[0m\u001b[1;33m\u001b[0m\u001b[1;33m\u001b[0m\u001b[0m\n\u001b[0m\u001b[0;32m     64\u001b[0m \u001b[1;33m\u001b[0m\u001b[0m\n\u001b[0;32m     65\u001b[0m             \u001b[1;31m# extra_args > 0\u001b[0m\u001b[1;33m\u001b[0m\u001b[1;33m\u001b[0m\u001b[1;33m\u001b[0m\u001b[0m\n",
      "\u001b[1;32m~\\anaconda3\\lib\\site-packages\\sklearn\\model_selection\\_validation.py\u001b[0m in \u001b[0;36mcross_validate\u001b[1;34m(estimator, X, y, groups, scoring, cv, n_jobs, verbose, fit_params, pre_dispatch, return_train_score, return_estimator, error_score)\u001b[0m\n\u001b[0;32m    244\u001b[0m     parallel = Parallel(n_jobs=n_jobs, verbose=verbose,\n\u001b[0;32m    245\u001b[0m                         pre_dispatch=pre_dispatch)\n\u001b[1;32m--> 246\u001b[1;33m     results = parallel(\n\u001b[0m\u001b[0;32m    247\u001b[0m         delayed(_fit_and_score)(\n\u001b[0;32m    248\u001b[0m             \u001b[0mclone\u001b[0m\u001b[1;33m(\u001b[0m\u001b[0mestimator\u001b[0m\u001b[1;33m)\u001b[0m\u001b[1;33m,\u001b[0m \u001b[0mX\u001b[0m\u001b[1;33m,\u001b[0m \u001b[0my\u001b[0m\u001b[1;33m,\u001b[0m \u001b[0mscorers\u001b[0m\u001b[1;33m,\u001b[0m \u001b[0mtrain\u001b[0m\u001b[1;33m,\u001b[0m \u001b[0mtest\u001b[0m\u001b[1;33m,\u001b[0m \u001b[0mverbose\u001b[0m\u001b[1;33m,\u001b[0m \u001b[1;32mNone\u001b[0m\u001b[1;33m,\u001b[0m\u001b[1;33m\u001b[0m\u001b[1;33m\u001b[0m\u001b[0m\n",
      "\u001b[1;32m~\\anaconda3\\lib\\site-packages\\joblib\\parallel.py\u001b[0m in \u001b[0;36m__call__\u001b[1;34m(self, iterable)\u001b[0m\n\u001b[0;32m   1052\u001b[0m \u001b[1;33m\u001b[0m\u001b[0m\n\u001b[0;32m   1053\u001b[0m             \u001b[1;32mwith\u001b[0m \u001b[0mself\u001b[0m\u001b[1;33m.\u001b[0m\u001b[0m_backend\u001b[0m\u001b[1;33m.\u001b[0m\u001b[0mretrieval_context\u001b[0m\u001b[1;33m(\u001b[0m\u001b[1;33m)\u001b[0m\u001b[1;33m:\u001b[0m\u001b[1;33m\u001b[0m\u001b[1;33m\u001b[0m\u001b[0m\n\u001b[1;32m-> 1054\u001b[1;33m                 \u001b[0mself\u001b[0m\u001b[1;33m.\u001b[0m\u001b[0mretrieve\u001b[0m\u001b[1;33m(\u001b[0m\u001b[1;33m)\u001b[0m\u001b[1;33m\u001b[0m\u001b[1;33m\u001b[0m\u001b[0m\n\u001b[0m\u001b[0;32m   1055\u001b[0m             \u001b[1;31m# Make sure that we get a last message telling us we are done\u001b[0m\u001b[1;33m\u001b[0m\u001b[1;33m\u001b[0m\u001b[1;33m\u001b[0m\u001b[0m\n\u001b[0;32m   1056\u001b[0m             \u001b[0melapsed_time\u001b[0m \u001b[1;33m=\u001b[0m \u001b[0mtime\u001b[0m\u001b[1;33m.\u001b[0m\u001b[0mtime\u001b[0m\u001b[1;33m(\u001b[0m\u001b[1;33m)\u001b[0m \u001b[1;33m-\u001b[0m \u001b[0mself\u001b[0m\u001b[1;33m.\u001b[0m\u001b[0m_start_time\u001b[0m\u001b[1;33m\u001b[0m\u001b[1;33m\u001b[0m\u001b[0m\n",
      "\u001b[1;32m~\\anaconda3\\lib\\site-packages\\joblib\\parallel.py\u001b[0m in \u001b[0;36mretrieve\u001b[1;34m(self)\u001b[0m\n\u001b[0;32m    931\u001b[0m             \u001b[1;32mtry\u001b[0m\u001b[1;33m:\u001b[0m\u001b[1;33m\u001b[0m\u001b[1;33m\u001b[0m\u001b[0m\n\u001b[0;32m    932\u001b[0m                 \u001b[1;32mif\u001b[0m \u001b[0mgetattr\u001b[0m\u001b[1;33m(\u001b[0m\u001b[0mself\u001b[0m\u001b[1;33m.\u001b[0m\u001b[0m_backend\u001b[0m\u001b[1;33m,\u001b[0m \u001b[1;34m'supports_timeout'\u001b[0m\u001b[1;33m,\u001b[0m \u001b[1;32mFalse\u001b[0m\u001b[1;33m)\u001b[0m\u001b[1;33m:\u001b[0m\u001b[1;33m\u001b[0m\u001b[1;33m\u001b[0m\u001b[0m\n\u001b[1;32m--> 933\u001b[1;33m                     \u001b[0mself\u001b[0m\u001b[1;33m.\u001b[0m\u001b[0m_output\u001b[0m\u001b[1;33m.\u001b[0m\u001b[0mextend\u001b[0m\u001b[1;33m(\u001b[0m\u001b[0mjob\u001b[0m\u001b[1;33m.\u001b[0m\u001b[0mget\u001b[0m\u001b[1;33m(\u001b[0m\u001b[0mtimeout\u001b[0m\u001b[1;33m=\u001b[0m\u001b[0mself\u001b[0m\u001b[1;33m.\u001b[0m\u001b[0mtimeout\u001b[0m\u001b[1;33m)\u001b[0m\u001b[1;33m)\u001b[0m\u001b[1;33m\u001b[0m\u001b[1;33m\u001b[0m\u001b[0m\n\u001b[0m\u001b[0;32m    934\u001b[0m                 \u001b[1;32melse\u001b[0m\u001b[1;33m:\u001b[0m\u001b[1;33m\u001b[0m\u001b[1;33m\u001b[0m\u001b[0m\n\u001b[0;32m    935\u001b[0m                     \u001b[0mself\u001b[0m\u001b[1;33m.\u001b[0m\u001b[0m_output\u001b[0m\u001b[1;33m.\u001b[0m\u001b[0mextend\u001b[0m\u001b[1;33m(\u001b[0m\u001b[0mjob\u001b[0m\u001b[1;33m.\u001b[0m\u001b[0mget\u001b[0m\u001b[1;33m(\u001b[0m\u001b[1;33m)\u001b[0m\u001b[1;33m)\u001b[0m\u001b[1;33m\u001b[0m\u001b[1;33m\u001b[0m\u001b[0m\n",
      "\u001b[1;32m~\\anaconda3\\lib\\site-packages\\joblib\\_parallel_backends.py\u001b[0m in \u001b[0;36mwrap_future_result\u001b[1;34m(future, timeout)\u001b[0m\n\u001b[0;32m    540\u001b[0m         AsyncResults.get from multiprocessing.\"\"\"\n\u001b[0;32m    541\u001b[0m         \u001b[1;32mtry\u001b[0m\u001b[1;33m:\u001b[0m\u001b[1;33m\u001b[0m\u001b[1;33m\u001b[0m\u001b[0m\n\u001b[1;32m--> 542\u001b[1;33m             \u001b[1;32mreturn\u001b[0m \u001b[0mfuture\u001b[0m\u001b[1;33m.\u001b[0m\u001b[0mresult\u001b[0m\u001b[1;33m(\u001b[0m\u001b[0mtimeout\u001b[0m\u001b[1;33m=\u001b[0m\u001b[0mtimeout\u001b[0m\u001b[1;33m)\u001b[0m\u001b[1;33m\u001b[0m\u001b[1;33m\u001b[0m\u001b[0m\n\u001b[0m\u001b[0;32m    543\u001b[0m         \u001b[1;32mexcept\u001b[0m \u001b[0mCfTimeoutError\u001b[0m \u001b[1;32mas\u001b[0m \u001b[0me\u001b[0m\u001b[1;33m:\u001b[0m\u001b[1;33m\u001b[0m\u001b[1;33m\u001b[0m\u001b[0m\n\u001b[0;32m    544\u001b[0m             \u001b[1;32mraise\u001b[0m \u001b[0mTimeoutError\u001b[0m \u001b[1;32mfrom\u001b[0m \u001b[0me\u001b[0m\u001b[1;33m\u001b[0m\u001b[1;33m\u001b[0m\u001b[0m\n",
      "\u001b[1;32m~\\anaconda3\\lib\\concurrent\\futures\\_base.py\u001b[0m in \u001b[0;36mresult\u001b[1;34m(self, timeout)\u001b[0m\n\u001b[0;32m    432\u001b[0m                 \u001b[1;32mreturn\u001b[0m \u001b[0mself\u001b[0m\u001b[1;33m.\u001b[0m\u001b[0m__get_result\u001b[0m\u001b[1;33m(\u001b[0m\u001b[1;33m)\u001b[0m\u001b[1;33m\u001b[0m\u001b[1;33m\u001b[0m\u001b[0m\n\u001b[0;32m    433\u001b[0m \u001b[1;33m\u001b[0m\u001b[0m\n\u001b[1;32m--> 434\u001b[1;33m             \u001b[0mself\u001b[0m\u001b[1;33m.\u001b[0m\u001b[0m_condition\u001b[0m\u001b[1;33m.\u001b[0m\u001b[0mwait\u001b[0m\u001b[1;33m(\u001b[0m\u001b[0mtimeout\u001b[0m\u001b[1;33m)\u001b[0m\u001b[1;33m\u001b[0m\u001b[1;33m\u001b[0m\u001b[0m\n\u001b[0m\u001b[0;32m    435\u001b[0m \u001b[1;33m\u001b[0m\u001b[0m\n\u001b[0;32m    436\u001b[0m             \u001b[1;32mif\u001b[0m \u001b[0mself\u001b[0m\u001b[1;33m.\u001b[0m\u001b[0m_state\u001b[0m \u001b[1;32min\u001b[0m \u001b[1;33m[\u001b[0m\u001b[0mCANCELLED\u001b[0m\u001b[1;33m,\u001b[0m \u001b[0mCANCELLED_AND_NOTIFIED\u001b[0m\u001b[1;33m]\u001b[0m\u001b[1;33m:\u001b[0m\u001b[1;33m\u001b[0m\u001b[1;33m\u001b[0m\u001b[0m\n",
      "\u001b[1;32m~\\anaconda3\\lib\\threading.py\u001b[0m in \u001b[0;36mwait\u001b[1;34m(self, timeout)\u001b[0m\n\u001b[0;32m    300\u001b[0m         \u001b[1;32mtry\u001b[0m\u001b[1;33m:\u001b[0m    \u001b[1;31m# restore state no matter what (e.g., KeyboardInterrupt)\u001b[0m\u001b[1;33m\u001b[0m\u001b[1;33m\u001b[0m\u001b[0m\n\u001b[0;32m    301\u001b[0m             \u001b[1;32mif\u001b[0m \u001b[0mtimeout\u001b[0m \u001b[1;32mis\u001b[0m \u001b[1;32mNone\u001b[0m\u001b[1;33m:\u001b[0m\u001b[1;33m\u001b[0m\u001b[1;33m\u001b[0m\u001b[0m\n\u001b[1;32m--> 302\u001b[1;33m                 \u001b[0mwaiter\u001b[0m\u001b[1;33m.\u001b[0m\u001b[0macquire\u001b[0m\u001b[1;33m(\u001b[0m\u001b[1;33m)\u001b[0m\u001b[1;33m\u001b[0m\u001b[1;33m\u001b[0m\u001b[0m\n\u001b[0m\u001b[0;32m    303\u001b[0m                 \u001b[0mgotit\u001b[0m \u001b[1;33m=\u001b[0m \u001b[1;32mTrue\u001b[0m\u001b[1;33m\u001b[0m\u001b[1;33m\u001b[0m\u001b[0m\n\u001b[0;32m    304\u001b[0m             \u001b[1;32melse\u001b[0m\u001b[1;33m:\u001b[0m\u001b[1;33m\u001b[0m\u001b[1;33m\u001b[0m\u001b[0m\n",
      "\u001b[1;31mKeyboardInterrupt\u001b[0m: "
     ]
    }
   ],
   "source": [
    "#Hyperparameter tuning with Optuna for RFRegressor and GBRegressor\n",
    "import optuna\n",
    "import pandas as pd\n",
    "from sklearn import linear_model\n",
    "from sklearn import datasets\n",
    "from sklearn import model_selection\n",
    "from sklearn.ensemble import RandomForestRegressor, GradientBoostingRegressor\n",
    "#Grabbing a sklearn Classification dataset:\n",
    "\n",
    "#Step 1. Define an objective function to be maximized.\n",
    "def objective(trial):\n",
    "\n",
    "    classifier_name = trial.suggest_categorical(\"classifier\", [\"GBR\", \"RFR\"])\n",
    "    \n",
    "    # Step 2. Setup values for the hyperparameters:\n",
    "    if classifier_name == 'GBR':\n",
    "        max_depth = trial.suggest_int(\"max_depth\", 3, 15, log=True)\n",
    "        max_features = trial.suggest_categorical(\"max_features\",[0.5, 0.6, 0.7, 0.8])\n",
    "        classifier_obj = GradientBoostingRegressor(max_depth=max_depth,max_features=max_features)\n",
    "    else:\n",
    "        rf_n_estimators = trial.suggest_int(\"rf_n_estimators\", 10, 1000)\n",
    "        rf_max_depth = trial.suggest_int(\"rf_max_depth\", 2, 32, log=True)\n",
    "        classifier_obj = RandomForestRegressor(\n",
    "            max_depth=rf_max_depth, n_estimators=rf_n_estimators\n",
    "        )\n",
    "    for step in range(100):\n",
    "        \n",
    "        # Report intermediate objective value.\n",
    "        intermediate_value = np.mean(model_selection.cross_val_score(classifier_obj, X, y, n_jobs=4, cv=5))\n",
    "        trial.report(intermediate_value, step)\n",
    "\n",
    "        # Handle pruning based on the intermediate value.\n",
    "        if trial.should_prune():\n",
    "            raise optuna.TrialPruned()\n",
    "        return intermediate_value\n",
    "\n",
    "# Step 4: Running it\n",
    "study = optuna.create_study(direction=\"maximize\")\n",
    "study.optimize(objective, n_trials=100)\n",
    "\n",
    "# Calculating the pruned and completed trials\n",
    "pruned_trials = [t for t in study.trials if t.state == optuna.trial.TrialState.PRUNED]\n",
    "complete_trials = [t for t in study.trials if t.state == optuna.trial.TrialState.COMPLETE]\n",
    "\n",
    "print(\"  Number of finished trials: \", len(study.trials))\n",
    "print(\"  Number of pruned trials: \", len(pruned_trials))\n",
    "print(\"  Number of complete trials: \", len(complete_trials))"
   ]
  },
  {
   "cell_type": "code",
   "execution_count": 3,
   "id": "22a9a6bc",
   "metadata": {},
   "outputs": [],
   "source": [
    "test = pd.read_csv('test_bank_marketing.csv')\n",
    "day = {\"mon\":1,\"tue\":2,\"wed\":3,\"thu\":4,\"fri\":5}\n",
    "poutcome = {\"failure\":0,\"nonexistent\":1,\"success\":2}\n",
    "test['job'] = test['job'].apply(lambda x: job[x])\n",
    "test['marital'] = test['marital'].apply(lambda x: civil[x])\n",
    "test['education'] = test['education'].apply(lambda x: educ[x])\n",
    "test['default'] = test['default'].apply(lambda x: binary[x])\n",
    "test['housing'] = test['housing'].apply(lambda x: binary[x])\n",
    "test['loan'] = test['loan'].apply(lambda x: binary[x])\n",
    "test['contact'] = test['contact'].apply(lambda x: contact[x])\n",
    "test['month'] = test['month'].apply(lambda x: month[x])\n",
    "test['day_of_week'] = test['day_of_week'].apply(lambda x: day[x])\n",
    "test['poutcome'] = test['poutcome'].apply(lambda x: poutcome[x])"
   ]
  },
  {
   "cell_type": "code",
   "execution_count": 28,
   "id": "b2f191e3",
   "metadata": {},
   "outputs": [
    {
     "data": {
      "text/html": [
       "<div>\n",
       "<style scoped>\n",
       "    .dataframe tbody tr th:only-of-type {\n",
       "        vertical-align: middle;\n",
       "    }\n",
       "\n",
       "    .dataframe tbody tr th {\n",
       "        vertical-align: top;\n",
       "    }\n",
       "\n",
       "    .dataframe thead th {\n",
       "        text-align: right;\n",
       "    }\n",
       "</style>\n",
       "<table border=\"1\" class=\"dataframe\">\n",
       "  <thead>\n",
       "    <tr style=\"text-align: right;\">\n",
       "      <th></th>\n",
       "      <th>0</th>\n",
       "    </tr>\n",
       "  </thead>\n",
       "  <tbody>\n",
       "    <tr>\n",
       "      <th>0</th>\n",
       "      <td>0</td>\n",
       "    </tr>\n",
       "    <tr>\n",
       "      <th>1</th>\n",
       "      <td>0</td>\n",
       "    </tr>\n",
       "    <tr>\n",
       "      <th>2</th>\n",
       "      <td>0</td>\n",
       "    </tr>\n",
       "    <tr>\n",
       "      <th>3</th>\n",
       "      <td>0</td>\n",
       "    </tr>\n",
       "    <tr>\n",
       "      <th>4</th>\n",
       "      <td>0</td>\n",
       "    </tr>\n",
       "    <tr>\n",
       "      <th>...</th>\n",
       "      <td>...</td>\n",
       "    </tr>\n",
       "    <tr>\n",
       "      <th>10292</th>\n",
       "      <td>0</td>\n",
       "    </tr>\n",
       "    <tr>\n",
       "      <th>10293</th>\n",
       "      <td>0</td>\n",
       "    </tr>\n",
       "    <tr>\n",
       "      <th>10294</th>\n",
       "      <td>0</td>\n",
       "    </tr>\n",
       "    <tr>\n",
       "      <th>10295</th>\n",
       "      <td>1</td>\n",
       "    </tr>\n",
       "    <tr>\n",
       "      <th>10296</th>\n",
       "      <td>0</td>\n",
       "    </tr>\n",
       "  </tbody>\n",
       "</table>\n",
       "<p>10297 rows × 1 columns</p>\n",
       "</div>"
      ],
      "text/plain": [
       "       0\n",
       "0      0\n",
       "1      0\n",
       "2      0\n",
       "3      0\n",
       "4      0\n",
       "...   ..\n",
       "10292  0\n",
       "10293  0\n",
       "10294  0\n",
       "10295  1\n",
       "10296  0\n",
       "\n",
       "[10297 rows x 1 columns]"
      ]
     },
     "execution_count": 28,
     "metadata": {},
     "output_type": "execute_result"
    }
   ],
   "source": [
    "import joblib\n",
    "loaded_model = joblib.load('my_prefinalgbm.joblib')\n",
    "result = loaded_model.predict(test)\n",
    "result = pd.DataFrame(result)\n",
    "result"
   ]
  },
  {
   "cell_type": "code",
   "execution_count": 27,
   "id": "d9425e8a",
   "metadata": {},
   "outputs": [],
   "source": [
    "result.to_csv('submission.csv')"
   ]
  },
  {
   "cell_type": "code",
   "execution_count": 29,
   "id": "f93a5d64",
   "metadata": {},
   "outputs": [],
   "source": [
    "result['id'] = result.index\n",
    "result.rename(columns = {'0':'y'}, inplace = True)"
   ]
  },
  {
   "cell_type": "code",
   "execution_count": 33,
   "id": "de89f7cf",
   "metadata": {},
   "outputs": [
    {
     "data": {
      "text/html": [
       "<div>\n",
       "<style scoped>\n",
       "    .dataframe tbody tr th:only-of-type {\n",
       "        vertical-align: middle;\n",
       "    }\n",
       "\n",
       "    .dataframe tbody tr th {\n",
       "        vertical-align: top;\n",
       "    }\n",
       "\n",
       "    .dataframe thead th {\n",
       "        text-align: right;\n",
       "    }\n",
       "</style>\n",
       "<table border=\"1\" class=\"dataframe\">\n",
       "  <thead>\n",
       "    <tr style=\"text-align: right;\">\n",
       "      <th></th>\n",
       "      <th>y</th>\n",
       "      <th>id</th>\n",
       "    </tr>\n",
       "  </thead>\n",
       "  <tbody>\n",
       "    <tr>\n",
       "      <th>0</th>\n",
       "      <td>0</td>\n",
       "      <td>0</td>\n",
       "    </tr>\n",
       "    <tr>\n",
       "      <th>1</th>\n",
       "      <td>0</td>\n",
       "      <td>1</td>\n",
       "    </tr>\n",
       "    <tr>\n",
       "      <th>2</th>\n",
       "      <td>0</td>\n",
       "      <td>2</td>\n",
       "    </tr>\n",
       "    <tr>\n",
       "      <th>3</th>\n",
       "      <td>0</td>\n",
       "      <td>3</td>\n",
       "    </tr>\n",
       "    <tr>\n",
       "      <th>4</th>\n",
       "      <td>0</td>\n",
       "      <td>4</td>\n",
       "    </tr>\n",
       "    <tr>\n",
       "      <th>...</th>\n",
       "      <td>...</td>\n",
       "      <td>...</td>\n",
       "    </tr>\n",
       "    <tr>\n",
       "      <th>10292</th>\n",
       "      <td>0</td>\n",
       "      <td>10292</td>\n",
       "    </tr>\n",
       "    <tr>\n",
       "      <th>10293</th>\n",
       "      <td>0</td>\n",
       "      <td>10293</td>\n",
       "    </tr>\n",
       "    <tr>\n",
       "      <th>10294</th>\n",
       "      <td>0</td>\n",
       "      <td>10294</td>\n",
       "    </tr>\n",
       "    <tr>\n",
       "      <th>10295</th>\n",
       "      <td>1</td>\n",
       "      <td>10295</td>\n",
       "    </tr>\n",
       "    <tr>\n",
       "      <th>10296</th>\n",
       "      <td>0</td>\n",
       "      <td>10296</td>\n",
       "    </tr>\n",
       "  </tbody>\n",
       "</table>\n",
       "<p>10297 rows × 2 columns</p>\n",
       "</div>"
      ],
      "text/plain": [
       "       y     id\n",
       "0      0      0\n",
       "1      0      1\n",
       "2      0      2\n",
       "3      0      3\n",
       "4      0      4\n",
       "...   ..    ...\n",
       "10292  0  10292\n",
       "10293  0  10293\n",
       "10294  0  10294\n",
       "10295  1  10295\n",
       "10296  0  10296\n",
       "\n",
       "[10297 rows x 2 columns]"
      ]
     },
     "execution_count": 33,
     "metadata": {},
     "output_type": "execute_result"
    }
   ],
   "source": [
    "result.rename(columns = {0:'y'}, inplace = True)\n",
    "result"
   ]
  },
  {
   "cell_type": "code",
   "execution_count": 35,
   "id": "8d58b6a6",
   "metadata": {},
   "outputs": [],
   "source": [
    "result.to_csv('submission.csv',index=False)"
   ]
  },
  {
   "cell_type": "code",
   "execution_count": 37,
   "id": "df8bcc2b",
   "metadata": {},
   "outputs": [
    {
     "data": {
      "text/html": [
       "<div>\n",
       "<style scoped>\n",
       "    .dataframe tbody tr th:only-of-type {\n",
       "        vertical-align: middle;\n",
       "    }\n",
       "\n",
       "    .dataframe tbody tr th {\n",
       "        vertical-align: top;\n",
       "    }\n",
       "\n",
       "    .dataframe thead th {\n",
       "        text-align: right;\n",
       "    }\n",
       "</style>\n",
       "<table border=\"1\" class=\"dataframe\">\n",
       "  <thead>\n",
       "    <tr style=\"text-align: right;\">\n",
       "      <th></th>\n",
       "      <th>y</th>\n",
       "      <th>id</th>\n",
       "    </tr>\n",
       "  </thead>\n",
       "  <tbody>\n",
       "    <tr>\n",
       "      <th>0</th>\n",
       "      <td>0</td>\n",
       "      <td>0</td>\n",
       "    </tr>\n",
       "    <tr>\n",
       "      <th>1</th>\n",
       "      <td>0</td>\n",
       "      <td>1</td>\n",
       "    </tr>\n",
       "    <tr>\n",
       "      <th>2</th>\n",
       "      <td>0</td>\n",
       "      <td>2</td>\n",
       "    </tr>\n",
       "    <tr>\n",
       "      <th>3</th>\n",
       "      <td>0</td>\n",
       "      <td>3</td>\n",
       "    </tr>\n",
       "    <tr>\n",
       "      <th>4</th>\n",
       "      <td>0</td>\n",
       "      <td>4</td>\n",
       "    </tr>\n",
       "    <tr>\n",
       "      <th>...</th>\n",
       "      <td>...</td>\n",
       "      <td>...</td>\n",
       "    </tr>\n",
       "    <tr>\n",
       "      <th>10292</th>\n",
       "      <td>0</td>\n",
       "      <td>10292</td>\n",
       "    </tr>\n",
       "    <tr>\n",
       "      <th>10293</th>\n",
       "      <td>0</td>\n",
       "      <td>10293</td>\n",
       "    </tr>\n",
       "    <tr>\n",
       "      <th>10294</th>\n",
       "      <td>0</td>\n",
       "      <td>10294</td>\n",
       "    </tr>\n",
       "    <tr>\n",
       "      <th>10295</th>\n",
       "      <td>1</td>\n",
       "      <td>10295</td>\n",
       "    </tr>\n",
       "    <tr>\n",
       "      <th>10296</th>\n",
       "      <td>0</td>\n",
       "      <td>10296</td>\n",
       "    </tr>\n",
       "  </tbody>\n",
       "</table>\n",
       "<p>10297 rows × 2 columns</p>\n",
       "</div>"
      ],
      "text/plain": [
       "       y     id\n",
       "0      0      0\n",
       "1      0      1\n",
       "2      0      2\n",
       "3      0      3\n",
       "4      0      4\n",
       "...   ..    ...\n",
       "10292  0  10292\n",
       "10293  0  10293\n",
       "10294  0  10294\n",
       "10295  1  10295\n",
       "10296  0  10296\n",
       "\n",
       "[10297 rows x 2 columns]"
      ]
     },
     "execution_count": 37,
     "metadata": {},
     "output_type": "execute_result"
    }
   ],
   "source": [
    "#'classifier': 'RandomForest', 'rf_n_estimators': 689, 'rf_max_features': 0.7, 'rf_max_depth': 10\n",
    "from sklearn.ensemble import RandomForestClassifier\n",
    "rf_predictor = RandomForestClassifier(n_estimators=689, max_features=0.7, max_depth=10)\n",
    "rf_predictor.fit(X,y)\n",
    "result1 = rf_predictor.predict(test)\n",
    "result1 = pd.DataFrame(result1)\n",
    "result1['id'] = result1.index\n",
    "result1.rename(columns = {0:'y'}, inplace = True)\n",
    "result1"
   ]
  },
  {
   "cell_type": "code",
   "execution_count": 38,
   "id": "ad72c6cd",
   "metadata": {},
   "outputs": [],
   "source": [
    "result1.to_csv('submission1.csv',index=False)"
   ]
  },
  {
   "cell_type": "code",
   "execution_count": 39,
   "id": "e1050ded",
   "metadata": {},
   "outputs": [
    {
     "data": {
      "text/html": [
       "<div>\n",
       "<style scoped>\n",
       "    .dataframe tbody tr th:only-of-type {\n",
       "        vertical-align: middle;\n",
       "    }\n",
       "\n",
       "    .dataframe tbody tr th {\n",
       "        vertical-align: top;\n",
       "    }\n",
       "\n",
       "    .dataframe thead th {\n",
       "        text-align: right;\n",
       "    }\n",
       "</style>\n",
       "<table border=\"1\" class=\"dataframe\">\n",
       "  <thead>\n",
       "    <tr style=\"text-align: right;\">\n",
       "      <th></th>\n",
       "      <th>y</th>\n",
       "      <th>id</th>\n",
       "    </tr>\n",
       "  </thead>\n",
       "  <tbody>\n",
       "    <tr>\n",
       "      <th>0</th>\n",
       "      <td>0</td>\n",
       "      <td>0</td>\n",
       "    </tr>\n",
       "    <tr>\n",
       "      <th>1</th>\n",
       "      <td>0</td>\n",
       "      <td>1</td>\n",
       "    </tr>\n",
       "    <tr>\n",
       "      <th>2</th>\n",
       "      <td>0</td>\n",
       "      <td>2</td>\n",
       "    </tr>\n",
       "    <tr>\n",
       "      <th>3</th>\n",
       "      <td>0</td>\n",
       "      <td>3</td>\n",
       "    </tr>\n",
       "    <tr>\n",
       "      <th>4</th>\n",
       "      <td>0</td>\n",
       "      <td>4</td>\n",
       "    </tr>\n",
       "    <tr>\n",
       "      <th>...</th>\n",
       "      <td>...</td>\n",
       "      <td>...</td>\n",
       "    </tr>\n",
       "    <tr>\n",
       "      <th>10292</th>\n",
       "      <td>0</td>\n",
       "      <td>10292</td>\n",
       "    </tr>\n",
       "    <tr>\n",
       "      <th>10293</th>\n",
       "      <td>0</td>\n",
       "      <td>10293</td>\n",
       "    </tr>\n",
       "    <tr>\n",
       "      <th>10294</th>\n",
       "      <td>0</td>\n",
       "      <td>10294</td>\n",
       "    </tr>\n",
       "    <tr>\n",
       "      <th>10295</th>\n",
       "      <td>1</td>\n",
       "      <td>10295</td>\n",
       "    </tr>\n",
       "    <tr>\n",
       "      <th>10296</th>\n",
       "      <td>0</td>\n",
       "      <td>10296</td>\n",
       "    </tr>\n",
       "  </tbody>\n",
       "</table>\n",
       "<p>10297 rows × 2 columns</p>\n",
       "</div>"
      ],
      "text/plain": [
       "       y     id\n",
       "0      0      0\n",
       "1      0      1\n",
       "2      0      2\n",
       "3      0      3\n",
       "4      0      4\n",
       "...   ..    ...\n",
       "10292  0  10292\n",
       "10293  0  10293\n",
       "10294  0  10294\n",
       "10295  1  10295\n",
       "10296  0  10296\n",
       "\n",
       "[10297 rows x 2 columns]"
      ]
     },
     "execution_count": 39,
     "metadata": {},
     "output_type": "execute_result"
    }
   ],
   "source": [
    "#{'max_depth': 9, 'max_features': 0.8}\n",
    "rf_predictor2 = RandomForestClassifier(max_features=0.8, max_depth=9)\n",
    "rf_predictor2.fit(X,y)\n",
    "result2 = rf_predictor2.predict(test)\n",
    "result2 = pd.DataFrame(result2)\n",
    "result2['id'] = result2.index\n",
    "result2.rename(columns = {0:'y'}, inplace = True)\n",
    "result2"
   ]
  },
  {
   "cell_type": "code",
   "execution_count": 40,
   "id": "f4dcd1c5",
   "metadata": {},
   "outputs": [],
   "source": [
    "result2.to_csv('submission2.csv',index=False)"
   ]
  },
  {
   "cell_type": "code",
   "execution_count": 41,
   "id": "90da041d",
   "metadata": {},
   "outputs": [
    {
     "data": {
      "text/html": [
       "<div>\n",
       "<style scoped>\n",
       "    .dataframe tbody tr th:only-of-type {\n",
       "        vertical-align: middle;\n",
       "    }\n",
       "\n",
       "    .dataframe tbody tr th {\n",
       "        vertical-align: top;\n",
       "    }\n",
       "\n",
       "    .dataframe thead th {\n",
       "        text-align: right;\n",
       "    }\n",
       "</style>\n",
       "<table border=\"1\" class=\"dataframe\">\n",
       "  <thead>\n",
       "    <tr style=\"text-align: right;\">\n",
       "      <th></th>\n",
       "      <th>y</th>\n",
       "      <th>id</th>\n",
       "    </tr>\n",
       "  </thead>\n",
       "  <tbody>\n",
       "    <tr>\n",
       "      <th>0</th>\n",
       "      <td>0</td>\n",
       "      <td>0</td>\n",
       "    </tr>\n",
       "    <tr>\n",
       "      <th>1</th>\n",
       "      <td>0</td>\n",
       "      <td>1</td>\n",
       "    </tr>\n",
       "    <tr>\n",
       "      <th>2</th>\n",
       "      <td>0</td>\n",
       "      <td>2</td>\n",
       "    </tr>\n",
       "    <tr>\n",
       "      <th>3</th>\n",
       "      <td>0</td>\n",
       "      <td>3</td>\n",
       "    </tr>\n",
       "    <tr>\n",
       "      <th>4</th>\n",
       "      <td>0</td>\n",
       "      <td>4</td>\n",
       "    </tr>\n",
       "    <tr>\n",
       "      <th>...</th>\n",
       "      <td>...</td>\n",
       "      <td>...</td>\n",
       "    </tr>\n",
       "    <tr>\n",
       "      <th>10292</th>\n",
       "      <td>0</td>\n",
       "      <td>10292</td>\n",
       "    </tr>\n",
       "    <tr>\n",
       "      <th>10293</th>\n",
       "      <td>0</td>\n",
       "      <td>10293</td>\n",
       "    </tr>\n",
       "    <tr>\n",
       "      <th>10294</th>\n",
       "      <td>0</td>\n",
       "      <td>10294</td>\n",
       "    </tr>\n",
       "    <tr>\n",
       "      <th>10295</th>\n",
       "      <td>1</td>\n",
       "      <td>10295</td>\n",
       "    </tr>\n",
       "    <tr>\n",
       "      <th>10296</th>\n",
       "      <td>0</td>\n",
       "      <td>10296</td>\n",
       "    </tr>\n",
       "  </tbody>\n",
       "</table>\n",
       "<p>10297 rows × 2 columns</p>\n",
       "</div>"
      ],
      "text/plain": [
       "       y     id\n",
       "0      0      0\n",
       "1      0      1\n",
       "2      0      2\n",
       "3      0      3\n",
       "4      0      4\n",
       "...   ..    ...\n",
       "10292  0  10292\n",
       "10293  0  10293\n",
       "10294  0  10294\n",
       "10295  1  10295\n",
       "10296  0  10296\n",
       "\n",
       "[10297 rows x 2 columns]"
      ]
     },
     "execution_count": 41,
     "metadata": {},
     "output_type": "execute_result"
    }
   ],
   "source": [
    "#{'max_depth': 9, 'max_features': 0.8}\n",
    "rf_predictor3 = joblib.load('gbm_model3.joblib')\n",
    "result3 = rf_predictor3.predict(test)\n",
    "result3 = pd.DataFrame(result3)\n",
    "result3['id'] = result3.index\n",
    "result3.rename(columns = {0:'y'}, inplace = True)\n",
    "result3"
   ]
  },
  {
   "cell_type": "code",
   "execution_count": 42,
   "id": "720919b8",
   "metadata": {},
   "outputs": [],
   "source": [
    "result3.to_csv('submission3.csv',index=False)"
   ]
  },
  {
   "cell_type": "code",
   "execution_count": 43,
   "id": "2062fa98",
   "metadata": {},
   "outputs": [],
   "source": [
    "#'classifier': 'RandomForest', 'rf_n_estimators': 846, 'rf_max_features': 0.5, 'rf_max_depth': 10\n",
    "\n",
    "rf_predictor4 = RandomForestClassifier(n_estimators = 846, max_features=0.5, max_depth=10)\n",
    "rf_predictor4.fit(X,y)\n",
    "result4 = rf_predictor4.predict(test)\n",
    "result4 = pd.DataFrame(result4)\n",
    "result4['id'] = result4.index\n",
    "result4.rename(columns = {0:'y'}, inplace = True)\n",
    "result4\n",
    "result4.to_csv('submission4.csv',index=False)"
   ]
  },
  {
   "cell_type": "code",
   "execution_count": 47,
   "id": "7a8bc790",
   "metadata": {},
   "outputs": [],
   "source": [
    "#max_features=0.6,max_depth=10\n",
    "rf_predictor5 = joblib.load('gbm_model3.joblib')\n",
    "result5 = rf_predictor5.predict(test)\n",
    "result5 = pd.DataFrame(result5)\n",
    "result5['id'] = result5.index\n",
    "result5.rename(columns = {0:'y'}, inplace = True)\n",
    "result5\n",
    "result5.to_csv('submission5.csv',index=False)"
   ]
  },
  {
   "cell_type": "code",
   "execution_count": 48,
   "id": "3b18256d",
   "metadata": {},
   "outputs": [],
   "source": [
    "#{'max_depth': 9, 'max_features': 0.8}\n",
    "gbm = joblib.load('gbm_model3.joblib')\n",
    "result6 = gbm.predict(test)\n",
    "result6 = pd.DataFrame(result6)\n",
    "result6['id'] = result6.index\n",
    "result6.rename(columns = {0:'y'}, inplace = True)\n",
    "result6.to_csv('submission6.csv',index=False)"
   ]
  },
  {
   "cell_type": "code",
   "execution_count": 8,
   "id": "1d87829f",
   "metadata": {},
   "outputs": [],
   "source": [
    "from sklearn.ensemble import GradientBoostingClassifier\n",
    "gbm = GradientBoostingClassifier(max_depth=4,max_features=0.5)\n",
    "gbm.fit(X,y)\n",
    "result6 = gbm.predict(test)\n",
    "result6 = pd.DataFrame(result6)\n",
    "result6['id'] = result6.index\n",
    "result6.rename(columns = {0:'y'}, inplace = True)\n",
    "result6.to_csv('submission6.csv',index=False)"
   ]
  },
  {
   "cell_type": "code",
   "execution_count": 9,
   "id": "84d71a14",
   "metadata": {},
   "outputs": [],
   "source": [
    "from sklearn.neural_network import MLPClassifier\n",
    "mlp_gs = MLPClassifier(max_iter=100, activation='relu',alpha=0.05,hidden_layer_sizes=(10,30,10),learning_rate='adaptive',solver='adam')\n",
    "mlp_gs.fit(X,y)\n",
    "result7 = mlp_gs.predict(test)\n",
    "result7 = pd.DataFrame(result7)\n",
    "result7['id'] = result7.index\n",
    "result7.rename(columns = {0:'y'}, inplace = True)\n",
    "result7.to_csv('submission7.csv',index=False)"
   ]
  },
  {
   "cell_type": "code",
   "execution_count": 6,
   "id": "c0867292",
   "metadata": {},
   "outputs": [],
   "source": [
    "#'classifier': 'GBC', 'max_depth': 3, 'max_features': 0.7\n",
    "from sklearn.ensemble import GradientBoostingClassifier\n",
    "gbm = GradientBoostingClassifier(max_depth=3,max_features=0.7)\n",
    "gbm.fit(X,y)\n",
    "result7 = gbm.predict(test)\n",
    "result7 = pd.DataFrame(result7)\n",
    "result7['id'] = result7.index\n",
    "result7.rename(columns = {0:'y'}, inplace = True)\n",
    "result7.to_csv('submission7.csv',index=False)"
   ]
  },
  {
   "cell_type": "code",
   "execution_count": 13,
   "id": "59deff39",
   "metadata": {},
   "outputs": [],
   "source": [
    "#{'classifier': 'RandomForest', 'rf_n_estimators': 689, 'rf_max_features': 0.7, 'rf_max_depth': 10}\n",
    "from sklearn.ensemble import RandomForestClassifier\n",
    "rf = RandomForestClassifier(n_estimators=689, max_depth=10,max_features=0.7)\n",
    "rf.fit(X,y)\n",
    "result8 = rf.predict(test)\n",
    "result8 = pd.DataFrame(result8)\n",
    "result8['id'] = result8.index\n",
    "result8.rename(columns = {0:'y'}, inplace = True)\n",
    "result8.to_csv('submission8.csv',index=False)"
   ]
  },
  {
   "cell_type": "code",
   "execution_count": 12,
   "id": "2faec4cd",
   "metadata": {},
   "outputs": [
    {
     "data": {
      "application/javascript": [
       "\n",
       "        if (window._pyforest_update_imports_cell) { window._pyforest_update_imports_cell('import matplotlib.pyplot as plt'); }\n",
       "    "
      ],
      "text/plain": [
       "<IPython.core.display.Javascript object>"
      ]
     },
     "metadata": {},
     "output_type": "display_data"
    },
    {
     "data": {
      "application/javascript": [
       "\n",
       "        if (window._pyforest_update_imports_cell) { window._pyforest_update_imports_cell('import matplotlib.pyplot as plt'); }\n",
       "    "
      ],
      "text/plain": [
       "<IPython.core.display.Javascript object>"
      ]
     },
     "metadata": {},
     "output_type": "display_data"
    },
    {
     "data": {
      "application/javascript": [
       "\n",
       "        if (window._pyforest_update_imports_cell) { window._pyforest_update_imports_cell('import matplotlib.pyplot as plt'); }\n",
       "    "
      ],
      "text/plain": [
       "<IPython.core.display.Javascript object>"
      ]
     },
     "metadata": {},
     "output_type": "display_data"
    },
    {
     "data": {
      "image/png": "[encoded data removed]",
      "text/plain": [
       "<Figure size 1080x576 with 1 Axes>"
      ]
     },
     "metadata": {
      "needs_background": "light"
     },
     "output_type": "display_data"
    }
   ],
   "source": [
    "plt.figure(figsize=(15, 8))\n",
    "plt.barh(y=X.columns,\n",
    "         width=gbm.feature_importances_)\n",
    "plt.show()"
   ]
  },
  {
   "cell_type": "code",
   "execution_count": 24,
   "id": "13aa9596",
   "metadata": {},
   "outputs": [],
   "source": [
    "#{'classifier': 'RandomForest', 'rf_n_estimators': 618, 'rf_max_features': 0.7, 'rf_max_depth': 7}.\n",
    "clean = df.copy()\n",
    "clean1 = test.copy()\n",
    "from sklearn.preprocessing import MinMaxScaler\n",
    "scaler = MinMaxScaler()\n",
    "col_names = ['duration','nr.employed']\n",
    "features = clean[col_names]\n",
    "features1 = clean1[col_names]\n",
    "clean[col_names] = scaler.fit_transform(features.values)\n",
    "clean1[col_names] = scaler.fit_transform(features1.values)\n",
    "X = clean[clean.columns.drop('y')]\n",
    "y = clean['y']\n",
    "from sklearn.ensemble import RandomForestClassifier\n",
    "rf = RandomForestClassifier(n_estimators=618, max_depth=7,max_features=0.7)\n",
    "rf.fit(X,y)\n",
    "result9 = rf.predict(clean1)\n",
    "result9 = pd.DataFrame(result9)\n",
    "result9['id'] = result9.index\n",
    "result9.rename(columns = {0:'y'}, inplace = True)\n",
    "result9.to_csv('submission9.csv',index=False)"
   ]
  },
  {
   "cell_type": "code",
   "execution_count": 20,
   "id": "38ea7f2a",
   "metadata": {},
   "outputs": [
    {
     "data": {
      "application/javascript": [
       "\n",
       "        if (window._pyforest_update_imports_cell) { window._pyforest_update_imports_cell('import matplotlib.pyplot as plt\\nfrom sklearn.model_selection import GridSearchCV'); }\n",
       "    "
      ],
      "text/plain": [
       "<IPython.core.display.Javascript object>"
      ]
     },
     "metadata": {},
     "output_type": "display_data"
    },
    {
     "name": "stdout",
     "output_type": "stream",
     "text": [
      "Best: 0.908355 using {'activation': 'relu', 'alpha': 0.01, 'hidden_layer_sizes': (20,), 'learning_rate': 'constant', 'solver': 'adam'}\n",
      "Execution time: 1780.1341800689697 ms\n"
     ]
    }
   ],
   "source": [
    "from sklearn.neural_network import MLPClassifier\n",
    "import time\n",
    "mlp_gs = MLPClassifier(max_iter=150)\n",
    "parameter_space = {\n",
    "    'hidden_layer_sizes': [(10,30,10),(20,),(5,2),(7,1)],\n",
    "    'activation': ['tanh', 'relu'],\n",
    "    'solver': ['sgd', 'adam','lbfgs'],\n",
    "    'alpha': [0.05,1e-4, 0.001, 1e-2, 0.1, 1, 10, 100, 1000,10000],\n",
    "    'learning_rate': ['constant','adaptive'],\n",
    "}\n",
    "clf = GridSearchCV(mlp_gs, parameter_space, n_jobs=-1, cv=5)\n",
    "start_time = time.time()\n",
    "grid_result = clf.fit(X, y)\n",
    "\n",
    "# Summarize results\n",
    "print(\"Best: %f using %s\" % (grid_result.best_score_, grid_result.best_params_))\n",
    "print(\"Execution time: \" + str((time.time() - start_time)) + ' ms')"
   ]
  },
  {
   "cell_type": "code",
   "execution_count": 2,
   "id": "66765087",
   "metadata": {},
   "outputs": [
    {
     "name": "stderr",
     "output_type": "stream",
     "text": [
      "C:\\Users\\kvray\\anaconda3\\lib\\site-packages\\dask\\dataframe\\utils.py:369: FutureWarning: pandas.Int64Index is deprecated and will be removed from pandas in a future version. Use pandas.Index with the appropriate dtype instead.\n",
      "  _numeric_index_types = (pd.Int64Index, pd.Float64Index, pd.UInt64Index)\n",
      "C:\\Users\\kvray\\anaconda3\\lib\\site-packages\\dask\\dataframe\\utils.py:369: FutureWarning: pandas.Float64Index is deprecated and will be removed from pandas in a future version. Use pandas.Index with the appropriate dtype instead.\n",
      "  _numeric_index_types = (pd.Int64Index, pd.Float64Index, pd.UInt64Index)\n",
      "C:\\Users\\kvray\\anaconda3\\lib\\site-packages\\dask\\dataframe\\utils.py:369: FutureWarning: pandas.UInt64Index is deprecated and will be removed from pandas in a future version. Use pandas.Index with the appropriate dtype instead.\n",
      "  _numeric_index_types = (pd.Int64Index, pd.Float64Index, pd.UInt64Index)\n"
     ]
    }
   ],
   "source": [
    "from lightgbm import LGBMClassifier"
   ]
  },
  {
   "cell_type": "code",
   "execution_count": 23,
   "id": "bb16937f",
   "metadata": {},
   "outputs": [],
   "source": [
    "#{'classifier': 'LightGBM', 'rf_n_estimators': 56, 'rf_max_features': 0.7, 'rf_max_depth': 22}\n",
    "lgbm = LGBMClassifier(max_depth=22, n_estimators=56)\n",
    "lgbm.fit(X,y)\n",
    "result10 = lgbm.predict(clean1)\n",
    "result10 = pd.DataFrame(result10)\n",
    "result10['id'] = result10.index\n",
    "result10.rename(columns = {0:'y'}, inplace = True)\n",
    "result10.to_csv('submission10.csv',index=False)\n"
   ]
  },
  {
   "cell_type": "code",
   "execution_count": null,
   "id": "8baa8f14",
   "metadata": {},
   "outputs": [],
   "source": [
    "#{'classifier': 'LightGBM', 'rf_n_estimators': 56, 'rf_max_features': 0.7, 'rf_max_depth': 22}\n",
    "lgbm = LGBMClassifier(max_depth=22, n_estimators=56)\n",
    "lgbm.fit(X,y)\n",
    "result10 = lgbm.predict(clean1)\n",
    "result10 = pd.DataFrame(result10)\n",
    "result10['id'] = result10.index\n",
    "result10.rename(columns = {0:'y'}, inplace = True)\n",
    "result10.to_csv('submission10.csv',index=False)"
   ]
  },
  {
   "cell_type": "code",
   "execution_count": 6,
   "id": "ca3ffb16",
   "metadata": {},
   "outputs": [],
   "source": [
    "from xgboost import XGBClassifier"
   ]
  },
  {
   "cell_type": "code",
   "execution_count": 7,
   "id": "97b9cd78",
   "metadata": {},
   "outputs": [],
   "source": [
    "#{'n_estimators': 499, \n",
    " #'max_depth': 12, \n",
    "# 'reg_alpha': 3, \n",
    "# 'reg_lambda': 0, \n",
    "# 'min_child_weight': 4, \n",
    "# 'gamma': 4, 'learning_rate': 0.027027066604850287, 'colsample_bytree': 0.59}\n",
    "xgbm = XGBClassifier(n_estimators = 499, max_depth = 12, reg_alpha=3,reg_lambda=0,min_child_weight =4, gamma =4,\n",
    "                     learning_rate = 0.027027066604850287, colsample_bytree= 0.59)\n",
    "xgbm.fit(X,y)\n",
    "result11 = xgbm.predict(test)\n",
    "result11 = pd.DataFrame(result11)\n",
    "result11['id'] = result11.index\n",
    "result11.rename(columns = {0:'y'}, inplace = True)\n",
    "result11.to_csv('submission11.csv',index=False)"
   ]
  },
  {
   "cell_type": "code",
   "execution_count": 17,
   "id": "a6a6f13e",
   "metadata": {},
   "outputs": [],
   "source": [
    "#{'n_estimators': 278, 'max_depth': 24, 'reg_alpha': 4, 'reg_lambda': 0, 'min_child_weight': 1, 'gamma': 4, 'learning_rate': 0.059777468839317824}\n",
    "xgbm1 = XGBClassifier(n_estimators = 278, max_depth = 24, reg_alpha=4,reg_lambda=0,min_child_weight =1, gamma =4,\n",
    "                     learning_rate = 0.059777468839317824)\n",
    "xgbm1.fit(X,y)\n",
    "result12 = xgbm1.predict(test)\n",
    "result12 = pd.DataFrame(result12)\n",
    "result12['id'] = result12.index\n",
    "result12.rename(columns = {0:'y'}, inplace = True)\n",
    "result12.to_csv('submission12.csv',index=False)"
   ]
  },
  {
   "cell_type": "code",
   "execution_count": 19,
   "id": "a2b8d6c7",
   "metadata": {},
   "outputs": [],
   "source": [
    "#{'n_estimators': 296, 'max_depth': 6, 'reg_alpha': 4, 'reg_lambda': 2, 'min_child_weight': 2, 'gamma': 3, 'learning_rate': 0.21548481342927628}\n",
    "xgbm2 = XGBClassifier(n_estimators = 296, max_depth = 6, reg_alpha=4,reg_lambda=2,min_child_weight =2, gamma =3,\n",
    "                     learning_rate = 0.21548481342927628)\n",
    "xgbm2.fit(X,y)\n",
    "result13 = xgbm2.predict(test)\n",
    "result13 = pd.DataFrame(result13)\n",
    "result13['id'] = result13.index\n",
    "result13.rename(columns = {0:'y'}, inplace = True)\n",
    "result13.to_csv('submission13.csv',index=False)"
   ]
  },
  {
   "cell_type": "code",
   "execution_count": 20,
   "id": "86cec493",
   "metadata": {},
   "outputs": [],
   "source": [
    "#{'n_estimators': 726, 'max_depth': 20, 'reg_alpha': 5, 'reg_lambda': 3, 'min_child_weight': 3, 'gamma': 3, 'learning_rate': 0.11980502413765114}\n",
    "xgbm3 = XGBClassifier(n_estimators = 726, max_depth = 20, reg_alpha=5,reg_lambda=3,min_child_weight =3, gamma =3,\n",
    "                     learning_rate = 0.11980502413765114)\n",
    "xgbm3.fit(X,y)\n",
    "result14 = xgbm3.predict(test)\n",
    "result14 = pd.DataFrame(result14)\n",
    "result14['id'] = result14.index\n",
    "result14.rename(columns = {0:'y'}, inplace = True)\n",
    "result14.to_csv('submission14.csv',index=False)"
   ]
  },
  {
   "cell_type": "code",
   "execution_count": 27,
   "id": "13b724ca",
   "metadata": {},
   "outputs": [
    {
     "name": "stderr",
     "output_type": "stream",
     "text": [
      "ERROR: Could not find a version that satisfies the requirement dal\n",
      "ERROR: No matching distribution found for dal\n"
     ]
    }
   ],
   "source": [
    "!pip install dal"
   ]
  },
  {
   "cell_type": "code",
   "execution_count": null,
   "id": "72bec584",
   "metadata": {},
   "outputs": [],
   "source": []
  }
 ],
 "metadata": {
  "kernelspec": {
   "display_name": "Python 3 (ipykernel)",
   "language": "python",
   "name": "python3"
  },
  "language_info": {
   "codemirror_mode": {
    "name": "ipython",
    "version": 3
   },
   "file_extension": ".py",
   "mimetype": "text/x-python",
   "name": "python",
   "nbconvert_exporter": "python",
   "pygments_lexer": "ipython3",
   "version": "3.7.12"
  }
 },
 "nbformat": 4,
 "nbformat_minor": 5
}
